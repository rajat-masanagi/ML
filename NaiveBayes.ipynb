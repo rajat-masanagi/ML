{
 "cells": [
  {
   "cell_type": "code",
   "execution_count": 9,
   "id": "fbf09408",
   "metadata": {},
   "outputs": [],
   "source": [
    "import pandas as pd \n",
    "import numpy as np\n",
    "from sklearn.model_selection import train_test_split\n",
    "from sklearn.metrics import accuracy_score\n",
    "from sklearn.datasets import load_iris"
   ]
  },
  {
   "cell_type": "code",
   "execution_count": 6,
   "id": "e4457a0a",
   "metadata": {},
   "outputs": [],
   "source": [
    "class NaiveBayes:\n",
    "    def __init__(self):\n",
    "        self.classes = None         # Unique class labels\n",
    "        self.mean = {}              # Mean of each feature per class\n",
    "        self.var = {}               # Variance of each feature per class\n",
    "        self.priors = {}            # Prior probability of each class\n",
    "\n",
    "    def fit(self, X, y):\n",
    "        self.classes = np.unique(y)  # Get all class labels\n",
    "\n",
    "        for c in self.classes:\n",
    "            X_c = X[y == c]                     # Select rows where class == c\n",
    "            self.mean[c] = X_c.mean(axis=0)     # Mean of each feature\n",
    "            self.var[c] = X_c.var(axis=0) + 1e-9  # Variance (add small value to avoid /0)\n",
    "            self.priors[c] = len(X_c) / len(X)  # Prior = count of class c / total samples\n",
    "\n",
    "    def predict(self, X):\n",
    "        predictions = []\n",
    "\n",
    "        for x in X:\n",
    "            class_probs = {}\n",
    "\n",
    "            for c in self.classes:\n",
    "                prior = np.log(self.priors[c])  # log(P(class))\n",
    "                \n",
    "                # Compute log Gaussian likelihood for each feature\n",
    "                numerator = - (x - self.mean[c])**2 / (2 * self.var[c])\n",
    "                denominator = np.log(np.sqrt(2 * np.pi * self.var[c]))\n",
    "                total_log_likelihood = np.sum(numerator - denominator)\n",
    "\n",
    "                class_probs[c] = prior + total_log_likelihood  # log(P(class) * P(x|class))\n",
    "\n",
    "            predictions.append(max(class_probs, key=class_probs.get))  # Choose highest probability class\n",
    "\n",
    "        return np.array(predictions)\n"
   ]
  },
  {
   "cell_type": "code",
   "execution_count": null,
   "id": "4099c011",
   "metadata": {},
   "outputs": [
    {
     "name": "stdout",
     "output_type": "stream",
     "text": [
      "Accuracy: 0.9666666666666667\n"
     ]
    }
   ],
   "source": [
    "data = load_iris()\n",
    "X, y = data.data, data.target\n",
    "\n",
    "X_train, X_test, y_train, y_test = train_test_split(X, y, test_size=0.2, random_state=0)\n",
    "\n",
    "model = NaiveBayes()\n",
    "model.fit(X_train, y_train)\n",
    "predictions = model.predict(X_test)\n",
    "\n",
    "print(\"Accuracy:\", (predictions == y_test).mean())"
   ]
  }
 ],
 "metadata": {
  "kernelspec": {
   "display_name": "env",
   "language": "python",
   "name": "python3"
  },
  "language_info": {
   "codemirror_mode": {
    "name": "ipython",
    "version": 3
   },
   "file_extension": ".py",
   "mimetype": "text/x-python",
   "name": "python",
   "nbconvert_exporter": "python",
   "pygments_lexer": "ipython3",
   "version": "3.13.3"
  }
 },
 "nbformat": 4,
 "nbformat_minor": 5
}
