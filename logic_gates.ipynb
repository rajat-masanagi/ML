{
 "cells": [
  {
   "cell_type": "code",
   "execution_count": 88,
   "metadata": {},
   "outputs": [],
   "source": [
    "import numpy as np"
   ]
  },
  {
   "cell_type": "code",
   "execution_count": 89,
   "metadata": {},
   "outputs": [
    {
     "name": "stdout",
     "output_type": "stream",
     "text": [
      "[[0 0]\n",
      " [1 0]\n",
      " [0 1]\n",
      " [1 1]]\n"
     ]
    }
   ],
   "source": [
    "xin=np.array([[0,0],[1,0],[0,1],[1,1]])\n",
    "print(xin)"
   ]
  },
  {
   "cell_type": "code",
   "execution_count": 90,
   "metadata": {},
   "outputs": [
    {
     "name": "stdout",
     "output_type": "stream",
     "text": [
      "[0 1]\n"
     ]
    }
   ],
   "source": [
    "xn=np.array([0,1])\n",
    "print(xn)"
   ]
  },
  {
   "cell_type": "code",
   "execution_count": 91,
   "metadata": {},
   "outputs": [],
   "source": [
    "def activation_function(yin):\n",
    "    if yin>=0:\n",
    "        return 1\n",
    "    else:\n",
    "        return 0"
   ]
  },
  {
   "cell_type": "code",
   "execution_count": 92,
   "metadata": {},
   "outputs": [],
   "source": [
    "def neuron(x,w,b):\n",
    "    y=np.dot(x,w)+b\n",
    "    yi=activation_function(y)\n",
    "    return yi"
   ]
  },
  {
   "cell_type": "markdown",
   "metadata": {},
   "source": [
    "AND\n",
    "\n",
    "w = 1,1 \n",
    "\n",
    "b = -1.5"
   ]
  },
  {
   "cell_type": "code",
   "execution_count": 93,
   "metadata": {},
   "outputs": [],
   "source": [
    "def AND(x):\n",
    "    w=np.array([1,1])\n",
    "    b=-1.5\n",
    "    y=neuron(x,w,b)\n",
    "    return y"
   ]
  },
  {
   "cell_type": "code",
   "execution_count": 94,
   "metadata": {},
   "outputs": [
    {
     "name": "stdout",
     "output_type": "stream",
     "text": [
      "x1   x2   y\n",
      "0    0    0\n",
      "1    0    0\n",
      "0    1    0\n",
      "1    1    1\n"
     ]
    }
   ],
   "source": [
    "print('x1   x2   y')\n",
    "for i in xin:\n",
    "    print(i[0],i[1],sep='    ',end='    ')\n",
    "    print(AND(i))"
   ]
  },
  {
   "cell_type": "markdown",
   "metadata": {},
   "source": [
    "OR\n",
    "\n",
    "w = 1,1 \n",
    "\n",
    "b = -0.5"
   ]
  },
  {
   "cell_type": "code",
   "execution_count": 95,
   "metadata": {},
   "outputs": [],
   "source": [
    "def OR(x):\n",
    "    w=np.array([1,1])\n",
    "    b=-0.5\n",
    "    y=neuron(x,w,b)\n",
    "    return y\n",
    "    "
   ]
  },
  {
   "cell_type": "code",
   "execution_count": 96,
   "metadata": {},
   "outputs": [
    {
     "name": "stdout",
     "output_type": "stream",
     "text": [
      "x1   x2   y\n",
      "0    0    0\n",
      "1    0    1\n",
      "0    1    1\n",
      "1    1    1\n"
     ]
    }
   ],
   "source": [
    "print('x1   x2   y')\n",
    "for i in xin:\n",
    "    print(i[0],i[1],sep='    ',end='    ')\n",
    "    print(OR(i))"
   ]
  },
  {
   "cell_type": "markdown",
   "metadata": {},
   "source": [
    "NOT\n",
    "\n",
    "w = -1\n",
    "\n",
    "b = 0.5"
   ]
  },
  {
   "cell_type": "code",
   "execution_count": 97,
   "metadata": {},
   "outputs": [],
   "source": [
    "def NOT(x):\n",
    "    w=np.array([-1])\n",
    "    b=0.5\n",
    "    y=neuron(x,w,b)\n",
    "    return y"
   ]
  },
  {
   "cell_type": "code",
   "execution_count": 98,
   "metadata": {},
   "outputs": [
    {
     "name": "stdout",
     "output_type": "stream",
     "text": [
      "x    y\n",
      "0    1\n",
      "1    0\n"
     ]
    }
   ],
   "source": [
    "print('x    y')\n",
    "for i in xn:\n",
    "    y=NOT(i)\n",
    "    print(i,y,sep='    ')"
   ]
  },
  {
   "cell_type": "markdown",
   "metadata": {},
   "source": [
    "NAND\n",
    "\n",
    "Either Combination of NOT and AND \n",
    "\n",
    "or\n",
    "\n",
    "w = -1,-1\n",
    "\n",
    "b = 1.5"
   ]
  },
  {
   "cell_type": "code",
   "execution_count": 107,
   "metadata": {},
   "outputs": [],
   "source": [
    "def NAND(x):\n",
    "    y=AND(x)\n",
    "    yi=NOT(y)\n",
    "    return yi"
   ]
  },
  {
   "cell_type": "code",
   "execution_count": 100,
   "metadata": {},
   "outputs": [
    {
     "name": "stdout",
     "output_type": "stream",
     "text": [
      "x1   x2   y\n",
      "0    0    1\n",
      "1    0    1\n",
      "0    1    1\n",
      "1    1    0\n"
     ]
    }
   ],
   "source": [
    "print('x1   x2   y')\n",
    "for i in xin:\n",
    "    print(i[0],i[1],sep='    ',end='    ')\n",
    "    print(NAND(i))"
   ]
  },
  {
   "cell_type": "markdown",
   "metadata": {},
   "source": [
    "NOR\n",
    "\n",
    "Either combination of OR and NOT\n",
    "\n",
    "or \n",
    "\n",
    "w = -1,-1\n",
    "\n",
    "b = 0.5"
   ]
  },
  {
   "cell_type": "code",
   "execution_count": 101,
   "metadata": {},
   "outputs": [],
   "source": [
    "def NOR(x):\n",
    "    y=OR(x)\n",
    "    yi=NOT(y)\n",
    "    return yi"
   ]
  },
  {
   "cell_type": "code",
   "execution_count": 102,
   "metadata": {},
   "outputs": [
    {
     "name": "stdout",
     "output_type": "stream",
     "text": [
      "x1   x2   y\n",
      "0    0    1\n",
      "1    0    0\n",
      "0    1    0\n",
      "1    1    0\n"
     ]
    }
   ],
   "source": [
    "print('x1   x2   y')\n",
    "for i in xin:\n",
    "    print(i[0],i[1],sep='    ',end='    ')\n",
    "    print(NOR(i))"
   ]
  },
  {
   "cell_type": "markdown",
   "metadata": {},
   "source": [
    "XOR\n",
    "\n",
    "Combination of NAND and OR into AND gate"
   ]
  },
  {
   "cell_type": "code",
   "execution_count": 103,
   "metadata": {},
   "outputs": [],
   "source": [
    "def XOR(x):\n",
    "    y1=OR(x)\n",
    "    y2=NAND(x)\n",
    "    y=AND(np.array([y1,y2]))\n",
    "    return y"
   ]
  },
  {
   "cell_type": "code",
   "execution_count": 104,
   "metadata": {},
   "outputs": [
    {
     "name": "stdout",
     "output_type": "stream",
     "text": [
      "x1   x2   y\n",
      "0    0    0\n",
      "1    0    1\n",
      "0    1    1\n",
      "1    1    0\n"
     ]
    }
   ],
   "source": [
    "print('x1   x2   y')\n",
    "for i in xin:\n",
    "    print(i[0],i[1],sep='    ',end='    ')\n",
    "    print(XOR(i))"
   ]
  },
  {
   "cell_type": "markdown",
   "metadata": {},
   "source": [
    "Expanded version of XOR"
   ]
  },
  {
   "cell_type": "code",
   "execution_count": 105,
   "metadata": {},
   "outputs": [],
   "source": [
    "def XORs(x):\n",
    "    w1=np.array([-1,-1])\n",
    "    b1=1.5\n",
    "    w2=np.array([1,1])\n",
    "    b2=-0.5\n",
    "    wo=np.array([1,1])\n",
    "    bo=-1.5\n",
    "    y1=neuron(x,w1,b1)\n",
    "    y2=neuron(x,w2,b2)\n",
    "    xo=np.array([y1,y2])\n",
    "    y=neuron(xo,wo,bo)\n",
    "    return y\n",
    "    "
   ]
  },
  {
   "cell_type": "code",
   "execution_count": 106,
   "metadata": {},
   "outputs": [
    {
     "name": "stdout",
     "output_type": "stream",
     "text": [
      "x1   x2   y\n",
      "0    0    0\n",
      "1    0    1\n",
      "0    1    1\n",
      "1    1    0\n"
     ]
    }
   ],
   "source": [
    "print('x1   x2   y')\n",
    "for i in xin:\n",
    "    print(i[0],i[1],sep='    ',end='    ')\n",
    "    print(XORs(i))"
   ]
  }
 ],
 "metadata": {
  "kernelspec": {
   "display_name": "env",
   "language": "python",
   "name": "python3"
  },
  "language_info": {
   "codemirror_mode": {
    "name": "ipython",
    "version": 3
   },
   "file_extension": ".py",
   "mimetype": "text/x-python",
   "name": "python",
   "nbconvert_exporter": "python",
   "pygments_lexer": "ipython3",
   "version": "3.11.0"
  }
 },
 "nbformat": 4,
 "nbformat_minor": 2
}
