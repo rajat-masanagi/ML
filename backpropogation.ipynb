{
 "cells": [
  {
   "cell_type": "code",
   "execution_count": 210,
   "metadata": {},
   "outputs": [],
   "source": [
    "import numpy as np \n",
    "import pandas as pd \n",
    "import matplotlib.pyplot as plt \n",
    "import sklearn "
   ]
  },
  {
   "cell_type": "code",
   "execution_count": 201,
   "metadata": {},
   "outputs": [],
   "source": [
    "np.random.seed(42)"
   ]
  },
  {
   "cell_type": "code",
   "execution_count": 207,
   "metadata": {},
   "outputs": [],
   "source": [
    "from sklearn.model_selection import train_test_split\n",
    "from sklearn.metrics import accuracy_score, mean_squared_error\n",
    "from sklearn.datasets import load_iris\n",
    "from sklearn.preprocessing import StandardScaler, OneHotEncoder"
   ]
  },
  {
   "cell_type": "code",
   "execution_count": 194,
   "metadata": {},
   "outputs": [
    {
     "data": {
      "text/plain": [
       "array([0, 0, 0, 0, 0, 0, 0, 0, 0, 0, 0, 0, 0, 0, 0, 0, 0, 0, 0, 0, 0, 0,\n",
       "       0, 0, 0, 0, 0, 0, 0, 0, 0, 0, 0, 0, 0, 0, 0, 0, 0, 0, 0, 0, 0, 0,\n",
       "       0, 0, 0, 0, 0, 0, 1, 1, 1, 1, 1, 1, 1, 1, 1, 1, 1, 1, 1, 1, 1, 1,\n",
       "       1, 1, 1, 1, 1, 1, 1, 1, 1, 1, 1, 1, 1, 1, 1, 1, 1, 1, 1, 1, 1, 1,\n",
       "       1, 1, 1, 1, 1, 1, 1, 1, 1, 1, 1, 1, 2, 2, 2, 2, 2, 2, 2, 2, 2, 2,\n",
       "       2, 2, 2, 2, 2, 2, 2, 2, 2, 2, 2, 2, 2, 2, 2, 2, 2, 2, 2, 2, 2, 2,\n",
       "       2, 2, 2, 2, 2, 2, 2, 2, 2, 2, 2, 2, 2, 2, 2, 2, 2, 2])"
      ]
     },
     "execution_count": 194,
     "metadata": {},
     "output_type": "execute_result"
    }
   ],
   "source": [
    "data=load_iris()\n",
    "X=data.data\n",
    "y=data.target\n",
    "y"
   ]
  },
  {
   "cell_type": "code",
   "execution_count": 195,
   "metadata": {},
   "outputs": [],
   "source": [
    "y=OneHotEncoder(sparse_output=False).fit_transform(y.reshape(-1,1))"
   ]
  },
  {
   "cell_type": "code",
   "execution_count": 196,
   "metadata": {},
   "outputs": [
    {
     "data": {
      "text/plain": [
       "(150, 3)"
      ]
     },
     "execution_count": 196,
     "metadata": {},
     "output_type": "execute_result"
    }
   ],
   "source": [
    "y.shape"
   ]
  },
  {
   "cell_type": "code",
   "execution_count": 197,
   "metadata": {},
   "outputs": [],
   "source": [
    "sc=StandardScaler()\n",
    "X=sc.fit_transform(X)"
   ]
  },
  {
   "cell_type": "code",
   "execution_count": 198,
   "metadata": {},
   "outputs": [],
   "source": [
    "X_train, X_test, y_train, y_test = train_test_split(X, y, test_size=0.33, random_state=42)"
   ]
  },
  {
   "cell_type": "code",
   "execution_count": 211,
   "metadata": {},
   "outputs": [],
   "source": [
    "def sigmoid(y):\n",
    "    return 1/(1+np.exp(-y))"
   ]
  },
  {
   "cell_type": "code",
   "execution_count": 212,
   "metadata": {},
   "outputs": [],
   "source": [
    "def neuron(x,w,b):\n",
    "    y=np.dot(x,w)+b\n",
    "    return sigmoid(y)"
   ]
  },
  {
   "cell_type": "code",
   "execution_count": null,
   "metadata": {},
   "outputs": [],
   "source": [
    "def backpropogation(x,y,epochs=100,lr=0.01):\n",
    "    \n",
    "    input_size=x.shape[1]\n",
    "    hidden_size=10\n",
    "    output_size=y.shape[1]\n",
    "    \n",
    "    w1=np.random.randn(input_size,hidden_size)\n",
    "    w2=np.random.randn(hidden_size,output_size)\n",
    "    b1=np.random.randn(hidden_size)\n",
    "    b2=np.random.randn(output_size)\n",
    "    \n",
    "    mses=[]\n",
    "    acc=[]\n",
    "    \n",
    "    for i in range(epochs):\n",
    "        \n",
    "        a1=neuron(x,w1,b1)\n",
    "        a2=neuron(a1,w2,b2)\n",
    "        \n",
    "        mse=mean_squared_error(y,a2)\n",
    "        \n",
    "        d2 = (a2-y)*a2*(1-a2)\n",
    "        dw2= np.dot(a1.T,d2)\n",
    "        db2= np.sum(d2,axis=0)\n",
    "        \n",
    "        d1= np.dot(d2,w2.T)*a1*(1-a1)\n",
    "        dw1=np.dot(x.T,d1)\n",
    "        db1=np.sum(d1,axis=0)\n",
    "        \n",
    "        w1=w1-lr*dw1\n",
    "        w2=w2-lr*dw2\n",
    "        \n",
    "        b1=b1-lr*db1\n",
    "        b2=b2-lr*db2\n",
    "        \n",
    "        predictions=np.argmax(a2,axis=1)\n",
    "        true_labels=np.argmax(y,axis=1)\n",
    "        \n",
    "        accuracy=accuracy_score(predictions,true_labels)\n",
    "        \n",
    "        acc.append(accuracy)\n",
    "        mses.append(mse)\n",
    "    \n",
    "        print(f\"Epoch {i+1}:    MSE: {mse:.4f}      Accuracy: {accuracy:.4f}\")\n",
    "        \n",
    "    # print(w1.shape,w2.shape,b1.shape,b2.shape,a1.shape,a2.shape)\n",
    "    "
   ]
  },
  {
   "cell_type": "code",
   "execution_count": 220,
   "metadata": {},
   "outputs": [
    {
     "name": "stdout",
     "output_type": "stream",
     "text": [
      "(4, 10) (10, 3) (10,) (3,) (100, 10) (100, 3)\n"
     ]
    }
   ],
   "source": [
    "backpropogation(X_train,y_train,epochs=1000,lr=0.01)"
   ]
  },
  {
   "cell_type": "code",
   "execution_count": 221,
   "metadata": {},
   "outputs": [
    {
     "data": {
      "text/plain": [
       "100"
      ]
     },
     "execution_count": 221,
     "metadata": {},
     "output_type": "execute_result"
    }
   ],
   "source": [
    "len(X_train)"
   ]
  },
  {
   "cell_type": "code",
   "execution_count": null,
   "metadata": {},
   "outputs": [],
   "source": []
  }
 ],
 "metadata": {
  "kernelspec": {
   "display_name": "env",
   "language": "python",
   "name": "python3"
  },
  "language_info": {
   "codemirror_mode": {
    "name": "ipython",
    "version": 3
   },
   "file_extension": ".py",
   "mimetype": "text/x-python",
   "name": "python",
   "nbconvert_exporter": "python",
   "pygments_lexer": "ipython3",
   "version": "3.11.0"
  }
 },
 "nbformat": 4,
 "nbformat_minor": 2
}
