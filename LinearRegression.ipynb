{
  "nbformat": 4,
  "nbformat_minor": 0,
  "metadata": {
    "colab": {
      "provenance": []
    },
    "kernelspec": {
      "name": "python3",
      "display_name": "Python 3"
    },
    "language_info": {
      "name": "python"
    }
  },
  "cells": [
    {
      "cell_type": "markdown",
      "source": [
        "Connecting to Drive"
      ],
      "metadata": {
        "id": "sRVWEQaBEnbY"
      }
    },
    {
      "cell_type": "code",
      "source": [
        "from google.colab import drive\n",
        "drive.mount('/content/drive')"
      ],
      "metadata": {
        "colab": {
          "base_uri": "https://localhost:8080/"
        },
        "id": "UkviqCd05PVp",
        "outputId": "c55d5da1-7bab-49ed-c48a-9b5dbb984166"
      },
      "execution_count": 168,
      "outputs": [
        {
          "output_type": "stream",
          "name": "stdout",
          "text": [
            "Drive already mounted at /content/drive; to attempt to forcibly remount, call drive.mount(\"/content/drive\", force_remount=True).\n"
          ]
        }
      ]
    },
    {
      "cell_type": "markdown",
      "source": [
        "Importing Necessary Datasets"
      ],
      "metadata": {
        "id": "zSeeDqOoEpPM"
      }
    },
    {
      "cell_type": "code",
      "execution_count": 169,
      "metadata": {
        "id": "KWzYpI21yT4v"
      },
      "outputs": [],
      "source": [
        "import pandas as pd\n",
        "import numpy as np\n",
        "import seaborn as sns\n",
        "import matplotlib.pyplot as plt"
      ]
    },
    {
      "cell_type": "markdown",
      "source": [
        "Reading Simple Dataset which is the line:"
      ],
      "metadata": {
        "id": "i-msSBDAErvW"
      }
    },
    {
      "cell_type": "markdown",
      "source": [
        "$ y = \\frac{2}{3}x + \\frac{8}{9} + 1 $"
      ],
      "metadata": {
        "id": "QVPqUVBCseVm"
      }
    },
    {
      "cell_type": "code",
      "source": [
        "df1=pd.read_csv('/content/drive/MyDrive/Datasets/Linear Regression - Sheet1.csv')\n",
        "df1.head()"
      ],
      "metadata": {
        "colab": {
          "base_uri": "https://localhost:8080/",
          "height": 206
        },
        "id": "Dz0o_0e1y8fx",
        "outputId": "aefa8506-abd0-4e25-aa16-687fa4cbe02e"
      },
      "execution_count": 170,
      "outputs": [
        {
          "output_type": "execute_result",
          "data": {
            "text/plain": [
              "   X         Y\n",
              "0  1  3.888889\n",
              "1  2  4.555556\n",
              "2  3  5.222222\n",
              "3  4  5.888889\n",
              "4  5  6.555556"
            ],
            "text/html": [
              "\n",
              "  <div id=\"df-f2746764-5990-4e88-ac6f-84eb773fcd1b\" class=\"colab-df-container\">\n",
              "    <div>\n",
              "<style scoped>\n",
              "    .dataframe tbody tr th:only-of-type {\n",
              "        vertical-align: middle;\n",
              "    }\n",
              "\n",
              "    .dataframe tbody tr th {\n",
              "        vertical-align: top;\n",
              "    }\n",
              "\n",
              "    .dataframe thead th {\n",
              "        text-align: right;\n",
              "    }\n",
              "</style>\n",
              "<table border=\"1\" class=\"dataframe\">\n",
              "  <thead>\n",
              "    <tr style=\"text-align: right;\">\n",
              "      <th></th>\n",
              "      <th>X</th>\n",
              "      <th>Y</th>\n",
              "    </tr>\n",
              "  </thead>\n",
              "  <tbody>\n",
              "    <tr>\n",
              "      <th>0</th>\n",
              "      <td>1</td>\n",
              "      <td>3.888889</td>\n",
              "    </tr>\n",
              "    <tr>\n",
              "      <th>1</th>\n",
              "      <td>2</td>\n",
              "      <td>4.555556</td>\n",
              "    </tr>\n",
              "    <tr>\n",
              "      <th>2</th>\n",
              "      <td>3</td>\n",
              "      <td>5.222222</td>\n",
              "    </tr>\n",
              "    <tr>\n",
              "      <th>3</th>\n",
              "      <td>4</td>\n",
              "      <td>5.888889</td>\n",
              "    </tr>\n",
              "    <tr>\n",
              "      <th>4</th>\n",
              "      <td>5</td>\n",
              "      <td>6.555556</td>\n",
              "    </tr>\n",
              "  </tbody>\n",
              "</table>\n",
              "</div>\n",
              "    <div class=\"colab-df-buttons\">\n",
              "\n",
              "  <div class=\"colab-df-container\">\n",
              "    <button class=\"colab-df-convert\" onclick=\"convertToInteractive('df-f2746764-5990-4e88-ac6f-84eb773fcd1b')\"\n",
              "            title=\"Convert this dataframe to an interactive table.\"\n",
              "            style=\"display:none;\">\n",
              "\n",
              "  <svg xmlns=\"http://www.w3.org/2000/svg\" height=\"24px\" viewBox=\"0 -960 960 960\">\n",
              "    <path d=\"M120-120v-720h720v720H120Zm60-500h600v-160H180v160Zm220 220h160v-160H400v160Zm0 220h160v-160H400v160ZM180-400h160v-160H180v160Zm440 0h160v-160H620v160ZM180-180h160v-160H180v160Zm440 0h160v-160H620v160Z\"/>\n",
              "  </svg>\n",
              "    </button>\n",
              "\n",
              "  <style>\n",
              "    .colab-df-container {\n",
              "      display:flex;\n",
              "      gap: 12px;\n",
              "    }\n",
              "\n",
              "    .colab-df-convert {\n",
              "      background-color: #E8F0FE;\n",
              "      border: none;\n",
              "      border-radius: 50%;\n",
              "      cursor: pointer;\n",
              "      display: none;\n",
              "      fill: #1967D2;\n",
              "      height: 32px;\n",
              "      padding: 0 0 0 0;\n",
              "      width: 32px;\n",
              "    }\n",
              "\n",
              "    .colab-df-convert:hover {\n",
              "      background-color: #E2EBFA;\n",
              "      box-shadow: 0px 1px 2px rgba(60, 64, 67, 0.3), 0px 1px 3px 1px rgba(60, 64, 67, 0.15);\n",
              "      fill: #174EA6;\n",
              "    }\n",
              "\n",
              "    .colab-df-buttons div {\n",
              "      margin-bottom: 4px;\n",
              "    }\n",
              "\n",
              "    [theme=dark] .colab-df-convert {\n",
              "      background-color: #3B4455;\n",
              "      fill: #D2E3FC;\n",
              "    }\n",
              "\n",
              "    [theme=dark] .colab-df-convert:hover {\n",
              "      background-color: #434B5C;\n",
              "      box-shadow: 0px 1px 3px 1px rgba(0, 0, 0, 0.15);\n",
              "      filter: drop-shadow(0px 1px 2px rgba(0, 0, 0, 0.3));\n",
              "      fill: #FFFFFF;\n",
              "    }\n",
              "  </style>\n",
              "\n",
              "    <script>\n",
              "      const buttonEl =\n",
              "        document.querySelector('#df-f2746764-5990-4e88-ac6f-84eb773fcd1b button.colab-df-convert');\n",
              "      buttonEl.style.display =\n",
              "        google.colab.kernel.accessAllowed ? 'block' : 'none';\n",
              "\n",
              "      async function convertToInteractive(key) {\n",
              "        const element = document.querySelector('#df-f2746764-5990-4e88-ac6f-84eb773fcd1b');\n",
              "        const dataTable =\n",
              "          await google.colab.kernel.invokeFunction('convertToInteractive',\n",
              "                                                    [key], {});\n",
              "        if (!dataTable) return;\n",
              "\n",
              "        const docLinkHtml = 'Like what you see? Visit the ' +\n",
              "          '<a target=\"_blank\" href=https://colab.research.google.com/notebooks/data_table.ipynb>data table notebook</a>'\n",
              "          + ' to learn more about interactive tables.';\n",
              "        element.innerHTML = '';\n",
              "        dataTable['output_type'] = 'display_data';\n",
              "        await google.colab.output.renderOutput(dataTable, element);\n",
              "        const docLink = document.createElement('div');\n",
              "        docLink.innerHTML = docLinkHtml;\n",
              "        element.appendChild(docLink);\n",
              "      }\n",
              "    </script>\n",
              "  </div>\n",
              "\n",
              "\n",
              "<div id=\"df-3fc3cdbf-106b-4d2a-bd63-761db6d30191\">\n",
              "  <button class=\"colab-df-quickchart\" onclick=\"quickchart('df-3fc3cdbf-106b-4d2a-bd63-761db6d30191')\"\n",
              "            title=\"Suggest charts\"\n",
              "            style=\"display:none;\">\n",
              "\n",
              "<svg xmlns=\"http://www.w3.org/2000/svg\" height=\"24px\"viewBox=\"0 0 24 24\"\n",
              "     width=\"24px\">\n",
              "    <g>\n",
              "        <path d=\"M19 3H5c-1.1 0-2 .9-2 2v14c0 1.1.9 2 2 2h14c1.1 0 2-.9 2-2V5c0-1.1-.9-2-2-2zM9 17H7v-7h2v7zm4 0h-2V7h2v10zm4 0h-2v-4h2v4z\"/>\n",
              "    </g>\n",
              "</svg>\n",
              "  </button>\n",
              "\n",
              "<style>\n",
              "  .colab-df-quickchart {\n",
              "      --bg-color: #E8F0FE;\n",
              "      --fill-color: #1967D2;\n",
              "      --hover-bg-color: #E2EBFA;\n",
              "      --hover-fill-color: #174EA6;\n",
              "      --disabled-fill-color: #AAA;\n",
              "      --disabled-bg-color: #DDD;\n",
              "  }\n",
              "\n",
              "  [theme=dark] .colab-df-quickchart {\n",
              "      --bg-color: #3B4455;\n",
              "      --fill-color: #D2E3FC;\n",
              "      --hover-bg-color: #434B5C;\n",
              "      --hover-fill-color: #FFFFFF;\n",
              "      --disabled-bg-color: #3B4455;\n",
              "      --disabled-fill-color: #666;\n",
              "  }\n",
              "\n",
              "  .colab-df-quickchart {\n",
              "    background-color: var(--bg-color);\n",
              "    border: none;\n",
              "    border-radius: 50%;\n",
              "    cursor: pointer;\n",
              "    display: none;\n",
              "    fill: var(--fill-color);\n",
              "    height: 32px;\n",
              "    padding: 0;\n",
              "    width: 32px;\n",
              "  }\n",
              "\n",
              "  .colab-df-quickchart:hover {\n",
              "    background-color: var(--hover-bg-color);\n",
              "    box-shadow: 0 1px 2px rgba(60, 64, 67, 0.3), 0 1px 3px 1px rgba(60, 64, 67, 0.15);\n",
              "    fill: var(--button-hover-fill-color);\n",
              "  }\n",
              "\n",
              "  .colab-df-quickchart-complete:disabled,\n",
              "  .colab-df-quickchart-complete:disabled:hover {\n",
              "    background-color: var(--disabled-bg-color);\n",
              "    fill: var(--disabled-fill-color);\n",
              "    box-shadow: none;\n",
              "  }\n",
              "\n",
              "  .colab-df-spinner {\n",
              "    border: 2px solid var(--fill-color);\n",
              "    border-color: transparent;\n",
              "    border-bottom-color: var(--fill-color);\n",
              "    animation:\n",
              "      spin 1s steps(1) infinite;\n",
              "  }\n",
              "\n",
              "  @keyframes spin {\n",
              "    0% {\n",
              "      border-color: transparent;\n",
              "      border-bottom-color: var(--fill-color);\n",
              "      border-left-color: var(--fill-color);\n",
              "    }\n",
              "    20% {\n",
              "      border-color: transparent;\n",
              "      border-left-color: var(--fill-color);\n",
              "      border-top-color: var(--fill-color);\n",
              "    }\n",
              "    30% {\n",
              "      border-color: transparent;\n",
              "      border-left-color: var(--fill-color);\n",
              "      border-top-color: var(--fill-color);\n",
              "      border-right-color: var(--fill-color);\n",
              "    }\n",
              "    40% {\n",
              "      border-color: transparent;\n",
              "      border-right-color: var(--fill-color);\n",
              "      border-top-color: var(--fill-color);\n",
              "    }\n",
              "    60% {\n",
              "      border-color: transparent;\n",
              "      border-right-color: var(--fill-color);\n",
              "    }\n",
              "    80% {\n",
              "      border-color: transparent;\n",
              "      border-right-color: var(--fill-color);\n",
              "      border-bottom-color: var(--fill-color);\n",
              "    }\n",
              "    90% {\n",
              "      border-color: transparent;\n",
              "      border-bottom-color: var(--fill-color);\n",
              "    }\n",
              "  }\n",
              "</style>\n",
              "\n",
              "  <script>\n",
              "    async function quickchart(key) {\n",
              "      const quickchartButtonEl =\n",
              "        document.querySelector('#' + key + ' button');\n",
              "      quickchartButtonEl.disabled = true;  // To prevent multiple clicks.\n",
              "      quickchartButtonEl.classList.add('colab-df-spinner');\n",
              "      try {\n",
              "        const charts = await google.colab.kernel.invokeFunction(\n",
              "            'suggestCharts', [key], {});\n",
              "      } catch (error) {\n",
              "        console.error('Error during call to suggestCharts:', error);\n",
              "      }\n",
              "      quickchartButtonEl.classList.remove('colab-df-spinner');\n",
              "      quickchartButtonEl.classList.add('colab-df-quickchart-complete');\n",
              "    }\n",
              "    (() => {\n",
              "      let quickchartButtonEl =\n",
              "        document.querySelector('#df-3fc3cdbf-106b-4d2a-bd63-761db6d30191 button');\n",
              "      quickchartButtonEl.style.display =\n",
              "        google.colab.kernel.accessAllowed ? 'block' : 'none';\n",
              "    })();\n",
              "  </script>\n",
              "</div>\n",
              "\n",
              "    </div>\n",
              "  </div>\n"
            ],
            "application/vnd.google.colaboratory.intrinsic+json": {
              "type": "dataframe",
              "variable_name": "df1",
              "summary": "{\n  \"name\": \"df1\",\n  \"rows\": 300,\n  \"fields\": [\n    {\n      \"column\": \"X\",\n      \"properties\": {\n        \"dtype\": \"number\",\n        \"std\": 86,\n        \"min\": 1,\n        \"max\": 300,\n        \"num_unique_values\": 300,\n        \"samples\": [\n          204,\n          267,\n          153\n        ],\n        \"semantic_type\": \"\",\n        \"description\": \"\"\n      }\n    },\n    {\n      \"column\": \"Y\",\n      \"properties\": {\n        \"dtype\": \"number\",\n        \"std\": 57.842711037104436,\n        \"min\": 1.888888889,\n        \"max\": 201.8888889,\n        \"num_unique_values\": 299,\n        \"samples\": [\n          191.2222222,\n          180.5555556,\n          113.2222222\n        ],\n        \"semantic_type\": \"\",\n        \"description\": \"\"\n      }\n    }\n  ]\n}"
            }
          },
          "metadata": {},
          "execution_count": 170
        }
      ]
    },
    {
      "cell_type": "markdown",
      "source": [
        "2 outlier values"
      ],
      "metadata": {
        "id": "kJcgfZlJE1va"
      }
    },
    {
      "cell_type": "code",
      "source": [
        "df1.tail()"
      ],
      "metadata": {
        "colab": {
          "base_uri": "https://localhost:8080/",
          "height": 206
        },
        "id": "tFy88psGzVC_",
        "outputId": "c92d3a99-40ac-40a5-d2c0-dfcea3fb11f4"
      },
      "execution_count": 171,
      "outputs": [
        {
          "output_type": "execute_result",
          "data": {
            "text/plain": [
              "       X           Y\n",
              "295  296  200.555556\n",
              "296  297  201.222222\n",
              "297  298  201.888889\n",
              "298  299    1.888889\n",
              "299  300    1.888889"
            ],
            "text/html": [
              "\n",
              "  <div id=\"df-a4f3e675-5106-4218-aca0-c497ecb31ed4\" class=\"colab-df-container\">\n",
              "    <div>\n",
              "<style scoped>\n",
              "    .dataframe tbody tr th:only-of-type {\n",
              "        vertical-align: middle;\n",
              "    }\n",
              "\n",
              "    .dataframe tbody tr th {\n",
              "        vertical-align: top;\n",
              "    }\n",
              "\n",
              "    .dataframe thead th {\n",
              "        text-align: right;\n",
              "    }\n",
              "</style>\n",
              "<table border=\"1\" class=\"dataframe\">\n",
              "  <thead>\n",
              "    <tr style=\"text-align: right;\">\n",
              "      <th></th>\n",
              "      <th>X</th>\n",
              "      <th>Y</th>\n",
              "    </tr>\n",
              "  </thead>\n",
              "  <tbody>\n",
              "    <tr>\n",
              "      <th>295</th>\n",
              "      <td>296</td>\n",
              "      <td>200.555556</td>\n",
              "    </tr>\n",
              "    <tr>\n",
              "      <th>296</th>\n",
              "      <td>297</td>\n",
              "      <td>201.222222</td>\n",
              "    </tr>\n",
              "    <tr>\n",
              "      <th>297</th>\n",
              "      <td>298</td>\n",
              "      <td>201.888889</td>\n",
              "    </tr>\n",
              "    <tr>\n",
              "      <th>298</th>\n",
              "      <td>299</td>\n",
              "      <td>1.888889</td>\n",
              "    </tr>\n",
              "    <tr>\n",
              "      <th>299</th>\n",
              "      <td>300</td>\n",
              "      <td>1.888889</td>\n",
              "    </tr>\n",
              "  </tbody>\n",
              "</table>\n",
              "</div>\n",
              "    <div class=\"colab-df-buttons\">\n",
              "\n",
              "  <div class=\"colab-df-container\">\n",
              "    <button class=\"colab-df-convert\" onclick=\"convertToInteractive('df-a4f3e675-5106-4218-aca0-c497ecb31ed4')\"\n",
              "            title=\"Convert this dataframe to an interactive table.\"\n",
              "            style=\"display:none;\">\n",
              "\n",
              "  <svg xmlns=\"http://www.w3.org/2000/svg\" height=\"24px\" viewBox=\"0 -960 960 960\">\n",
              "    <path d=\"M120-120v-720h720v720H120Zm60-500h600v-160H180v160Zm220 220h160v-160H400v160Zm0 220h160v-160H400v160ZM180-400h160v-160H180v160Zm440 0h160v-160H620v160ZM180-180h160v-160H180v160Zm440 0h160v-160H620v160Z\"/>\n",
              "  </svg>\n",
              "    </button>\n",
              "\n",
              "  <style>\n",
              "    .colab-df-container {\n",
              "      display:flex;\n",
              "      gap: 12px;\n",
              "    }\n",
              "\n",
              "    .colab-df-convert {\n",
              "      background-color: #E8F0FE;\n",
              "      border: none;\n",
              "      border-radius: 50%;\n",
              "      cursor: pointer;\n",
              "      display: none;\n",
              "      fill: #1967D2;\n",
              "      height: 32px;\n",
              "      padding: 0 0 0 0;\n",
              "      width: 32px;\n",
              "    }\n",
              "\n",
              "    .colab-df-convert:hover {\n",
              "      background-color: #E2EBFA;\n",
              "      box-shadow: 0px 1px 2px rgba(60, 64, 67, 0.3), 0px 1px 3px 1px rgba(60, 64, 67, 0.15);\n",
              "      fill: #174EA6;\n",
              "    }\n",
              "\n",
              "    .colab-df-buttons div {\n",
              "      margin-bottom: 4px;\n",
              "    }\n",
              "\n",
              "    [theme=dark] .colab-df-convert {\n",
              "      background-color: #3B4455;\n",
              "      fill: #D2E3FC;\n",
              "    }\n",
              "\n",
              "    [theme=dark] .colab-df-convert:hover {\n",
              "      background-color: #434B5C;\n",
              "      box-shadow: 0px 1px 3px 1px rgba(0, 0, 0, 0.15);\n",
              "      filter: drop-shadow(0px 1px 2px rgba(0, 0, 0, 0.3));\n",
              "      fill: #FFFFFF;\n",
              "    }\n",
              "  </style>\n",
              "\n",
              "    <script>\n",
              "      const buttonEl =\n",
              "        document.querySelector('#df-a4f3e675-5106-4218-aca0-c497ecb31ed4 button.colab-df-convert');\n",
              "      buttonEl.style.display =\n",
              "        google.colab.kernel.accessAllowed ? 'block' : 'none';\n",
              "\n",
              "      async function convertToInteractive(key) {\n",
              "        const element = document.querySelector('#df-a4f3e675-5106-4218-aca0-c497ecb31ed4');\n",
              "        const dataTable =\n",
              "          await google.colab.kernel.invokeFunction('convertToInteractive',\n",
              "                                                    [key], {});\n",
              "        if (!dataTable) return;\n",
              "\n",
              "        const docLinkHtml = 'Like what you see? Visit the ' +\n",
              "          '<a target=\"_blank\" href=https://colab.research.google.com/notebooks/data_table.ipynb>data table notebook</a>'\n",
              "          + ' to learn more about interactive tables.';\n",
              "        element.innerHTML = '';\n",
              "        dataTable['output_type'] = 'display_data';\n",
              "        await google.colab.output.renderOutput(dataTable, element);\n",
              "        const docLink = document.createElement('div');\n",
              "        docLink.innerHTML = docLinkHtml;\n",
              "        element.appendChild(docLink);\n",
              "      }\n",
              "    </script>\n",
              "  </div>\n",
              "\n",
              "\n",
              "<div id=\"df-5379a88d-b83e-4803-ae04-5888311fa265\">\n",
              "  <button class=\"colab-df-quickchart\" onclick=\"quickchart('df-5379a88d-b83e-4803-ae04-5888311fa265')\"\n",
              "            title=\"Suggest charts\"\n",
              "            style=\"display:none;\">\n",
              "\n",
              "<svg xmlns=\"http://www.w3.org/2000/svg\" height=\"24px\"viewBox=\"0 0 24 24\"\n",
              "     width=\"24px\">\n",
              "    <g>\n",
              "        <path d=\"M19 3H5c-1.1 0-2 .9-2 2v14c0 1.1.9 2 2 2h14c1.1 0 2-.9 2-2V5c0-1.1-.9-2-2-2zM9 17H7v-7h2v7zm4 0h-2V7h2v10zm4 0h-2v-4h2v4z\"/>\n",
              "    </g>\n",
              "</svg>\n",
              "  </button>\n",
              "\n",
              "<style>\n",
              "  .colab-df-quickchart {\n",
              "      --bg-color: #E8F0FE;\n",
              "      --fill-color: #1967D2;\n",
              "      --hover-bg-color: #E2EBFA;\n",
              "      --hover-fill-color: #174EA6;\n",
              "      --disabled-fill-color: #AAA;\n",
              "      --disabled-bg-color: #DDD;\n",
              "  }\n",
              "\n",
              "  [theme=dark] .colab-df-quickchart {\n",
              "      --bg-color: #3B4455;\n",
              "      --fill-color: #D2E3FC;\n",
              "      --hover-bg-color: #434B5C;\n",
              "      --hover-fill-color: #FFFFFF;\n",
              "      --disabled-bg-color: #3B4455;\n",
              "      --disabled-fill-color: #666;\n",
              "  }\n",
              "\n",
              "  .colab-df-quickchart {\n",
              "    background-color: var(--bg-color);\n",
              "    border: none;\n",
              "    border-radius: 50%;\n",
              "    cursor: pointer;\n",
              "    display: none;\n",
              "    fill: var(--fill-color);\n",
              "    height: 32px;\n",
              "    padding: 0;\n",
              "    width: 32px;\n",
              "  }\n",
              "\n",
              "  .colab-df-quickchart:hover {\n",
              "    background-color: var(--hover-bg-color);\n",
              "    box-shadow: 0 1px 2px rgba(60, 64, 67, 0.3), 0 1px 3px 1px rgba(60, 64, 67, 0.15);\n",
              "    fill: var(--button-hover-fill-color);\n",
              "  }\n",
              "\n",
              "  .colab-df-quickchart-complete:disabled,\n",
              "  .colab-df-quickchart-complete:disabled:hover {\n",
              "    background-color: var(--disabled-bg-color);\n",
              "    fill: var(--disabled-fill-color);\n",
              "    box-shadow: none;\n",
              "  }\n",
              "\n",
              "  .colab-df-spinner {\n",
              "    border: 2px solid var(--fill-color);\n",
              "    border-color: transparent;\n",
              "    border-bottom-color: var(--fill-color);\n",
              "    animation:\n",
              "      spin 1s steps(1) infinite;\n",
              "  }\n",
              "\n",
              "  @keyframes spin {\n",
              "    0% {\n",
              "      border-color: transparent;\n",
              "      border-bottom-color: var(--fill-color);\n",
              "      border-left-color: var(--fill-color);\n",
              "    }\n",
              "    20% {\n",
              "      border-color: transparent;\n",
              "      border-left-color: var(--fill-color);\n",
              "      border-top-color: var(--fill-color);\n",
              "    }\n",
              "    30% {\n",
              "      border-color: transparent;\n",
              "      border-left-color: var(--fill-color);\n",
              "      border-top-color: var(--fill-color);\n",
              "      border-right-color: var(--fill-color);\n",
              "    }\n",
              "    40% {\n",
              "      border-color: transparent;\n",
              "      border-right-color: var(--fill-color);\n",
              "      border-top-color: var(--fill-color);\n",
              "    }\n",
              "    60% {\n",
              "      border-color: transparent;\n",
              "      border-right-color: var(--fill-color);\n",
              "    }\n",
              "    80% {\n",
              "      border-color: transparent;\n",
              "      border-right-color: var(--fill-color);\n",
              "      border-bottom-color: var(--fill-color);\n",
              "    }\n",
              "    90% {\n",
              "      border-color: transparent;\n",
              "      border-bottom-color: var(--fill-color);\n",
              "    }\n",
              "  }\n",
              "</style>\n",
              "\n",
              "  <script>\n",
              "    async function quickchart(key) {\n",
              "      const quickchartButtonEl =\n",
              "        document.querySelector('#' + key + ' button');\n",
              "      quickchartButtonEl.disabled = true;  // To prevent multiple clicks.\n",
              "      quickchartButtonEl.classList.add('colab-df-spinner');\n",
              "      try {\n",
              "        const charts = await google.colab.kernel.invokeFunction(\n",
              "            'suggestCharts', [key], {});\n",
              "      } catch (error) {\n",
              "        console.error('Error during call to suggestCharts:', error);\n",
              "      }\n",
              "      quickchartButtonEl.classList.remove('colab-df-spinner');\n",
              "      quickchartButtonEl.classList.add('colab-df-quickchart-complete');\n",
              "    }\n",
              "    (() => {\n",
              "      let quickchartButtonEl =\n",
              "        document.querySelector('#df-5379a88d-b83e-4803-ae04-5888311fa265 button');\n",
              "      quickchartButtonEl.style.display =\n",
              "        google.colab.kernel.accessAllowed ? 'block' : 'none';\n",
              "    })();\n",
              "  </script>\n",
              "</div>\n",
              "\n",
              "    </div>\n",
              "  </div>\n"
            ],
            "application/vnd.google.colaboratory.intrinsic+json": {
              "type": "dataframe",
              "summary": "{\n  \"name\": \"df1\",\n  \"rows\": 5,\n  \"fields\": [\n    {\n      \"column\": \"X\",\n      \"properties\": {\n        \"dtype\": \"number\",\n        \"std\": 1,\n        \"min\": 296,\n        \"max\": 300,\n        \"num_unique_values\": 5,\n        \"samples\": [\n          297,\n          300,\n          298\n        ],\n        \"semantic_type\": \"\",\n        \"description\": \"\"\n      }\n    },\n    {\n      \"column\": \"Y\",\n      \"properties\": {\n        \"dtype\": \"number\",\n        \"std\": 109.18038082393763,\n        \"min\": 1.888888889,\n        \"max\": 201.8888889,\n        \"num_unique_values\": 4,\n        \"samples\": [\n          201.2222222,\n          1.888888889,\n          200.5555556\n        ],\n        \"semantic_type\": \"\",\n        \"description\": \"\"\n      }\n    }\n  ]\n}"
            }
          },
          "metadata": {},
          "execution_count": 171
        }
      ]
    },
    {
      "cell_type": "markdown",
      "source": [
        "Splitting x and y"
      ],
      "metadata": {
        "id": "whTw5RtJsozL"
      }
    },
    {
      "cell_type": "code",
      "source": [
        "x1=list(df1.iloc[:,0])\n",
        "y1=list(df1.iloc[:,1])"
      ],
      "metadata": {
        "id": "P7fN7gKWy_46"
      },
      "execution_count": 172,
      "outputs": []
    },
    {
      "cell_type": "markdown",
      "source": [
        "Plotting Values"
      ],
      "metadata": {
        "id": "X6rBOfAsslXY"
      }
    },
    {
      "cell_type": "code",
      "source": [
        "plt.scatter(x1,y1)\n",
        "plt.show()"
      ],
      "metadata": {
        "colab": {
          "base_uri": "https://localhost:8080/",
          "height": 430
        },
        "id": "Z9jXmdSazKnY",
        "outputId": "4634ae5f-5510-42a1-8fc9-da00f20263fa"
      },
      "execution_count": 200,
      "outputs": [
        {
          "output_type": "display_data",
          "data": {
            "text/plain": [
              "<Figure size 640x480 with 1 Axes>"
            ],
            "image/png": "[encoded data removed]"
          },
          "metadata": {}
        }
      ]
    },
    {
      "cell_type": "markdown",
      "source": [
        "Using Formulas"
      ],
      "metadata": {
        "id": "nVg4oUV4E4UV"
      }
    },
    {
      "cell_type": "markdown",
      "source": [
        "$$ β1 = \\frac{Σ(xy) - ȳΣ(x)}{Σ(x²) - x̄Σ(x)} $$"
      ],
      "metadata": {
        "id": "wFysXQnsFCi0"
      }
    },
    {
      "cell_type": "markdown",
      "source": [
        "$$ \\beta_0 = \\bar{y} - \\bar{x}\\beta_1 $$"
      ],
      "metadata": {
        "id": "3aiUISf_E6ui"
      }
    },
    {
      "cell_type": "markdown",
      "source": [
        "Calculation of values"
      ],
      "metadata": {
        "id": "UsctaZtHs9RL"
      }
    },
    {
      "cell_type": "code",
      "source": [
        "xsum=sum(x1)\n",
        "ysum=sum(y1)\n",
        "xmean=xsum/len(x1)\n",
        "ymean=ysum/len(y1)\n",
        "xysum=0\n",
        "x2sum=0\n",
        "for i in range(len(x1)):\n",
        "  xysum=x1[i]*y1[i]\n",
        "for i in range(len(x1)):\n",
        "  x2sum=x1[i]**2\n",
        "print(\"X: \",xsum)\n",
        "print(\"Y: \",ysum)\n",
        "print(\"Xm: \",xmean)\n",
        "print(\"Ym: \",ymean)\n",
        "print(\"XY: \",xysum)\n",
        "print(\"X2: \",x2sum)"
      ],
      "metadata": {
        "colab": {
          "base_uri": "https://localhost:8080/"
        },
        "id": "cZHTeZpgzSWE",
        "outputId": "4c6363dd-1a2c-4558-b783-72fc0a63a397"
      },
      "execution_count": 174,
      "outputs": [
        {
          "output_type": "stream",
          "name": "stdout",
          "text": [
            "X:  45150\n",
            "Y:  30664.666668517995\n",
            "Xm:  150.5\n",
            "Ym:  102.21555556172665\n",
            "XY:  566.6666667\n",
            "X2:  90000\n"
          ]
        }
      ]
    },
    {
      "cell_type": "markdown",
      "source": [
        "Equation of Regressor"
      ],
      "metadata": {
        "id": "sjGhnCx0KpUs"
      }
    },
    {
      "cell_type": "code",
      "source": [
        "m1=(xysum-ymean*xsum)/(x2sum-xsum*xmean)\n",
        "c1=ymean-m1*xmean\n",
        "print(f\"y = {round(m1,4)}x + {round(c1,4)}\")"
      ],
      "metadata": {
        "colab": {
          "base_uri": "https://localhost:8080/"
        },
        "id": "ep06aBIN0Z85",
        "outputId": "712bba19-2c23-4797-efe5-05e531830e53"
      },
      "execution_count": 175,
      "outputs": [
        {
          "output_type": "stream",
          "name": "stdout",
          "text": [
            "y = 0.6882x + -1.3593\n"
          ]
        }
      ]
    },
    {
      "cell_type": "markdown",
      "source": [
        "Plotting Actual Line vs Predicted Line"
      ],
      "metadata": {
        "id": "VMBJz2UbKsxE"
      }
    },
    {
      "cell_type": "code",
      "source": [
        "yl = [m1 * xi + c1 for xi in x1]\n",
        "yo= [(2/3) * xi + 8/9 +1 for xi in x1]\n",
        "plt.plot(x1,yl,label=f\"y = {round(m1,4)}x + {round(c1,4)}\")\n",
        "plt.plot(x1,yo,label=f\"y = {round(2/3,4)}x + {round(8/9+1,4)}\")\n",
        "plt.xlabel('x')\n",
        "plt.ylabel('y')\n",
        "plt.title(\"Linear Regression Line\")\n",
        "plt.legend()\n",
        "plt.show()"
      ],
      "metadata": {
        "colab": {
          "base_uri": "https://localhost:8080/",
          "height": 472
        },
        "id": "zabCM2H71rUh",
        "outputId": "96caa581-b325-41d5-9635-36c86f67cf7e"
      },
      "execution_count": 176,
      "outputs": [
        {
          "output_type": "display_data",
          "data": {
            "text/plain": [
              "<Figure size 640x480 with 1 Axes>"
            ],
            "image/png": "[encoded data removed]"
          },
          "metadata": {}
        }
      ]
    },
    {
      "cell_type": "markdown",
      "source": [
        "MSE"
      ],
      "metadata": {
        "id": "7OXFjWP_Kwc6"
      }
    },
    {
      "cell_type": "code",
      "source": [
        "y_pred1=[]\n",
        "for i in range(len(y1)):\n",
        "  y_pred1.append(x1[i]*m1+c1)"
      ],
      "metadata": {
        "id": "mdVSBglE62ba"
      },
      "execution_count": 177,
      "outputs": []
    },
    {
      "cell_type": "code",
      "source": [
        "from sklearn.metrics import mean_squared_error\n",
        "mse = mean_squared_error(y1, y_pred1)\n",
        "print(\"Mean Squared Error:\", mse)"
      ],
      "metadata": {
        "colab": {
          "base_uri": "https://localhost:8080/"
        },
        "id": "jSbj4RjO7C0n",
        "outputId": "a6844521-ff91-44a4-a225-8956d976baa6"
      },
      "execution_count": 178,
      "outputs": [
        {
          "output_type": "stream",
          "name": "stdout",
          "text": [
            "Mean Squared Error: 279.6250347270243\n"
          ]
        }
      ]
    },
    {
      "cell_type": "markdown",
      "source": [
        "Larger Dataset"
      ],
      "metadata": {
        "id": "E8OpPxkuKxSv"
      }
    },
    {
      "cell_type": "code",
      "source": [
        "df2=pd.read_csv('/content/drive/MyDrive/Datasets/linearRawData.csv')\n",
        "df2.head()"
      ],
      "metadata": {
        "colab": {
          "base_uri": "https://localhost:8080/",
          "height": 206
        },
        "id": "xCiToZYF2aJT",
        "outputId": "8b05c27e-c4b2-4862-d638-fc10525ad3dc"
      },
      "execution_count": 179,
      "outputs": [
        {
          "output_type": "execute_result",
          "data": {
            "text/plain": [
              "   Unnamed: 0  feature1      target\n",
              "0           0 -0.445142   23.136758\n",
              "1           1  0.072545  118.460441\n",
              "2           2 -1.366360 -119.291554\n",
              "3           3  0.065654 -161.423879\n",
              "4           4 -0.321074 -158.935795"
            ],
            "text/html": [
              "\n",
              "  <div id=\"df-5389553d-49e7-4f23-8d4d-d33f34fbd836\" class=\"colab-df-container\">\n",
              "    <div>\n",
              "<style scoped>\n",
              "    .dataframe tbody tr th:only-of-type {\n",
              "        vertical-align: middle;\n",
              "    }\n",
              "\n",
              "    .dataframe tbody tr th {\n",
              "        vertical-align: top;\n",
              "    }\n",
              "\n",
              "    .dataframe thead th {\n",
              "        text-align: right;\n",
              "    }\n",
              "</style>\n",
              "<table border=\"1\" class=\"dataframe\">\n",
              "  <thead>\n",
              "    <tr style=\"text-align: right;\">\n",
              "      <th></th>\n",
              "      <th>Unnamed: 0</th>\n",
              "      <th>feature1</th>\n",
              "      <th>target</th>\n",
              "    </tr>\n",
              "  </thead>\n",
              "  <tbody>\n",
              "    <tr>\n",
              "      <th>0</th>\n",
              "      <td>0</td>\n",
              "      <td>-0.445142</td>\n",
              "      <td>23.136758</td>\n",
              "    </tr>\n",
              "    <tr>\n",
              "      <th>1</th>\n",
              "      <td>1</td>\n",
              "      <td>0.072545</td>\n",
              "      <td>118.460441</td>\n",
              "    </tr>\n",
              "    <tr>\n",
              "      <th>2</th>\n",
              "      <td>2</td>\n",
              "      <td>-1.366360</td>\n",
              "      <td>-119.291554</td>\n",
              "    </tr>\n",
              "    <tr>\n",
              "      <th>3</th>\n",
              "      <td>3</td>\n",
              "      <td>0.065654</td>\n",
              "      <td>-161.423879</td>\n",
              "    </tr>\n",
              "    <tr>\n",
              "      <th>4</th>\n",
              "      <td>4</td>\n",
              "      <td>-0.321074</td>\n",
              "      <td>-158.935795</td>\n",
              "    </tr>\n",
              "  </tbody>\n",
              "</table>\n",
              "</div>\n",
              "    <div class=\"colab-df-buttons\">\n",
              "\n",
              "  <div class=\"colab-df-container\">\n",
              "    <button class=\"colab-df-convert\" onclick=\"convertToInteractive('df-5389553d-49e7-4f23-8d4d-d33f34fbd836')\"\n",
              "            title=\"Convert this dataframe to an interactive table.\"\n",
              "            style=\"display:none;\">\n",
              "\n",
              "  <svg xmlns=\"http://www.w3.org/2000/svg\" height=\"24px\" viewBox=\"0 -960 960 960\">\n",
              "    <path d=\"M120-120v-720h720v720H120Zm60-500h600v-160H180v160Zm220 220h160v-160H400v160Zm0 220h160v-160H400v160ZM180-400h160v-160H180v160Zm440 0h160v-160H620v160ZM180-180h160v-160H180v160Zm440 0h160v-160H620v160Z\"/>\n",
              "  </svg>\n",
              "    </button>\n",
              "\n",
              "  <style>\n",
              "    .colab-df-container {\n",
              "      display:flex;\n",
              "      gap: 12px;\n",
              "    }\n",
              "\n",
              "    .colab-df-convert {\n",
              "      background-color: #E8F0FE;\n",
              "      border: none;\n",
              "      border-radius: 50%;\n",
              "      cursor: pointer;\n",
              "      display: none;\n",
              "      fill: #1967D2;\n",
              "      height: 32px;\n",
              "      padding: 0 0 0 0;\n",
              "      width: 32px;\n",
              "    }\n",
              "\n",
              "    .colab-df-convert:hover {\n",
              "      background-color: #E2EBFA;\n",
              "      box-shadow: 0px 1px 2px rgba(60, 64, 67, 0.3), 0px 1px 3px 1px rgba(60, 64, 67, 0.15);\n",
              "      fill: #174EA6;\n",
              "    }\n",
              "\n",
              "    .colab-df-buttons div {\n",
              "      margin-bottom: 4px;\n",
              "    }\n",
              "\n",
              "    [theme=dark] .colab-df-convert {\n",
              "      background-color: #3B4455;\n",
              "      fill: #D2E3FC;\n",
              "    }\n",
              "\n",
              "    [theme=dark] .colab-df-convert:hover {\n",
              "      background-color: #434B5C;\n",
              "      box-shadow: 0px 1px 3px 1px rgba(0, 0, 0, 0.15);\n",
              "      filter: drop-shadow(0px 1px 2px rgba(0, 0, 0, 0.3));\n",
              "      fill: #FFFFFF;\n",
              "    }\n",
              "  </style>\n",
              "\n",
              "    <script>\n",
              "      const buttonEl =\n",
              "        document.querySelector('#df-5389553d-49e7-4f23-8d4d-d33f34fbd836 button.colab-df-convert');\n",
              "      buttonEl.style.display =\n",
              "        google.colab.kernel.accessAllowed ? 'block' : 'none';\n",
              "\n",
              "      async function convertToInteractive(key) {\n",
              "        const element = document.querySelector('#df-5389553d-49e7-4f23-8d4d-d33f34fbd836');\n",
              "        const dataTable =\n",
              "          await google.colab.kernel.invokeFunction('convertToInteractive',\n",
              "                                                    [key], {});\n",
              "        if (!dataTable) return;\n",
              "\n",
              "        const docLinkHtml = 'Like what you see? Visit the ' +\n",
              "          '<a target=\"_blank\" href=https://colab.research.google.com/notebooks/data_table.ipynb>data table notebook</a>'\n",
              "          + ' to learn more about interactive tables.';\n",
              "        element.innerHTML = '';\n",
              "        dataTable['output_type'] = 'display_data';\n",
              "        await google.colab.output.renderOutput(dataTable, element);\n",
              "        const docLink = document.createElement('div');\n",
              "        docLink.innerHTML = docLinkHtml;\n",
              "        element.appendChild(docLink);\n",
              "      }\n",
              "    </script>\n",
              "  </div>\n",
              "\n",
              "\n",
              "<div id=\"df-8c7a4b15-4fcd-4df5-a773-94d9ea4e1188\">\n",
              "  <button class=\"colab-df-quickchart\" onclick=\"quickchart('df-8c7a4b15-4fcd-4df5-a773-94d9ea4e1188')\"\n",
              "            title=\"Suggest charts\"\n",
              "            style=\"display:none;\">\n",
              "\n",
              "<svg xmlns=\"http://www.w3.org/2000/svg\" height=\"24px\"viewBox=\"0 0 24 24\"\n",
              "     width=\"24px\">\n",
              "    <g>\n",
              "        <path d=\"M19 3H5c-1.1 0-2 .9-2 2v14c0 1.1.9 2 2 2h14c1.1 0 2-.9 2-2V5c0-1.1-.9-2-2-2zM9 17H7v-7h2v7zm4 0h-2V7h2v10zm4 0h-2v-4h2v4z\"/>\n",
              "    </g>\n",
              "</svg>\n",
              "  </button>\n",
              "\n",
              "<style>\n",
              "  .colab-df-quickchart {\n",
              "      --bg-color: #E8F0FE;\n",
              "      --fill-color: #1967D2;\n",
              "      --hover-bg-color: #E2EBFA;\n",
              "      --hover-fill-color: #174EA6;\n",
              "      --disabled-fill-color: #AAA;\n",
              "      --disabled-bg-color: #DDD;\n",
              "  }\n",
              "\n",
              "  [theme=dark] .colab-df-quickchart {\n",
              "      --bg-color: #3B4455;\n",
              "      --fill-color: #D2E3FC;\n",
              "      --hover-bg-color: #434B5C;\n",
              "      --hover-fill-color: #FFFFFF;\n",
              "      --disabled-bg-color: #3B4455;\n",
              "      --disabled-fill-color: #666;\n",
              "  }\n",
              "\n",
              "  .colab-df-quickchart {\n",
              "    background-color: var(--bg-color);\n",
              "    border: none;\n",
              "    border-radius: 50%;\n",
              "    cursor: pointer;\n",
              "    display: none;\n",
              "    fill: var(--fill-color);\n",
              "    height: 32px;\n",
              "    padding: 0;\n",
              "    width: 32px;\n",
              "  }\n",
              "\n",
              "  .colab-df-quickchart:hover {\n",
              "    background-color: var(--hover-bg-color);\n",
              "    box-shadow: 0 1px 2px rgba(60, 64, 67, 0.3), 0 1px 3px 1px rgba(60, 64, 67, 0.15);\n",
              "    fill: var(--button-hover-fill-color);\n",
              "  }\n",
              "\n",
              "  .colab-df-quickchart-complete:disabled,\n",
              "  .colab-df-quickchart-complete:disabled:hover {\n",
              "    background-color: var(--disabled-bg-color);\n",
              "    fill: var(--disabled-fill-color);\n",
              "    box-shadow: none;\n",
              "  }\n",
              "\n",
              "  .colab-df-spinner {\n",
              "    border: 2px solid var(--fill-color);\n",
              "    border-color: transparent;\n",
              "    border-bottom-color: var(--fill-color);\n",
              "    animation:\n",
              "      spin 1s steps(1) infinite;\n",
              "  }\n",
              "\n",
              "  @keyframes spin {\n",
              "    0% {\n",
              "      border-color: transparent;\n",
              "      border-bottom-color: var(--fill-color);\n",
              "      border-left-color: var(--fill-color);\n",
              "    }\n",
              "    20% {\n",
              "      border-color: transparent;\n",
              "      border-left-color: var(--fill-color);\n",
              "      border-top-color: var(--fill-color);\n",
              "    }\n",
              "    30% {\n",
              "      border-color: transparent;\n",
              "      border-left-color: var(--fill-color);\n",
              "      border-top-color: var(--fill-color);\n",
              "      border-right-color: var(--fill-color);\n",
              "    }\n",
              "    40% {\n",
              "      border-color: transparent;\n",
              "      border-right-color: var(--fill-color);\n",
              "      border-top-color: var(--fill-color);\n",
              "    }\n",
              "    60% {\n",
              "      border-color: transparent;\n",
              "      border-right-color: var(--fill-color);\n",
              "    }\n",
              "    80% {\n",
              "      border-color: transparent;\n",
              "      border-right-color: var(--fill-color);\n",
              "      border-bottom-color: var(--fill-color);\n",
              "    }\n",
              "    90% {\n",
              "      border-color: transparent;\n",
              "      border-bottom-color: var(--fill-color);\n",
              "    }\n",
              "  }\n",
              "</style>\n",
              "\n",
              "  <script>\n",
              "    async function quickchart(key) {\n",
              "      const quickchartButtonEl =\n",
              "        document.querySelector('#' + key + ' button');\n",
              "      quickchartButtonEl.disabled = true;  // To prevent multiple clicks.\n",
              "      quickchartButtonEl.classList.add('colab-df-spinner');\n",
              "      try {\n",
              "        const charts = await google.colab.kernel.invokeFunction(\n",
              "            'suggestCharts', [key], {});\n",
              "      } catch (error) {\n",
              "        console.error('Error during call to suggestCharts:', error);\n",
              "      }\n",
              "      quickchartButtonEl.classList.remove('colab-df-spinner');\n",
              "      quickchartButtonEl.classList.add('colab-df-quickchart-complete');\n",
              "    }\n",
              "    (() => {\n",
              "      let quickchartButtonEl =\n",
              "        document.querySelector('#df-8c7a4b15-4fcd-4df5-a773-94d9ea4e1188 button');\n",
              "      quickchartButtonEl.style.display =\n",
              "        google.colab.kernel.accessAllowed ? 'block' : 'none';\n",
              "    })();\n",
              "  </script>\n",
              "</div>\n",
              "\n",
              "    </div>\n",
              "  </div>\n"
            ],
            "application/vnd.google.colaboratory.intrinsic+json": {
              "type": "dataframe",
              "variable_name": "df2"
            }
          },
          "metadata": {},
          "execution_count": 179
        }
      ]
    },
    {
      "cell_type": "markdown",
      "source": [
        "Dropping Unnamed Column"
      ],
      "metadata": {
        "id": "4Tst5IgMsuer"
      }
    },
    {
      "cell_type": "code",
      "source": [
        "df2.drop(\"Unnamed: 0\",axis=1,inplace=True)"
      ],
      "metadata": {
        "id": "cNtdjKMn5n7I"
      },
      "execution_count": 180,
      "outputs": []
    },
    {
      "cell_type": "markdown",
      "source": [
        "Splitting into x and y"
      ],
      "metadata": {
        "id": "FAp42avTswxh"
      }
    },
    {
      "cell_type": "code",
      "source": [
        "x2=list(df2.iloc[:,0])\n",
        "y2=list(df2.iloc[:,1])"
      ],
      "metadata": {
        "id": "lNPAgZ6l5rVR"
      },
      "execution_count": 181,
      "outputs": []
    },
    {
      "cell_type": "markdown",
      "source": [
        "Plotting the values"
      ],
      "metadata": {
        "id": "uAR8YOZdsym-"
      }
    },
    {
      "cell_type": "code",
      "source": [
        "plt.scatter(x2,y2)\n",
        "plt.show()"
      ],
      "metadata": {
        "colab": {
          "base_uri": "https://localhost:8080/",
          "height": 430
        },
        "id": "hfPpnfaB6CpK",
        "outputId": "a4372928-38fe-4808-c2e0-51deb4514216"
      },
      "execution_count": 302,
      "outputs": [
        {
          "output_type": "display_data",
          "data": {
            "text/plain": [
              "<Figure size 640x480 with 1 Axes>"
            ],
            "image/png": "[encoded data removed]"
          },
          "metadata": {}
        }
      ]
    },
    {
      "cell_type": "markdown",
      "source": [
        "Calculation of Values"
      ],
      "metadata": {
        "id": "NIpCRfUCs4eB"
      }
    },
    {
      "cell_type": "code",
      "source": [
        "xsum=sum(x2)\n",
        "ysum=sum(y2)\n",
        "xmean=xsum/len(x2)\n",
        "ymean=ysum/len(y2)\n",
        "xysum=0\n",
        "x2sum=0\n",
        "for i in range(len(x2)):\n",
        "  xysum=x2[i]*y2[i]\n",
        "for i in range(len(x2)):\n",
        "  x2sum=x2[i]**2\n",
        "print(\"X: \",xsum)\n",
        "print(\"Y: \",ysum)\n",
        "print(\"Xm: \",xmean)\n",
        "print(\"Ym: \",ymean)\n",
        "print(\"XY: \",xysum)\n",
        "print(\"X2: \",x2sum)"
      ],
      "metadata": {
        "colab": {
          "base_uri": "https://localhost:8080/"
        },
        "id": "qw7uqgEP54m3",
        "outputId": "ba0ac430-addc-41ce-c114-d7052b4ada2b"
      },
      "execution_count": 183,
      "outputs": [
        {
          "output_type": "stream",
          "name": "stdout",
          "text": [
            "X:  21.663222661695272\n",
            "Y:  -133482.31411807355\n",
            "Xm:  2.1663222661695274e-05\n",
            "Ym:  -0.13348231411807354\n",
            "XY:  98.61674609358582\n",
            "X2:  1.636103567159112\n"
          ]
        }
      ]
    },
    {
      "cell_type": "markdown",
      "source": [
        "Regressor Equation"
      ],
      "metadata": {
        "id": "eK-RcjaztDaJ"
      }
    },
    {
      "cell_type": "code",
      "source": [
        "m2=(xysum-ymean*xsum)/(x2sum-xsum*xmean)\n",
        "c2=ymean-m2*xmean\n",
        "print(f\"y = {round(m2,4)}x + {round(c2,4)}\")"
      ],
      "metadata": {
        "colab": {
          "base_uri": "https://localhost:8080/"
        },
        "id": "xk-Tl4oA5-mb",
        "outputId": "11c912cf-b066-42ad-9581-456a927c1661"
      },
      "execution_count": 184,
      "outputs": [
        {
          "output_type": "stream",
          "name": "stdout",
          "text": [
            "y = 62.0606x + -0.1348\n"
          ]
        }
      ]
    },
    {
      "cell_type": "markdown",
      "source": [
        "Plotting Regression Line"
      ],
      "metadata": {
        "id": "KVkchxsRtGNe"
      }
    },
    {
      "cell_type": "code",
      "source": [
        "yl = [m2 * xi + c2 for xi in x2]\n",
        "plt.plot(x2,yl,label=f\"y = {round(m2,4)}x + {round(c2,4)}\")\n",
        "plt.xlabel('x')\n",
        "plt.ylabel('y')\n",
        "plt.title(\"Linear Regression Line\")\n",
        "plt.legend()\n",
        "plt.show()"
      ],
      "metadata": {
        "colab": {
          "base_uri": "https://localhost:8080/",
          "height": 472
        },
        "id": "Aq26LvZU6A3J",
        "outputId": "d3d05cde-17d3-4628-ea07-dcf26032c74b"
      },
      "execution_count": 185,
      "outputs": [
        {
          "output_type": "display_data",
          "data": {
            "text/plain": [
              "<Figure size 640x480 with 1 Axes>"
            ],
            "image/png": "[encoded data removed]"
          },
          "metadata": {}
        }
      ]
    },
    {
      "cell_type": "markdown",
      "source": [
        "Predicted Values"
      ],
      "metadata": {
        "id": "PBOUwrKKtJyz"
      }
    },
    {
      "cell_type": "code",
      "source": [
        "y_pred2=[]\n",
        "for i in range(len(y2)):\n",
        "  y_pred2.append(x2[i]*m2+c2)"
      ],
      "metadata": {
        "id": "cu82ZW3A6hDS"
      },
      "execution_count": 186,
      "outputs": []
    },
    {
      "cell_type": "markdown",
      "source": [
        "MSE"
      ],
      "metadata": {
        "id": "G2qcEnmUtMbb"
      }
    },
    {
      "cell_type": "code",
      "source": [
        "from sklearn.metrics import mean_squared_error\n",
        "mse = mean_squared_error(y2, y_pred2)\n",
        "print(\"Mean Squared Error:\", mse)"
      ],
      "metadata": {
        "colab": {
          "base_uri": "https://localhost:8080/"
        },
        "id": "ggHPGJyB6Te3",
        "outputId": "aa3b5a33-b05d-4897-ed7e-62db375bffe9"
      },
      "execution_count": 187,
      "outputs": [
        {
          "output_type": "stream",
          "name": "stdout",
          "text": [
            "Mean Squared Error: 11693.822404935865\n"
          ]
        }
      ]
    },
    {
      "cell_type": "markdown",
      "source": [
        "From Sklearn Library"
      ],
      "metadata": {
        "id": "VVA5u3CkK1mx"
      }
    },
    {
      "cell_type": "code",
      "source": [
        "from sklearn.linear_model import LinearRegression\n",
        "x2r=np.array(x2).reshape(-1, 1)\n",
        "y2r=np.array(y2).reshape(-1, 1)\n",
        "lr2model=LinearRegression()\n",
        "lr2model.fit(x2r,y2r)\n",
        "y_pred=lr2model.predict(x2r)\n",
        "mse = mean_squared_error(y2r, y_pred)\n",
        "print(\"Mean Squared Error:\", mse)"
      ],
      "metadata": {
        "colab": {
          "base_uri": "https://localhost:8080/"
        },
        "id": "l81rAsj06y2O",
        "outputId": "1e40c584-b5ed-45e1-8a4e-17b92da07a33"
      },
      "execution_count": 188,
      "outputs": [
        {
          "output_type": "stream",
          "name": "stdout",
          "text": [
            "Mean Squared Error: 10798.022793019198\n"
          ]
        }
      ]
    },
    {
      "cell_type": "markdown",
      "source": [
        "Regressor Equation"
      ],
      "metadata": {
        "id": "VQdrTTQ0tOCC"
      }
    },
    {
      "cell_type": "code",
      "source": [
        "mp=lr2model.coef_[0][0]\n",
        "cp=lr2model.intercept_[0]\n",
        "print(f\"y = {round(mp,4)}x + {round(cp,4)}\")"
      ],
      "metadata": {
        "colab": {
          "base_uri": "https://localhost:8080/"
        },
        "id": "4OL0jvyM8FrV",
        "outputId": "074edece-35ba-4016-aa73-66d10350434a"
      },
      "execution_count": 189,
      "outputs": [
        {
          "output_type": "stream",
          "name": "stdout",
          "text": [
            "y = 32.1107x + -0.1342\n"
          ]
        }
      ]
    },
    {
      "cell_type": "markdown",
      "source": [
        "Plotting Regressor Line"
      ],
      "metadata": {
        "id": "34HE4aiNtSII"
      }
    },
    {
      "cell_type": "code",
      "source": [
        "yl = [mp * xi + cp for xi in x2]\n",
        "plt.plot(x2,yl,label=f\"y = {round(mp,4)}x + {round(cp,4)}\")\n",
        "plt.xlabel('x')\n",
        "plt.ylabel('y')\n",
        "plt.title(\"Linear Regression Line\")\n",
        "plt.legend()\n",
        "plt.show()"
      ],
      "metadata": {
        "colab": {
          "base_uri": "https://localhost:8080/",
          "height": 472
        },
        "id": "BqZWFHZX8-5T",
        "outputId": "bc7673ab-f19e-4702-f827-21451d2446b1"
      },
      "execution_count": 190,
      "outputs": [
        {
          "output_type": "display_data",
          "data": {
            "text/plain": [
              "<Figure size 640x480 with 1 Axes>"
            ],
            "image/png": "[encoded data removed]"
          },
          "metadata": {}
        }
      ]
    },
    {
      "cell_type": "markdown",
      "source": [
        "Gpa Dataset"
      ],
      "metadata": {
        "id": "vdWrIpIwK4f0"
      }
    },
    {
      "cell_type": "code",
      "source": [
        "df3=pd.read_csv('/content/drive/MyDrive/Datasets/Simple linear regression.csv')\n",
        "df3.head()"
      ],
      "metadata": {
        "colab": {
          "base_uri": "https://localhost:8080/",
          "height": 206
        },
        "id": "j1m9mH_d_Ibw",
        "outputId": "2e9dfd8a-1420-48a0-ccad-617db95e9659"
      },
      "execution_count": 191,
      "outputs": [
        {
          "output_type": "execute_result",
          "data": {
            "text/plain": [
              "    SAT   GPA\n",
              "0  1714  2.40\n",
              "1  1664  2.52\n",
              "2  1760  2.54\n",
              "3  1685  2.74\n",
              "4  1693  2.83"
            ],
            "text/html": [
              "\n",
              "  <div id=\"df-92d87aa6-27b7-4359-880c-73108ea2e7f3\" class=\"colab-df-container\">\n",
              "    <div>\n",
              "<style scoped>\n",
              "    .dataframe tbody tr th:only-of-type {\n",
              "        vertical-align: middle;\n",
              "    }\n",
              "\n",
              "    .dataframe tbody tr th {\n",
              "        vertical-align: top;\n",
              "    }\n",
              "\n",
              "    .dataframe thead th {\n",
              "        text-align: right;\n",
              "    }\n",
              "</style>\n",
              "<table border=\"1\" class=\"dataframe\">\n",
              "  <thead>\n",
              "    <tr style=\"text-align: right;\">\n",
              "      <th></th>\n",
              "      <th>SAT</th>\n",
              "      <th>GPA</th>\n",
              "    </tr>\n",
              "  </thead>\n",
              "  <tbody>\n",
              "    <tr>\n",
              "      <th>0</th>\n",
              "      <td>1714</td>\n",
              "      <td>2.40</td>\n",
              "    </tr>\n",
              "    <tr>\n",
              "      <th>1</th>\n",
              "      <td>1664</td>\n",
              "      <td>2.52</td>\n",
              "    </tr>\n",
              "    <tr>\n",
              "      <th>2</th>\n",
              "      <td>1760</td>\n",
              "      <td>2.54</td>\n",
              "    </tr>\n",
              "    <tr>\n",
              "      <th>3</th>\n",
              "      <td>1685</td>\n",
              "      <td>2.74</td>\n",
              "    </tr>\n",
              "    <tr>\n",
              "      <th>4</th>\n",
              "      <td>1693</td>\n",
              "      <td>2.83</td>\n",
              "    </tr>\n",
              "  </tbody>\n",
              "</table>\n",
              "</div>\n",
              "    <div class=\"colab-df-buttons\">\n",
              "\n",
              "  <div class=\"colab-df-container\">\n",
              "    <button class=\"colab-df-convert\" onclick=\"convertToInteractive('df-92d87aa6-27b7-4359-880c-73108ea2e7f3')\"\n",
              "            title=\"Convert this dataframe to an interactive table.\"\n",
              "            style=\"display:none;\">\n",
              "\n",
              "  <svg xmlns=\"http://www.w3.org/2000/svg\" height=\"24px\" viewBox=\"0 -960 960 960\">\n",
              "    <path d=\"M120-120v-720h720v720H120Zm60-500h600v-160H180v160Zm220 220h160v-160H400v160Zm0 220h160v-160H400v160ZM180-400h160v-160H180v160Zm440 0h160v-160H620v160ZM180-180h160v-160H180v160Zm440 0h160v-160H620v160Z\"/>\n",
              "  </svg>\n",
              "    </button>\n",
              "\n",
              "  <style>\n",
              "    .colab-df-container {\n",
              "      display:flex;\n",
              "      gap: 12px;\n",
              "    }\n",
              "\n",
              "    .colab-df-convert {\n",
              "      background-color: #E8F0FE;\n",
              "      border: none;\n",
              "      border-radius: 50%;\n",
              "      cursor: pointer;\n",
              "      display: none;\n",
              "      fill: #1967D2;\n",
              "      height: 32px;\n",
              "      padding: 0 0 0 0;\n",
              "      width: 32px;\n",
              "    }\n",
              "\n",
              "    .colab-df-convert:hover {\n",
              "      background-color: #E2EBFA;\n",
              "      box-shadow: 0px 1px 2px rgba(60, 64, 67, 0.3), 0px 1px 3px 1px rgba(60, 64, 67, 0.15);\n",
              "      fill: #174EA6;\n",
              "    }\n",
              "\n",
              "    .colab-df-buttons div {\n",
              "      margin-bottom: 4px;\n",
              "    }\n",
              "\n",
              "    [theme=dark] .colab-df-convert {\n",
              "      background-color: #3B4455;\n",
              "      fill: #D2E3FC;\n",
              "    }\n",
              "\n",
              "    [theme=dark] .colab-df-convert:hover {\n",
              "      background-color: #434B5C;\n",
              "      box-shadow: 0px 1px 3px 1px rgba(0, 0, 0, 0.15);\n",
              "      filter: drop-shadow(0px 1px 2px rgba(0, 0, 0, 0.3));\n",
              "      fill: #FFFFFF;\n",
              "    }\n",
              "  </style>\n",
              "\n",
              "    <script>\n",
              "      const buttonEl =\n",
              "        document.querySelector('#df-92d87aa6-27b7-4359-880c-73108ea2e7f3 button.colab-df-convert');\n",
              "      buttonEl.style.display =\n",
              "        google.colab.kernel.accessAllowed ? 'block' : 'none';\n",
              "\n",
              "      async function convertToInteractive(key) {\n",
              "        const element = document.querySelector('#df-92d87aa6-27b7-4359-880c-73108ea2e7f3');\n",
              "        const dataTable =\n",
              "          await google.colab.kernel.invokeFunction('convertToInteractive',\n",
              "                                                    [key], {});\n",
              "        if (!dataTable) return;\n",
              "\n",
              "        const docLinkHtml = 'Like what you see? Visit the ' +\n",
              "          '<a target=\"_blank\" href=https://colab.research.google.com/notebooks/data_table.ipynb>data table notebook</a>'\n",
              "          + ' to learn more about interactive tables.';\n",
              "        element.innerHTML = '';\n",
              "        dataTable['output_type'] = 'display_data';\n",
              "        await google.colab.output.renderOutput(dataTable, element);\n",
              "        const docLink = document.createElement('div');\n",
              "        docLink.innerHTML = docLinkHtml;\n",
              "        element.appendChild(docLink);\n",
              "      }\n",
              "    </script>\n",
              "  </div>\n",
              "\n",
              "\n",
              "<div id=\"df-7f242038-7cdf-4fd8-9f65-f456e8aef8e7\">\n",
              "  <button class=\"colab-df-quickchart\" onclick=\"quickchart('df-7f242038-7cdf-4fd8-9f65-f456e8aef8e7')\"\n",
              "            title=\"Suggest charts\"\n",
              "            style=\"display:none;\">\n",
              "\n",
              "<svg xmlns=\"http://www.w3.org/2000/svg\" height=\"24px\"viewBox=\"0 0 24 24\"\n",
              "     width=\"24px\">\n",
              "    <g>\n",
              "        <path d=\"M19 3H5c-1.1 0-2 .9-2 2v14c0 1.1.9 2 2 2h14c1.1 0 2-.9 2-2V5c0-1.1-.9-2-2-2zM9 17H7v-7h2v7zm4 0h-2V7h2v10zm4 0h-2v-4h2v4z\"/>\n",
              "    </g>\n",
              "</svg>\n",
              "  </button>\n",
              "\n",
              "<style>\n",
              "  .colab-df-quickchart {\n",
              "      --bg-color: #E8F0FE;\n",
              "      --fill-color: #1967D2;\n",
              "      --hover-bg-color: #E2EBFA;\n",
              "      --hover-fill-color: #174EA6;\n",
              "      --disabled-fill-color: #AAA;\n",
              "      --disabled-bg-color: #DDD;\n",
              "  }\n",
              "\n",
              "  [theme=dark] .colab-df-quickchart {\n",
              "      --bg-color: #3B4455;\n",
              "      --fill-color: #D2E3FC;\n",
              "      --hover-bg-color: #434B5C;\n",
              "      --hover-fill-color: #FFFFFF;\n",
              "      --disabled-bg-color: #3B4455;\n",
              "      --disabled-fill-color: #666;\n",
              "  }\n",
              "\n",
              "  .colab-df-quickchart {\n",
              "    background-color: var(--bg-color);\n",
              "    border: none;\n",
              "    border-radius: 50%;\n",
              "    cursor: pointer;\n",
              "    display: none;\n",
              "    fill: var(--fill-color);\n",
              "    height: 32px;\n",
              "    padding: 0;\n",
              "    width: 32px;\n",
              "  }\n",
              "\n",
              "  .colab-df-quickchart:hover {\n",
              "    background-color: var(--hover-bg-color);\n",
              "    box-shadow: 0 1px 2px rgba(60, 64, 67, 0.3), 0 1px 3px 1px rgba(60, 64, 67, 0.15);\n",
              "    fill: var(--button-hover-fill-color);\n",
              "  }\n",
              "\n",
              "  .colab-df-quickchart-complete:disabled,\n",
              "  .colab-df-quickchart-complete:disabled:hover {\n",
              "    background-color: var(--disabled-bg-color);\n",
              "    fill: var(--disabled-fill-color);\n",
              "    box-shadow: none;\n",
              "  }\n",
              "\n",
              "  .colab-df-spinner {\n",
              "    border: 2px solid var(--fill-color);\n",
              "    border-color: transparent;\n",
              "    border-bottom-color: var(--fill-color);\n",
              "    animation:\n",
              "      spin 1s steps(1) infinite;\n",
              "  }\n",
              "\n",
              "  @keyframes spin {\n",
              "    0% {\n",
              "      border-color: transparent;\n",
              "      border-bottom-color: var(--fill-color);\n",
              "      border-left-color: var(--fill-color);\n",
              "    }\n",
              "    20% {\n",
              "      border-color: transparent;\n",
              "      border-left-color: var(--fill-color);\n",
              "      border-top-color: var(--fill-color);\n",
              "    }\n",
              "    30% {\n",
              "      border-color: transparent;\n",
              "      border-left-color: var(--fill-color);\n",
              "      border-top-color: var(--fill-color);\n",
              "      border-right-color: var(--fill-color);\n",
              "    }\n",
              "    40% {\n",
              "      border-color: transparent;\n",
              "      border-right-color: var(--fill-color);\n",
              "      border-top-color: var(--fill-color);\n",
              "    }\n",
              "    60% {\n",
              "      border-color: transparent;\n",
              "      border-right-color: var(--fill-color);\n",
              "    }\n",
              "    80% {\n",
              "      border-color: transparent;\n",
              "      border-right-color: var(--fill-color);\n",
              "      border-bottom-color: var(--fill-color);\n",
              "    }\n",
              "    90% {\n",
              "      border-color: transparent;\n",
              "      border-bottom-color: var(--fill-color);\n",
              "    }\n",
              "  }\n",
              "</style>\n",
              "\n",
              "  <script>\n",
              "    async function quickchart(key) {\n",
              "      const quickchartButtonEl =\n",
              "        document.querySelector('#' + key + ' button');\n",
              "      quickchartButtonEl.disabled = true;  // To prevent multiple clicks.\n",
              "      quickchartButtonEl.classList.add('colab-df-spinner');\n",
              "      try {\n",
              "        const charts = await google.colab.kernel.invokeFunction(\n",
              "            'suggestCharts', [key], {});\n",
              "      } catch (error) {\n",
              "        console.error('Error during call to suggestCharts:', error);\n",
              "      }\n",
              "      quickchartButtonEl.classList.remove('colab-df-spinner');\n",
              "      quickchartButtonEl.classList.add('colab-df-quickchart-complete');\n",
              "    }\n",
              "    (() => {\n",
              "      let quickchartButtonEl =\n",
              "        document.querySelector('#df-7f242038-7cdf-4fd8-9f65-f456e8aef8e7 button');\n",
              "      quickchartButtonEl.style.display =\n",
              "        google.colab.kernel.accessAllowed ? 'block' : 'none';\n",
              "    })();\n",
              "  </script>\n",
              "</div>\n",
              "\n",
              "    </div>\n",
              "  </div>\n"
            ],
            "application/vnd.google.colaboratory.intrinsic+json": {
              "type": "dataframe",
              "variable_name": "df3",
              "summary": "{\n  \"name\": \"df3\",\n  \"rows\": 100,\n  \"fields\": [\n    {\n      \"column\": \"SAT\",\n      \"properties\": {\n        \"dtype\": \"number\",\n        \"std\": 101,\n        \"min\": 1634,\n        \"max\": 2050,\n        \"num_unique_values\": 73,\n        \"samples\": [\n          1693,\n          1975,\n          1761\n        ],\n        \"semantic_type\": \"\",\n        \"description\": \"\"\n      }\n    },\n    {\n      \"column\": \"GPA\",\n      \"properties\": {\n        \"dtype\": \"number\",\n        \"std\": 0.25884504549200393,\n        \"min\": 2.4,\n        \"max\": 3.81,\n        \"num_unique_values\": 47,\n        \"samples\": [\n          3.42,\n          3.61,\n          3.41\n        ],\n        \"semantic_type\": \"\",\n        \"description\": \"\"\n      }\n    }\n  ]\n}"
            }
          },
          "metadata": {},
          "execution_count": 191
        }
      ]
    },
    {
      "cell_type": "markdown",
      "source": [
        "Splitting into x and y"
      ],
      "metadata": {
        "id": "4qL-sFOptZs2"
      }
    },
    {
      "cell_type": "code",
      "source": [
        "x3=list(df3.iloc[:,0])\n",
        "y3=list(df3.iloc[:,1])"
      ],
      "metadata": {
        "id": "7RmNITE_B8A4"
      },
      "execution_count": 192,
      "outputs": []
    },
    {
      "cell_type": "markdown",
      "source": [
        "Plotting Values"
      ],
      "metadata": {
        "id": "lE2bKV7YtXE7"
      }
    },
    {
      "cell_type": "code",
      "source": [
        "plt.scatter(x3,y3)\n",
        "plt.show()"
      ],
      "metadata": {
        "colab": {
          "base_uri": "https://localhost:8080/",
          "height": 430
        },
        "id": "8s0HLCqiCAj3",
        "outputId": "40a29db7-d126-42cd-e448-bc8e35452d03"
      },
      "execution_count": 193,
      "outputs": [
        {
          "output_type": "display_data",
          "data": {
            "text/plain": [
              "<Figure size 640x480 with 1 Axes>"
            ],
            "image/png": "[encoded data removed]"
          },
          "metadata": {}
        }
      ]
    },
    {
      "cell_type": "markdown",
      "source": [
        "Calculation of values"
      ],
      "metadata": {
        "id": "UyJeKvSCtb2y"
      }
    },
    {
      "cell_type": "code",
      "source": [
        "xsum=sum(x3)\n",
        "ysum=sum(y3)\n",
        "xmean=xsum/len(x3)\n",
        "ymean=ysum/len(y3)\n",
        "xysum=0\n",
        "x2sum=0\n",
        "for i in range(len(x3)):\n",
        "  xysum=x3[i]*y3[i]\n",
        "for i in range(len(x3)):\n",
        "  x2sum=x3[i]**2\n",
        "n=len(x3)\n",
        "print(\"n: \",n)\n",
        "print(\"X: \",xsum)\n",
        "print(\"Y: \",ysum)\n",
        "print(\"Xm: \",xmean)\n",
        "print(\"Ym: \",ymean)\n",
        "print(\"XY: \",xysum)\n",
        "print(\"X2: \",x2sum)"
      ],
      "metadata": {
        "colab": {
          "base_uri": "https://localhost:8080/"
        },
        "id": "-3XgFDhoCD_s",
        "outputId": "07b0d01a-3581-4c3d-d47d-a26ca6e1250e"
      },
      "execution_count": 194,
      "outputs": [
        {
          "output_type": "stream",
          "name": "stdout",
          "text": [
            "n:  100\n",
            "X:  185076\n",
            "Y:  336.0499999999999\n",
            "Xm:  1850.76\n",
            "Ym:  3.360499999999999\n",
            "XY:  6383.0199999999995\n",
            "X2:  3161284\n"
          ]
        }
      ]
    },
    {
      "cell_type": "markdown",
      "source": [
        "Regressor Equation"
      ],
      "metadata": {
        "id": "SZhTAnjoteSD"
      }
    },
    {
      "cell_type": "code",
      "source": [
        "m3=(xysum-ymean*xsum)/(x2sum-xsum*xmean)\n",
        "c3=ymean-m3*xmean\n",
        "print(f\"y = {round(m3,4)}x + {round(c3,4)}\")"
      ],
      "metadata": {
        "colab": {
          "base_uri": "https://localhost:8080/"
        },
        "id": "0QTJ0YDxCQ5g",
        "outputId": "295eca04-e1aa-4a74-b019-4c3f88a96583"
      },
      "execution_count": 195,
      "outputs": [
        {
          "output_type": "stream",
          "name": "stdout",
          "text": [
            "y = 0.0018x + 0.0035\n"
          ]
        }
      ]
    },
    {
      "cell_type": "markdown",
      "source": [
        "Plotting Regressor Line and actual values"
      ],
      "metadata": {
        "id": "6XhoOI5rtgUi"
      }
    },
    {
      "cell_type": "code",
      "source": [
        "yl = [m3 * xi + c3 for xi in x3]\n",
        "plt.plot(x3,yl,label=f\"y = {round(m3,4)}x + {round(c3,4)}\")\n",
        "plt.scatter(x3,y3,color='red')\n",
        "plt.xlabel('x')\n",
        "plt.ylabel('y')\n",
        "plt.title(\"Linear Regression Line\")\n",
        "plt.legend()\n",
        "plt.show()"
      ],
      "metadata": {
        "colab": {
          "base_uri": "https://localhost:8080/",
          "height": 472
        },
        "id": "iv1t90KzCacV",
        "outputId": "5ababd17-da80-499e-dc7b-4236b87ab1c4"
      },
      "execution_count": 196,
      "outputs": [
        {
          "output_type": "display_data",
          "data": {
            "text/plain": [
              "<Figure size 640x480 with 1 Axes>"
            ],
            "image/png": "[encoded data removed]"
          },
          "metadata": {}
        }
      ]
    },
    {
      "cell_type": "markdown",
      "source": [
        "MSE"
      ],
      "metadata": {
        "id": "rNBNqoxwtq89"
      }
    },
    {
      "cell_type": "code",
      "source": [
        "mse = mean_squared_error(y3, yl)\n",
        "print(\"Mean Squared Error:\", mse)"
      ],
      "metadata": {
        "colab": {
          "base_uri": "https://localhost:8080/"
        },
        "id": "7ypmWFcPCmr_",
        "outputId": "98e34fb8-1ebe-460d-f41c-91d2706d5279"
      },
      "execution_count": 197,
      "outputs": [
        {
          "output_type": "stream",
          "name": "stdout",
          "text": [
            "Mean Squared Error: 0.04209445813402794\n"
          ]
        }
      ]
    },
    {
      "cell_type": "markdown",
      "source": [
        "Sklearn Library"
      ],
      "metadata": {
        "id": "5FaAaaTdtrr-"
      }
    },
    {
      "cell_type": "code",
      "source": [
        "from sklearn.linear_model import LinearRegression\n",
        "x3r=np.array(x3).reshape(-1, 1)\n",
        "y3r=np.array(y3).reshape(-1, 1)\n",
        "lr3model=LinearRegression()\n",
        "lr3model.fit(x3r,y3r)\n",
        "score=lr3model.score(x3r,y3r)\n",
        "y_pred3=lr3model.predict(x3r)\n",
        "m3p=lr3model.coef_[0][0]\n",
        "c3p=lr3model.intercept_[0]\n",
        "mse = mean_squared_error(y3, y_pred3)\n",
        "print(\"Mean Squared Error:\", mse)"
      ],
      "metadata": {
        "colab": {
          "base_uri": "https://localhost:8080/"
        },
        "id": "nJVCqTlvCs5i",
        "outputId": "7e778d8f-4b4c-4d56-9698-1b0b9f278608"
      },
      "execution_count": 198,
      "outputs": [
        {
          "output_type": "stream",
          "name": "stdout",
          "text": [
            "Mean Squared Error: 0.04144211890322454\n"
          ]
        }
      ]
    },
    {
      "cell_type": "markdown",
      "source": [
        "Plotting Regressor Line"
      ],
      "metadata": {
        "id": "fQcDKABOtt_V"
      }
    },
    {
      "cell_type": "code",
      "source": [
        "yl = [m3p * xi + c3p for xi in x3]\n",
        "plt.plot(x3,yl,label=f\"y = {round(m3p,4)}x + {round(c3p,4)}\")\n",
        "plt.scatter(x3,y3,color='red')\n",
        "plt.xlabel('x')\n",
        "plt.ylabel('y')\n",
        "plt.title(\"Linear Regression Line\")\n",
        "plt.legend()\n",
        "plt.show()"
      ],
      "metadata": {
        "colab": {
          "base_uri": "https://localhost:8080/",
          "height": 472
        },
        "id": "SU3jhQO5D8bG",
        "outputId": "54e3f051-ff52-4c30-b3cb-b1a780f5e65e"
      },
      "execution_count": 199,
      "outputs": [
        {
          "output_type": "display_data",
          "data": {
            "text/plain": [
              "<Figure size 640x480 with 1 Axes>"
            ],
            "image/png": "[encoded data removed]"
          },
          "metadata": {}
        }
      ]
    },
    {
      "cell_type": "markdown",
      "source": [
        "Multiple Linear Regression"
      ],
      "metadata": {
        "id": "pMAljElONMvF"
      }
    },
    {
      "cell_type": "code",
      "source": [
        "df4=pd.read_csv('/content/drive/MyDrive/Datasets/Student_Performance.csv')\n",
        "df4.head()"
      ],
      "metadata": {
        "colab": {
          "base_uri": "https://localhost:8080/",
          "height": 206
        },
        "id": "YxZ4J16ENOMq",
        "outputId": "51502fd9-f3e6-4be4-e9fb-667b953f1835"
      },
      "execution_count": 202,
      "outputs": [
        {
          "output_type": "execute_result",
          "data": {
            "text/plain": [
              "   Hours Studied  Previous Scores Extracurricular Activities  Sleep Hours  \\\n",
              "0              7               99                        Yes            9   \n",
              "1              4               82                         No            4   \n",
              "2              8               51                        Yes            7   \n",
              "3              5               52                        Yes            5   \n",
              "4              7               75                         No            8   \n",
              "\n",
              "   Sample Question Papers Practiced  Performance Index  \n",
              "0                                 1               91.0  \n",
              "1                                 2               65.0  \n",
              "2                                 2               45.0  \n",
              "3                                 2               36.0  \n",
              "4                                 5               66.0  "
            ],
            "text/html": [
              "\n",
              "  <div id=\"df-1c596196-4b64-4bf1-adc0-e3fb63d616f6\" class=\"colab-df-container\">\n",
              "    <div>\n",
              "<style scoped>\n",
              "    .dataframe tbody tr th:only-of-type {\n",
              "        vertical-align: middle;\n",
              "    }\n",
              "\n",
              "    .dataframe tbody tr th {\n",
              "        vertical-align: top;\n",
              "    }\n",
              "\n",
              "    .dataframe thead th {\n",
              "        text-align: right;\n",
              "    }\n",
              "</style>\n",
              "<table border=\"1\" class=\"dataframe\">\n",
              "  <thead>\n",
              "    <tr style=\"text-align: right;\">\n",
              "      <th></th>\n",
              "      <th>Hours Studied</th>\n",
              "      <th>Previous Scores</th>\n",
              "      <th>Extracurricular Activities</th>\n",
              "      <th>Sleep Hours</th>\n",
              "      <th>Sample Question Papers Practiced</th>\n",
              "      <th>Performance Index</th>\n",
              "    </tr>\n",
              "  </thead>\n",
              "  <tbody>\n",
              "    <tr>\n",
              "      <th>0</th>\n",
              "      <td>7</td>\n",
              "      <td>99</td>\n",
              "      <td>Yes</td>\n",
              "      <td>9</td>\n",
              "      <td>1</td>\n",
              "      <td>91.0</td>\n",
              "    </tr>\n",
              "    <tr>\n",
              "      <th>1</th>\n",
              "      <td>4</td>\n",
              "      <td>82</td>\n",
              "      <td>No</td>\n",
              "      <td>4</td>\n",
              "      <td>2</td>\n",
              "      <td>65.0</td>\n",
              "    </tr>\n",
              "    <tr>\n",
              "      <th>2</th>\n",
              "      <td>8</td>\n",
              "      <td>51</td>\n",
              "      <td>Yes</td>\n",
              "      <td>7</td>\n",
              "      <td>2</td>\n",
              "      <td>45.0</td>\n",
              "    </tr>\n",
              "    <tr>\n",
              "      <th>3</th>\n",
              "      <td>5</td>\n",
              "      <td>52</td>\n",
              "      <td>Yes</td>\n",
              "      <td>5</td>\n",
              "      <td>2</td>\n",
              "      <td>36.0</td>\n",
              "    </tr>\n",
              "    <tr>\n",
              "      <th>4</th>\n",
              "      <td>7</td>\n",
              "      <td>75</td>\n",
              "      <td>No</td>\n",
              "      <td>8</td>\n",
              "      <td>5</td>\n",
              "      <td>66.0</td>\n",
              "    </tr>\n",
              "  </tbody>\n",
              "</table>\n",
              "</div>\n",
              "    <div class=\"colab-df-buttons\">\n",
              "\n",
              "  <div class=\"colab-df-container\">\n",
              "    <button class=\"colab-df-convert\" onclick=\"convertToInteractive('df-1c596196-4b64-4bf1-adc0-e3fb63d616f6')\"\n",
              "            title=\"Convert this dataframe to an interactive table.\"\n",
              "            style=\"display:none;\">\n",
              "\n",
              "  <svg xmlns=\"http://www.w3.org/2000/svg\" height=\"24px\" viewBox=\"0 -960 960 960\">\n",
              "    <path d=\"M120-120v-720h720v720H120Zm60-500h600v-160H180v160Zm220 220h160v-160H400v160Zm0 220h160v-160H400v160ZM180-400h160v-160H180v160Zm440 0h160v-160H620v160ZM180-180h160v-160H180v160Zm440 0h160v-160H620v160Z\"/>\n",
              "  </svg>\n",
              "    </button>\n",
              "\n",
              "  <style>\n",
              "    .colab-df-container {\n",
              "      display:flex;\n",
              "      gap: 12px;\n",
              "    }\n",
              "\n",
              "    .colab-df-convert {\n",
              "      background-color: #E8F0FE;\n",
              "      border: none;\n",
              "      border-radius: 50%;\n",
              "      cursor: pointer;\n",
              "      display: none;\n",
              "      fill: #1967D2;\n",
              "      height: 32px;\n",
              "      padding: 0 0 0 0;\n",
              "      width: 32px;\n",
              "    }\n",
              "\n",
              "    .colab-df-convert:hover {\n",
              "      background-color: #E2EBFA;\n",
              "      box-shadow: 0px 1px 2px rgba(60, 64, 67, 0.3), 0px 1px 3px 1px rgba(60, 64, 67, 0.15);\n",
              "      fill: #174EA6;\n",
              "    }\n",
              "\n",
              "    .colab-df-buttons div {\n",
              "      margin-bottom: 4px;\n",
              "    }\n",
              "\n",
              "    [theme=dark] .colab-df-convert {\n",
              "      background-color: #3B4455;\n",
              "      fill: #D2E3FC;\n",
              "    }\n",
              "\n",
              "    [theme=dark] .colab-df-convert:hover {\n",
              "      background-color: #434B5C;\n",
              "      box-shadow: 0px 1px 3px 1px rgba(0, 0, 0, 0.15);\n",
              "      filter: drop-shadow(0px 1px 2px rgba(0, 0, 0, 0.3));\n",
              "      fill: #FFFFFF;\n",
              "    }\n",
              "  </style>\n",
              "\n",
              "    <script>\n",
              "      const buttonEl =\n",
              "        document.querySelector('#df-1c596196-4b64-4bf1-adc0-e3fb63d616f6 button.colab-df-convert');\n",
              "      buttonEl.style.display =\n",
              "        google.colab.kernel.accessAllowed ? 'block' : 'none';\n",
              "\n",
              "      async function convertToInteractive(key) {\n",
              "        const element = document.querySelector('#df-1c596196-4b64-4bf1-adc0-e3fb63d616f6');\n",
              "        const dataTable =\n",
              "          await google.colab.kernel.invokeFunction('convertToInteractive',\n",
              "                                                    [key], {});\n",
              "        if (!dataTable) return;\n",
              "\n",
              "        const docLinkHtml = 'Like what you see? Visit the ' +\n",
              "          '<a target=\"_blank\" href=https://colab.research.google.com/notebooks/data_table.ipynb>data table notebook</a>'\n",
              "          + ' to learn more about interactive tables.';\n",
              "        element.innerHTML = '';\n",
              "        dataTable['output_type'] = 'display_data';\n",
              "        await google.colab.output.renderOutput(dataTable, element);\n",
              "        const docLink = document.createElement('div');\n",
              "        docLink.innerHTML = docLinkHtml;\n",
              "        element.appendChild(docLink);\n",
              "      }\n",
              "    </script>\n",
              "  </div>\n",
              "\n",
              "\n",
              "<div id=\"df-6e411dd0-5e3a-4dee-9de2-87cee096ac5e\">\n",
              "  <button class=\"colab-df-quickchart\" onclick=\"quickchart('df-6e411dd0-5e3a-4dee-9de2-87cee096ac5e')\"\n",
              "            title=\"Suggest charts\"\n",
              "            style=\"display:none;\">\n",
              "\n",
              "<svg xmlns=\"http://www.w3.org/2000/svg\" height=\"24px\"viewBox=\"0 0 24 24\"\n",
              "     width=\"24px\">\n",
              "    <g>\n",
              "        <path d=\"M19 3H5c-1.1 0-2 .9-2 2v14c0 1.1.9 2 2 2h14c1.1 0 2-.9 2-2V5c0-1.1-.9-2-2-2zM9 17H7v-7h2v7zm4 0h-2V7h2v10zm4 0h-2v-4h2v4z\"/>\n",
              "    </g>\n",
              "</svg>\n",
              "  </button>\n",
              "\n",
              "<style>\n",
              "  .colab-df-quickchart {\n",
              "      --bg-color: #E8F0FE;\n",
              "      --fill-color: #1967D2;\n",
              "      --hover-bg-color: #E2EBFA;\n",
              "      --hover-fill-color: #174EA6;\n",
              "      --disabled-fill-color: #AAA;\n",
              "      --disabled-bg-color: #DDD;\n",
              "  }\n",
              "\n",
              "  [theme=dark] .colab-df-quickchart {\n",
              "      --bg-color: #3B4455;\n",
              "      --fill-color: #D2E3FC;\n",
              "      --hover-bg-color: #434B5C;\n",
              "      --hover-fill-color: #FFFFFF;\n",
              "      --disabled-bg-color: #3B4455;\n",
              "      --disabled-fill-color: #666;\n",
              "  }\n",
              "\n",
              "  .colab-df-quickchart {\n",
              "    background-color: var(--bg-color);\n",
              "    border: none;\n",
              "    border-radius: 50%;\n",
              "    cursor: pointer;\n",
              "    display: none;\n",
              "    fill: var(--fill-color);\n",
              "    height: 32px;\n",
              "    padding: 0;\n",
              "    width: 32px;\n",
              "  }\n",
              "\n",
              "  .colab-df-quickchart:hover {\n",
              "    background-color: var(--hover-bg-color);\n",
              "    box-shadow: 0 1px 2px rgba(60, 64, 67, 0.3), 0 1px 3px 1px rgba(60, 64, 67, 0.15);\n",
              "    fill: var(--button-hover-fill-color);\n",
              "  }\n",
              "\n",
              "  .colab-df-quickchart-complete:disabled,\n",
              "  .colab-df-quickchart-complete:disabled:hover {\n",
              "    background-color: var(--disabled-bg-color);\n",
              "    fill: var(--disabled-fill-color);\n",
              "    box-shadow: none;\n",
              "  }\n",
              "\n",
              "  .colab-df-spinner {\n",
              "    border: 2px solid var(--fill-color);\n",
              "    border-color: transparent;\n",
              "    border-bottom-color: var(--fill-color);\n",
              "    animation:\n",
              "      spin 1s steps(1) infinite;\n",
              "  }\n",
              "\n",
              "  @keyframes spin {\n",
              "    0% {\n",
              "      border-color: transparent;\n",
              "      border-bottom-color: var(--fill-color);\n",
              "      border-left-color: var(--fill-color);\n",
              "    }\n",
              "    20% {\n",
              "      border-color: transparent;\n",
              "      border-left-color: var(--fill-color);\n",
              "      border-top-color: var(--fill-color);\n",
              "    }\n",
              "    30% {\n",
              "      border-color: transparent;\n",
              "      border-left-color: var(--fill-color);\n",
              "      border-top-color: var(--fill-color);\n",
              "      border-right-color: var(--fill-color);\n",
              "    }\n",
              "    40% {\n",
              "      border-color: transparent;\n",
              "      border-right-color: var(--fill-color);\n",
              "      border-top-color: var(--fill-color);\n",
              "    }\n",
              "    60% {\n",
              "      border-color: transparent;\n",
              "      border-right-color: var(--fill-color);\n",
              "    }\n",
              "    80% {\n",
              "      border-color: transparent;\n",
              "      border-right-color: var(--fill-color);\n",
              "      border-bottom-color: var(--fill-color);\n",
              "    }\n",
              "    90% {\n",
              "      border-color: transparent;\n",
              "      border-bottom-color: var(--fill-color);\n",
              "    }\n",
              "  }\n",
              "</style>\n",
              "\n",
              "  <script>\n",
              "    async function quickchart(key) {\n",
              "      const quickchartButtonEl =\n",
              "        document.querySelector('#' + key + ' button');\n",
              "      quickchartButtonEl.disabled = true;  // To prevent multiple clicks.\n",
              "      quickchartButtonEl.classList.add('colab-df-spinner');\n",
              "      try {\n",
              "        const charts = await google.colab.kernel.invokeFunction(\n",
              "            'suggestCharts', [key], {});\n",
              "      } catch (error) {\n",
              "        console.error('Error during call to suggestCharts:', error);\n",
              "      }\n",
              "      quickchartButtonEl.classList.remove('colab-df-spinner');\n",
              "      quickchartButtonEl.classList.add('colab-df-quickchart-complete');\n",
              "    }\n",
              "    (() => {\n",
              "      let quickchartButtonEl =\n",
              "        document.querySelector('#df-6e411dd0-5e3a-4dee-9de2-87cee096ac5e button');\n",
              "      quickchartButtonEl.style.display =\n",
              "        google.colab.kernel.accessAllowed ? 'block' : 'none';\n",
              "    })();\n",
              "  </script>\n",
              "</div>\n",
              "\n",
              "    </div>\n",
              "  </div>\n"
            ],
            "application/vnd.google.colaboratory.intrinsic+json": {
              "type": "dataframe",
              "variable_name": "df4",
              "summary": "{\n  \"name\": \"df4\",\n  \"rows\": 10000,\n  \"fields\": [\n    {\n      \"column\": \"Hours Studied\",\n      \"properties\": {\n        \"dtype\": \"number\",\n        \"std\": 2,\n        \"min\": 1,\n        \"max\": 9,\n        \"num_unique_values\": 9,\n        \"samples\": [\n          1,\n          4,\n          6\n        ],\n        \"semantic_type\": \"\",\n        \"description\": \"\"\n      }\n    },\n    {\n      \"column\": \"Previous Scores\",\n      \"properties\": {\n        \"dtype\": \"number\",\n        \"std\": 17,\n        \"min\": 40,\n        \"max\": 99,\n        \"num_unique_values\": 60,\n        \"samples\": [\n          99,\n          78,\n          93\n        ],\n        \"semantic_type\": \"\",\n        \"description\": \"\"\n      }\n    },\n    {\n      \"column\": \"Extracurricular Activities\",\n      \"properties\": {\n        \"dtype\": \"category\",\n        \"num_unique_values\": 2,\n        \"samples\": [\n          \"No\",\n          \"Yes\"\n        ],\n        \"semantic_type\": \"\",\n        \"description\": \"\"\n      }\n    },\n    {\n      \"column\": \"Sleep Hours\",\n      \"properties\": {\n        \"dtype\": \"number\",\n        \"std\": 1,\n        \"min\": 4,\n        \"max\": 9,\n        \"num_unique_values\": 6,\n        \"samples\": [\n          9,\n          4\n        ],\n        \"semantic_type\": \"\",\n        \"description\": \"\"\n      }\n    },\n    {\n      \"column\": \"Sample Question Papers Practiced\",\n      \"properties\": {\n        \"dtype\": \"number\",\n        \"std\": 2,\n        \"min\": 0,\n        \"max\": 9,\n        \"num_unique_values\": 10,\n        \"samples\": [\n          9,\n          2\n        ],\n        \"semantic_type\": \"\",\n        \"description\": \"\"\n      }\n    },\n    {\n      \"column\": \"Performance Index\",\n      \"properties\": {\n        \"dtype\": \"number\",\n        \"std\": 19.212557799463344,\n        \"min\": 10.0,\n        \"max\": 100.0,\n        \"num_unique_values\": 91,\n        \"samples\": [\n          41.0,\n          49.0\n        ],\n        \"semantic_type\": \"\",\n        \"description\": \"\"\n      }\n    }\n  ]\n}"
            }
          },
          "metadata": {},
          "execution_count": 202
        }
      ]
    },
    {
      "cell_type": "code",
      "source": [
        "df4=df4.drop('Extracurricular Activities',axis=1)\n",
        "df4.head()"
      ],
      "metadata": {
        "colab": {
          "base_uri": "https://localhost:8080/",
          "height": 206
        },
        "id": "WKBYxTQwP7Js",
        "outputId": "5c812480-c901-4822-c65a-d2c2e9b5129f"
      },
      "execution_count": 205,
      "outputs": [
        {
          "output_type": "execute_result",
          "data": {
            "text/plain": [
              "   Hours Studied  Previous Scores  Sleep Hours  \\\n",
              "0              7               99            9   \n",
              "1              4               82            4   \n",
              "2              8               51            7   \n",
              "3              5               52            5   \n",
              "4              7               75            8   \n",
              "\n",
              "   Sample Question Papers Practiced  Performance Index  \n",
              "0                                 1               91.0  \n",
              "1                                 2               65.0  \n",
              "2                                 2               45.0  \n",
              "3                                 2               36.0  \n",
              "4                                 5               66.0  "
            ],
            "text/html": [
              "\n",
              "  <div id=\"df-102ae76d-0ef2-4f22-80c7-e0f2cc3df718\" class=\"colab-df-container\">\n",
              "    <div>\n",
              "<style scoped>\n",
              "    .dataframe tbody tr th:only-of-type {\n",
              "        vertical-align: middle;\n",
              "    }\n",
              "\n",
              "    .dataframe tbody tr th {\n",
              "        vertical-align: top;\n",
              "    }\n",
              "\n",
              "    .dataframe thead th {\n",
              "        text-align: right;\n",
              "    }\n",
              "</style>\n",
              "<table border=\"1\" class=\"dataframe\">\n",
              "  <thead>\n",
              "    <tr style=\"text-align: right;\">\n",
              "      <th></th>\n",
              "      <th>Hours Studied</th>\n",
              "      <th>Previous Scores</th>\n",
              "      <th>Sleep Hours</th>\n",
              "      <th>Sample Question Papers Practiced</th>\n",
              "      <th>Performance Index</th>\n",
              "    </tr>\n",
              "  </thead>\n",
              "  <tbody>\n",
              "    <tr>\n",
              "      <th>0</th>\n",
              "      <td>7</td>\n",
              "      <td>99</td>\n",
              "      <td>9</td>\n",
              "      <td>1</td>\n",
              "      <td>91.0</td>\n",
              "    </tr>\n",
              "    <tr>\n",
              "      <th>1</th>\n",
              "      <td>4</td>\n",
              "      <td>82</td>\n",
              "      <td>4</td>\n",
              "      <td>2</td>\n",
              "      <td>65.0</td>\n",
              "    </tr>\n",
              "    <tr>\n",
              "      <th>2</th>\n",
              "      <td>8</td>\n",
              "      <td>51</td>\n",
              "      <td>7</td>\n",
              "      <td>2</td>\n",
              "      <td>45.0</td>\n",
              "    </tr>\n",
              "    <tr>\n",
              "      <th>3</th>\n",
              "      <td>5</td>\n",
              "      <td>52</td>\n",
              "      <td>5</td>\n",
              "      <td>2</td>\n",
              "      <td>36.0</td>\n",
              "    </tr>\n",
              "    <tr>\n",
              "      <th>4</th>\n",
              "      <td>7</td>\n",
              "      <td>75</td>\n",
              "      <td>8</td>\n",
              "      <td>5</td>\n",
              "      <td>66.0</td>\n",
              "    </tr>\n",
              "  </tbody>\n",
              "</table>\n",
              "</div>\n",
              "    <div class=\"colab-df-buttons\">\n",
              "\n",
              "  <div class=\"colab-df-container\">\n",
              "    <button class=\"colab-df-convert\" onclick=\"convertToInteractive('df-102ae76d-0ef2-4f22-80c7-e0f2cc3df718')\"\n",
              "            title=\"Convert this dataframe to an interactive table.\"\n",
              "            style=\"display:none;\">\n",
              "\n",
              "  <svg xmlns=\"http://www.w3.org/2000/svg\" height=\"24px\" viewBox=\"0 -960 960 960\">\n",
              "    <path d=\"M120-120v-720h720v720H120Zm60-500h600v-160H180v160Zm220 220h160v-160H400v160Zm0 220h160v-160H400v160ZM180-400h160v-160H180v160Zm440 0h160v-160H620v160ZM180-180h160v-160H180v160Zm440 0h160v-160H620v160Z\"/>\n",
              "  </svg>\n",
              "    </button>\n",
              "\n",
              "  <style>\n",
              "    .colab-df-container {\n",
              "      display:flex;\n",
              "      gap: 12px;\n",
              "    }\n",
              "\n",
              "    .colab-df-convert {\n",
              "      background-color: #E8F0FE;\n",
              "      border: none;\n",
              "      border-radius: 50%;\n",
              "      cursor: pointer;\n",
              "      display: none;\n",
              "      fill: #1967D2;\n",
              "      height: 32px;\n",
              "      padding: 0 0 0 0;\n",
              "      width: 32px;\n",
              "    }\n",
              "\n",
              "    .colab-df-convert:hover {\n",
              "      background-color: #E2EBFA;\n",
              "      box-shadow: 0px 1px 2px rgba(60, 64, 67, 0.3), 0px 1px 3px 1px rgba(60, 64, 67, 0.15);\n",
              "      fill: #174EA6;\n",
              "    }\n",
              "\n",
              "    .colab-df-buttons div {\n",
              "      margin-bottom: 4px;\n",
              "    }\n",
              "\n",
              "    [theme=dark] .colab-df-convert {\n",
              "      background-color: #3B4455;\n",
              "      fill: #D2E3FC;\n",
              "    }\n",
              "\n",
              "    [theme=dark] .colab-df-convert:hover {\n",
              "      background-color: #434B5C;\n",
              "      box-shadow: 0px 1px 3px 1px rgba(0, 0, 0, 0.15);\n",
              "      filter: drop-shadow(0px 1px 2px rgba(0, 0, 0, 0.3));\n",
              "      fill: #FFFFFF;\n",
              "    }\n",
              "  </style>\n",
              "\n",
              "    <script>\n",
              "      const buttonEl =\n",
              "        document.querySelector('#df-102ae76d-0ef2-4f22-80c7-e0f2cc3df718 button.colab-df-convert');\n",
              "      buttonEl.style.display =\n",
              "        google.colab.kernel.accessAllowed ? 'block' : 'none';\n",
              "\n",
              "      async function convertToInteractive(key) {\n",
              "        const element = document.querySelector('#df-102ae76d-0ef2-4f22-80c7-e0f2cc3df718');\n",
              "        const dataTable =\n",
              "          await google.colab.kernel.invokeFunction('convertToInteractive',\n",
              "                                                    [key], {});\n",
              "        if (!dataTable) return;\n",
              "\n",
              "        const docLinkHtml = 'Like what you see? Visit the ' +\n",
              "          '<a target=\"_blank\" href=https://colab.research.google.com/notebooks/data_table.ipynb>data table notebook</a>'\n",
              "          + ' to learn more about interactive tables.';\n",
              "        element.innerHTML = '';\n",
              "        dataTable['output_type'] = 'display_data';\n",
              "        await google.colab.output.renderOutput(dataTable, element);\n",
              "        const docLink = document.createElement('div');\n",
              "        docLink.innerHTML = docLinkHtml;\n",
              "        element.appendChild(docLink);\n",
              "      }\n",
              "    </script>\n",
              "  </div>\n",
              "\n",
              "\n",
              "<div id=\"df-b0972043-e955-484a-820f-9d106342791b\">\n",
              "  <button class=\"colab-df-quickchart\" onclick=\"quickchart('df-b0972043-e955-484a-820f-9d106342791b')\"\n",
              "            title=\"Suggest charts\"\n",
              "            style=\"display:none;\">\n",
              "\n",
              "<svg xmlns=\"http://www.w3.org/2000/svg\" height=\"24px\"viewBox=\"0 0 24 24\"\n",
              "     width=\"24px\">\n",
              "    <g>\n",
              "        <path d=\"M19 3H5c-1.1 0-2 .9-2 2v14c0 1.1.9 2 2 2h14c1.1 0 2-.9 2-2V5c0-1.1-.9-2-2-2zM9 17H7v-7h2v7zm4 0h-2V7h2v10zm4 0h-2v-4h2v4z\"/>\n",
              "    </g>\n",
              "</svg>\n",
              "  </button>\n",
              "\n",
              "<style>\n",
              "  .colab-df-quickchart {\n",
              "      --bg-color: #E8F0FE;\n",
              "      --fill-color: #1967D2;\n",
              "      --hover-bg-color: #E2EBFA;\n",
              "      --hover-fill-color: #174EA6;\n",
              "      --disabled-fill-color: #AAA;\n",
              "      --disabled-bg-color: #DDD;\n",
              "  }\n",
              "\n",
              "  [theme=dark] .colab-df-quickchart {\n",
              "      --bg-color: #3B4455;\n",
              "      --fill-color: #D2E3FC;\n",
              "      --hover-bg-color: #434B5C;\n",
              "      --hover-fill-color: #FFFFFF;\n",
              "      --disabled-bg-color: #3B4455;\n",
              "      --disabled-fill-color: #666;\n",
              "  }\n",
              "\n",
              "  .colab-df-quickchart {\n",
              "    background-color: var(--bg-color);\n",
              "    border: none;\n",
              "    border-radius: 50%;\n",
              "    cursor: pointer;\n",
              "    display: none;\n",
              "    fill: var(--fill-color);\n",
              "    height: 32px;\n",
              "    padding: 0;\n",
              "    width: 32px;\n",
              "  }\n",
              "\n",
              "  .colab-df-quickchart:hover {\n",
              "    background-color: var(--hover-bg-color);\n",
              "    box-shadow: 0 1px 2px rgba(60, 64, 67, 0.3), 0 1px 3px 1px rgba(60, 64, 67, 0.15);\n",
              "    fill: var(--button-hover-fill-color);\n",
              "  }\n",
              "\n",
              "  .colab-df-quickchart-complete:disabled,\n",
              "  .colab-df-quickchart-complete:disabled:hover {\n",
              "    background-color: var(--disabled-bg-color);\n",
              "    fill: var(--disabled-fill-color);\n",
              "    box-shadow: none;\n",
              "  }\n",
              "\n",
              "  .colab-df-spinner {\n",
              "    border: 2px solid var(--fill-color);\n",
              "    border-color: transparent;\n",
              "    border-bottom-color: var(--fill-color);\n",
              "    animation:\n",
              "      spin 1s steps(1) infinite;\n",
              "  }\n",
              "\n",
              "  @keyframes spin {\n",
              "    0% {\n",
              "      border-color: transparent;\n",
              "      border-bottom-color: var(--fill-color);\n",
              "      border-left-color: var(--fill-color);\n",
              "    }\n",
              "    20% {\n",
              "      border-color: transparent;\n",
              "      border-left-color: var(--fill-color);\n",
              "      border-top-color: var(--fill-color);\n",
              "    }\n",
              "    30% {\n",
              "      border-color: transparent;\n",
              "      border-left-color: var(--fill-color);\n",
              "      border-top-color: var(--fill-color);\n",
              "      border-right-color: var(--fill-color);\n",
              "    }\n",
              "    40% {\n",
              "      border-color: transparent;\n",
              "      border-right-color: var(--fill-color);\n",
              "      border-top-color: var(--fill-color);\n",
              "    }\n",
              "    60% {\n",
              "      border-color: transparent;\n",
              "      border-right-color: var(--fill-color);\n",
              "    }\n",
              "    80% {\n",
              "      border-color: transparent;\n",
              "      border-right-color: var(--fill-color);\n",
              "      border-bottom-color: var(--fill-color);\n",
              "    }\n",
              "    90% {\n",
              "      border-color: transparent;\n",
              "      border-bottom-color: var(--fill-color);\n",
              "    }\n",
              "  }\n",
              "</style>\n",
              "\n",
              "  <script>\n",
              "    async function quickchart(key) {\n",
              "      const quickchartButtonEl =\n",
              "        document.querySelector('#' + key + ' button');\n",
              "      quickchartButtonEl.disabled = true;  // To prevent multiple clicks.\n",
              "      quickchartButtonEl.classList.add('colab-df-spinner');\n",
              "      try {\n",
              "        const charts = await google.colab.kernel.invokeFunction(\n",
              "            'suggestCharts', [key], {});\n",
              "      } catch (error) {\n",
              "        console.error('Error during call to suggestCharts:', error);\n",
              "      }\n",
              "      quickchartButtonEl.classList.remove('colab-df-spinner');\n",
              "      quickchartButtonEl.classList.add('colab-df-quickchart-complete');\n",
              "    }\n",
              "    (() => {\n",
              "      let quickchartButtonEl =\n",
              "        document.querySelector('#df-b0972043-e955-484a-820f-9d106342791b button');\n",
              "      quickchartButtonEl.style.display =\n",
              "        google.colab.kernel.accessAllowed ? 'block' : 'none';\n",
              "    })();\n",
              "  </script>\n",
              "</div>\n",
              "\n",
              "    </div>\n",
              "  </div>\n"
            ],
            "application/vnd.google.colaboratory.intrinsic+json": {
              "type": "dataframe",
              "variable_name": "df4",
              "summary": "{\n  \"name\": \"df4\",\n  \"rows\": 10000,\n  \"fields\": [\n    {\n      \"column\": \"Hours Studied\",\n      \"properties\": {\n        \"dtype\": \"number\",\n        \"std\": 2,\n        \"min\": 1,\n        \"max\": 9,\n        \"num_unique_values\": 9,\n        \"samples\": [\n          1,\n          4,\n          6\n        ],\n        \"semantic_type\": \"\",\n        \"description\": \"\"\n      }\n    },\n    {\n      \"column\": \"Previous Scores\",\n      \"properties\": {\n        \"dtype\": \"number\",\n        \"std\": 17,\n        \"min\": 40,\n        \"max\": 99,\n        \"num_unique_values\": 60,\n        \"samples\": [\n          99,\n          78,\n          93\n        ],\n        \"semantic_type\": \"\",\n        \"description\": \"\"\n      }\n    },\n    {\n      \"column\": \"Sleep Hours\",\n      \"properties\": {\n        \"dtype\": \"number\",\n        \"std\": 1,\n        \"min\": 4,\n        \"max\": 9,\n        \"num_unique_values\": 6,\n        \"samples\": [\n          9,\n          4,\n          6\n        ],\n        \"semantic_type\": \"\",\n        \"description\": \"\"\n      }\n    },\n    {\n      \"column\": \"Sample Question Papers Practiced\",\n      \"properties\": {\n        \"dtype\": \"number\",\n        \"std\": 2,\n        \"min\": 0,\n        \"max\": 9,\n        \"num_unique_values\": 10,\n        \"samples\": [\n          9,\n          2,\n          8\n        ],\n        \"semantic_type\": \"\",\n        \"description\": \"\"\n      }\n    },\n    {\n      \"column\": \"Performance Index\",\n      \"properties\": {\n        \"dtype\": \"number\",\n        \"std\": 19.212557799463344,\n        \"min\": 10.0,\n        \"max\": 100.0,\n        \"num_unique_values\": 91,\n        \"samples\": [\n          41.0,\n          49.0,\n          92.0\n        ],\n        \"semantic_type\": \"\",\n        \"description\": \"\"\n      }\n    }\n  ]\n}"
            }
          },
          "metadata": {},
          "execution_count": 205
        }
      ]
    },
    {
      "cell_type": "markdown",
      "source": [
        "Using Formulas from Simple Linear Regression"
      ],
      "metadata": {
        "id": "IhEgyFFuty8Q"
      }
    },
    {
      "cell_type": "markdown",
      "source": [
        "Regression Coefficient"
      ],
      "metadata": {
        "id": "CNRYr3I-twwX"
      }
    },
    {
      "cell_type": "code",
      "source": [
        "def regcoef(x,y):\n",
        "  xsum=sum(x)\n",
        "  ysum=sum(y)\n",
        "  xmean=xsum/len(x)\n",
        "  ymean=ysum/len(y)\n",
        "  xysum=0\n",
        "  x2sum=0\n",
        "  for i in range(len(x)):\n",
        "    xysum=x[i]*y[i]\n",
        "  for i in range(len(x)):\n",
        "    x2sum=x[i]**2\n",
        "  m=(xysum-ymean*xsum)/(x2sum-xsum*xmean)\n",
        "  return m"
      ],
      "metadata": {
        "id": "Movce8VdPPaz"
      },
      "execution_count": 218,
      "outputs": []
    },
    {
      "cell_type": "markdown",
      "source": [
        "Regression intercept"
      ],
      "metadata": {
        "id": "qRve2gzpt2Gh"
      }
    },
    {
      "cell_type": "code",
      "source": [
        "def regintercept(b1,xm,ym):\n",
        "  c=ym\n",
        "  for i in range(len(b1)):\n",
        "    c=c-b1[i]*xm[i]\n",
        "  return c"
      ],
      "metadata": {
        "id": "ctoFsmfoRpHx"
      },
      "execution_count": 222,
      "outputs": []
    },
    {
      "cell_type": "markdown",
      "source": [
        "Splitting x and y"
      ],
      "metadata": {
        "id": "KmfhM6Wct4K8"
      }
    },
    {
      "cell_type": "code",
      "source": [
        "y=df4.iloc[:,-1]\n",
        "x=df4.iloc[:,:-1]"
      ],
      "metadata": {
        "id": "GncltGCiPuJa"
      },
      "execution_count": 207,
      "outputs": []
    },
    {
      "cell_type": "markdown",
      "source": [
        "Numeric Columns of dataset"
      ],
      "metadata": {
        "id": "CXPFh7lQt66i"
      }
    },
    {
      "cell_type": "code",
      "source": [
        "num_col=[]\n",
        "for i in x:\n",
        "  num_col.append(i)\n",
        "print(num_col)"
      ],
      "metadata": {
        "colab": {
          "base_uri": "https://localhost:8080/"
        },
        "id": "O4wfd3t3QDqU",
        "outputId": "98900755-57d3-47ce-ff55-52e42c52b4c2"
      },
      "execution_count": 212,
      "outputs": [
        {
          "output_type": "stream",
          "name": "stdout",
          "text": [
            "['Hours Studied', 'Previous Scores', 'Sleep Hours', 'Sample Question Papers Practiced']\n"
          ]
        }
      ]
    },
    {
      "cell_type": "markdown",
      "source": [
        "Calculating βᵢ for all numeric columns"
      ],
      "metadata": {
        "id": "9GZwKDyRt90I"
      }
    },
    {
      "cell_type": "markdown",
      "source": [
        "Calculating $ \\beta_0 $"
      ],
      "metadata": {
        "id": "WBjPL2ugux-l"
      }
    },
    {
      "cell_type": "markdown",
      "source": [
        "$ \\beta_0 = \\bar{y} - b_1 \\bar{x}_1 - b_2 \\bar{x}_2     \\dots - b_k \\bar{x}_k $"
      ],
      "metadata": {
        "id": "Ld8NMs-4uODz"
      }
    },
    {
      "cell_type": "code",
      "source": [
        "b1=[]\n",
        "xm=[]\n",
        "ym=y.mean()\n",
        "for i in num_col:\n",
        "  b1.append(regcoef(df4[i],y))\n",
        "  xm.append(df4[i].mean())\n",
        "print(b1)\n",
        "print(xm)\n",
        "print(ym)"
      ],
      "metadata": {
        "colab": {
          "base_uri": "https://localhost:8080/"
        },
        "id": "VESjAP1YQMrK",
        "outputId": "eaf9f5c2-f879-43e0-e9cf-f253c8a01a90"
      },
      "execution_count": 219,
      "outputs": [
        {
          "output_type": "stream",
          "name": "stdout",
          "text": [
            "[11.061043180408252, 0.7952148338743703, 8.456381841644477, 12.048887594733127]\n",
            "[4.9929, 69.4457, 6.5306, 4.5833]\n",
            "55.2248\n"
          ]
        }
      ]
    },
    {
      "cell_type": "code",
      "source": [
        "c=regintercept(b1,xm,ym)\n",
        "print(c)"
      ],
      "metadata": {
        "colab": {
          "base_uri": "https://localhost:8080/"
        },
        "id": "L_XK7id2SuqV",
        "outputId": "5e1aa94f-5f17-4d6b-9de3-2a9fa9eb63c2"
      },
      "execution_count": 223,
      "outputs": [
        {
          "output_type": "stream",
          "name": "stdout",
          "text": [
            "-165.67504705223348\n"
          ]
        }
      ]
    },
    {
      "cell_type": "markdown",
      "source": [
        "Regressor Equation"
      ],
      "metadata": {
        "id": "xJ8WE_nFvGtP"
      }
    },
    {
      "cell_type": "code",
      "source": [
        "s=\"y = \"\n",
        "for i in range(len(b1)):\n",
        "  s=s+str(round(b1[i],2))+\"x\"+str(i)+\" + \"\n",
        "s=s+str(round(c,2))\n",
        "print(s)"
      ],
      "metadata": {
        "colab": {
          "base_uri": "https://localhost:8080/"
        },
        "id": "juJEPQU1VEls",
        "outputId": "9b215ed7-7362-4341-9aeb-eea8bbb59cdd"
      },
      "execution_count": 237,
      "outputs": [
        {
          "output_type": "stream",
          "name": "stdout",
          "text": [
            "y = 11.06x0 + 0.8x1 + 8.46x2 + 12.05x3 + -165.68\n"
          ]
        }
      ]
    },
    {
      "cell_type": "markdown",
      "source": [
        "Prediction using formula"
      ],
      "metadata": {
        "id": "0mYO9KAuvIbu"
      }
    },
    {
      "cell_type": "markdown",
      "source": [
        "$ y = 11.06 x_0 + 0.8 x_1 + 8.46 x_2 + 12.05 x_3 - 165.68 $"
      ],
      "metadata": {
        "id": "_-P8PLv8vNyI"
      }
    },
    {
      "cell_type": "code",
      "source": [
        "def ypred(x):\n",
        "  yp=c\n",
        "  for i in range(len(x)):\n",
        "    yp=yp+x[i]*b1[i]\n",
        "  return yp"
      ],
      "metadata": {
        "id": "U6CAmH04S9qm"
      },
      "execution_count": 241,
      "outputs": []
    },
    {
      "cell_type": "code",
      "source": [
        "y_pred=[]\n",
        "for i in range(len(x)):\n",
        "  y_pred.append(ypred(x.iloc[i]))"
      ],
      "metadata": {
        "id": "Q-7YXm-sTUJ1"
      },
      "execution_count": 245,
      "outputs": []
    },
    {
      "cell_type": "markdown",
      "source": [
        "Regression Scores"
      ],
      "metadata": {
        "id": "WL4J5_gnvd-r"
      }
    },
    {
      "cell_type": "code",
      "source": [
        "from sklearn.metrics import mean_squared_error, mean_absolute_error, r2_score\n",
        "mse = mean_squared_error(y, y_pred)\n",
        "mae = mean_absolute_error(y, y_pred)\n",
        "r2 = r2_score(y, y_pred)\n",
        "\n",
        "print(\"Mean Squared Error (MSE):\", mse)\n",
        "print(\"Mean Absolute Error (MAE):\", mae)\n",
        "print(\"R-squared (R²) Score:\", r2)"
      ],
      "metadata": {
        "colab": {
          "base_uri": "https://localhost:8080/"
        },
        "id": "GcjStwjyWpXy",
        "outputId": "0ef7df7c-d412-49eb-d7be-2900eaaf3e1f"
      },
      "execution_count": 250,
      "outputs": [
        {
          "output_type": "stream",
          "name": "stdout",
          "text": [
            "Mean Squared Error (MSE): 1838.0457027117066\n",
            "Mean Absolute Error (MAE): 35.23367822989346\n",
            "R-squared (R²) Score: -3.980000236289193\n"
          ]
        }
      ]
    },
    {
      "cell_type": "markdown",
      "source": [
        "Using Sklearn Library"
      ],
      "metadata": {
        "id": "-tGw4T_pvgOn"
      }
    },
    {
      "cell_type": "code",
      "source": [
        "from sklearn.linear_model import LinearRegression\n",
        "model=LinearRegression()\n",
        "model.fit(x,y)\n",
        "score=model.score(x,y)\n",
        "y_pred=model.predict(x)\n",
        "print(\"Score: \",score)"
      ],
      "metadata": {
        "colab": {
          "base_uri": "https://localhost:8080/"
        },
        "id": "L-WR17pEWuKL",
        "outputId": "0aeabaf2-ac07-48a6-b826-e011174e2846"
      },
      "execution_count": 254,
      "outputs": [
        {
          "output_type": "stream",
          "name": "stdout",
          "text": [
            "Score:  0.9884981216772581\n"
          ]
        }
      ]
    },
    {
      "cell_type": "markdown",
      "source": [
        "Regression Scores"
      ],
      "metadata": {
        "id": "rhXvLAgUviaW"
      }
    },
    {
      "cell_type": "code",
      "source": [
        "from sklearn.metrics import mean_squared_error, mean_absolute_error, r2_score\n",
        "mse = mean_squared_error(y, y_pred)\n",
        "mae = mean_absolute_error(y, y_pred)\n",
        "r2 = r2_score(y, y_pred)\n",
        "\n",
        "print(\"Mean Squared Error (MSE):\", mse)\n",
        "print(\"Mean Absolute Error (MAE):\", mae)\n",
        "print(\"R-squared (R²) Score:\", r2)"
      ],
      "metadata": {
        "colab": {
          "base_uri": "https://localhost:8080/"
        },
        "id": "dpL4K48RYA6B",
        "outputId": "63bd2f16-72a7-43ce-d481-f08f72b2cab1"
      },
      "execution_count": 255,
      "outputs": [
        {
          "output_type": "stream",
          "name": "stdout",
          "text": [
            "Mean Squared Error (MSE): 4.245176108662532\n",
            "Mean Absolute Error (MAE): 1.6375973348711335\n",
            "R-squared (R²) Score: 0.9884981216772581\n"
          ]
        }
      ]
    },
    {
      "cell_type": "markdown",
      "source": [
        "Regression scores using simple linear regression formula is not giving accurate results"
      ],
      "metadata": {
        "id": "W6N43GrfvkIn"
      }
    },
    {
      "cell_type": "markdown",
      "source": [
        "Using Formula"
      ],
      "metadata": {
        "id": "xWebGz6vmXJw"
      }
    },
    {
      "cell_type": "markdown",
      "source": [
        "\n",
        "$$ \\beta = (X^\\top X)^{-1} X Y $$"
      ],
      "metadata": {
        "id": "KthxOnlhjcj8"
      }
    },
    {
      "cell_type": "markdown",
      "source": [
        "Adding Weights 1 Column"
      ],
      "metadata": {
        "id": "zd9fBUXrhqti"
      }
    },
    {
      "cell_type": "code",
      "source": [
        "n=len(x)\n",
        "dfw = x.assign(wt=[1]*n)\n",
        "dfw=dfw[dfw.columns[::-1]]\n",
        "dfw.head()"
      ],
      "metadata": {
        "colab": {
          "base_uri": "https://localhost:8080/",
          "height": 206
        },
        "id": "eYjT7qeEgJHv",
        "outputId": "dd082b00-4009-4666-c92b-36b217d2b72b"
      },
      "execution_count": 267,
      "outputs": [
        {
          "output_type": "execute_result",
          "data": {
            "text/plain": [
              "   wt  Sample Question Papers Practiced  Sleep Hours  Previous Scores  \\\n",
              "0   1                                 1            9               99   \n",
              "1   1                                 2            4               82   \n",
              "2   1                                 2            7               51   \n",
              "3   1                                 2            5               52   \n",
              "4   1                                 5            8               75   \n",
              "\n",
              "   Hours Studied  \n",
              "0              7  \n",
              "1              4  \n",
              "2              8  \n",
              "3              5  \n",
              "4              7  "
            ],
            "text/html": [
              "\n",
              "  <div id=\"df-45cb309a-cda6-486f-a2e8-d90f9ae9d359\" class=\"colab-df-container\">\n",
              "    <div>\n",
              "<style scoped>\n",
              "    .dataframe tbody tr th:only-of-type {\n",
              "        vertical-align: middle;\n",
              "    }\n",
              "\n",
              "    .dataframe tbody tr th {\n",
              "        vertical-align: top;\n",
              "    }\n",
              "\n",
              "    .dataframe thead th {\n",
              "        text-align: right;\n",
              "    }\n",
              "</style>\n",
              "<table border=\"1\" class=\"dataframe\">\n",
              "  <thead>\n",
              "    <tr style=\"text-align: right;\">\n",
              "      <th></th>\n",
              "      <th>wt</th>\n",
              "      <th>Sample Question Papers Practiced</th>\n",
              "      <th>Sleep Hours</th>\n",
              "      <th>Previous Scores</th>\n",
              "      <th>Hours Studied</th>\n",
              "    </tr>\n",
              "  </thead>\n",
              "  <tbody>\n",
              "    <tr>\n",
              "      <th>0</th>\n",
              "      <td>1</td>\n",
              "      <td>1</td>\n",
              "      <td>9</td>\n",
              "      <td>99</td>\n",
              "      <td>7</td>\n",
              "    </tr>\n",
              "    <tr>\n",
              "      <th>1</th>\n",
              "      <td>1</td>\n",
              "      <td>2</td>\n",
              "      <td>4</td>\n",
              "      <td>82</td>\n",
              "      <td>4</td>\n",
              "    </tr>\n",
              "    <tr>\n",
              "      <th>2</th>\n",
              "      <td>1</td>\n",
              "      <td>2</td>\n",
              "      <td>7</td>\n",
              "      <td>51</td>\n",
              "      <td>8</td>\n",
              "    </tr>\n",
              "    <tr>\n",
              "      <th>3</th>\n",
              "      <td>1</td>\n",
              "      <td>2</td>\n",
              "      <td>5</td>\n",
              "      <td>52</td>\n",
              "      <td>5</td>\n",
              "    </tr>\n",
              "    <tr>\n",
              "      <th>4</th>\n",
              "      <td>1</td>\n",
              "      <td>5</td>\n",
              "      <td>8</td>\n",
              "      <td>75</td>\n",
              "      <td>7</td>\n",
              "    </tr>\n",
              "  </tbody>\n",
              "</table>\n",
              "</div>\n",
              "    <div class=\"colab-df-buttons\">\n",
              "\n",
              "  <div class=\"colab-df-container\">\n",
              "    <button class=\"colab-df-convert\" onclick=\"convertToInteractive('df-45cb309a-cda6-486f-a2e8-d90f9ae9d359')\"\n",
              "            title=\"Convert this dataframe to an interactive table.\"\n",
              "            style=\"display:none;\">\n",
              "\n",
              "  <svg xmlns=\"http://www.w3.org/2000/svg\" height=\"24px\" viewBox=\"0 -960 960 960\">\n",
              "    <path d=\"M120-120v-720h720v720H120Zm60-500h600v-160H180v160Zm220 220h160v-160H400v160Zm0 220h160v-160H400v160ZM180-400h160v-160H180v160Zm440 0h160v-160H620v160ZM180-180h160v-160H180v160Zm440 0h160v-160H620v160Z\"/>\n",
              "  </svg>\n",
              "    </button>\n",
              "\n",
              "  <style>\n",
              "    .colab-df-container {\n",
              "      display:flex;\n",
              "      gap: 12px;\n",
              "    }\n",
              "\n",
              "    .colab-df-convert {\n",
              "      background-color: #E8F0FE;\n",
              "      border: none;\n",
              "      border-radius: 50%;\n",
              "      cursor: pointer;\n",
              "      display: none;\n",
              "      fill: #1967D2;\n",
              "      height: 32px;\n",
              "      padding: 0 0 0 0;\n",
              "      width: 32px;\n",
              "    }\n",
              "\n",
              "    .colab-df-convert:hover {\n",
              "      background-color: #E2EBFA;\n",
              "      box-shadow: 0px 1px 2px rgba(60, 64, 67, 0.3), 0px 1px 3px 1px rgba(60, 64, 67, 0.15);\n",
              "      fill: #174EA6;\n",
              "    }\n",
              "\n",
              "    .colab-df-buttons div {\n",
              "      margin-bottom: 4px;\n",
              "    }\n",
              "\n",
              "    [theme=dark] .colab-df-convert {\n",
              "      background-color: #3B4455;\n",
              "      fill: #D2E3FC;\n",
              "    }\n",
              "\n",
              "    [theme=dark] .colab-df-convert:hover {\n",
              "      background-color: #434B5C;\n",
              "      box-shadow: 0px 1px 3px 1px rgba(0, 0, 0, 0.15);\n",
              "      filter: drop-shadow(0px 1px 2px rgba(0, 0, 0, 0.3));\n",
              "      fill: #FFFFFF;\n",
              "    }\n",
              "  </style>\n",
              "\n",
              "    <script>\n",
              "      const buttonEl =\n",
              "        document.querySelector('#df-45cb309a-cda6-486f-a2e8-d90f9ae9d359 button.colab-df-convert');\n",
              "      buttonEl.style.display =\n",
              "        google.colab.kernel.accessAllowed ? 'block' : 'none';\n",
              "\n",
              "      async function convertToInteractive(key) {\n",
              "        const element = document.querySelector('#df-45cb309a-cda6-486f-a2e8-d90f9ae9d359');\n",
              "        const dataTable =\n",
              "          await google.colab.kernel.invokeFunction('convertToInteractive',\n",
              "                                                    [key], {});\n",
              "        if (!dataTable) return;\n",
              "\n",
              "        const docLinkHtml = 'Like what you see? Visit the ' +\n",
              "          '<a target=\"_blank\" href=https://colab.research.google.com/notebooks/data_table.ipynb>data table notebook</a>'\n",
              "          + ' to learn more about interactive tables.';\n",
              "        element.innerHTML = '';\n",
              "        dataTable['output_type'] = 'display_data';\n",
              "        await google.colab.output.renderOutput(dataTable, element);\n",
              "        const docLink = document.createElement('div');\n",
              "        docLink.innerHTML = docLinkHtml;\n",
              "        element.appendChild(docLink);\n",
              "      }\n",
              "    </script>\n",
              "  </div>\n",
              "\n",
              "\n",
              "<div id=\"df-f9f36623-44d8-4a57-bf07-69dfefe09c23\">\n",
              "  <button class=\"colab-df-quickchart\" onclick=\"quickchart('df-f9f36623-44d8-4a57-bf07-69dfefe09c23')\"\n",
              "            title=\"Suggest charts\"\n",
              "            style=\"display:none;\">\n",
              "\n",
              "<svg xmlns=\"http://www.w3.org/2000/svg\" height=\"24px\"viewBox=\"0 0 24 24\"\n",
              "     width=\"24px\">\n",
              "    <g>\n",
              "        <path d=\"M19 3H5c-1.1 0-2 .9-2 2v14c0 1.1.9 2 2 2h14c1.1 0 2-.9 2-2V5c0-1.1-.9-2-2-2zM9 17H7v-7h2v7zm4 0h-2V7h2v10zm4 0h-2v-4h2v4z\"/>\n",
              "    </g>\n",
              "</svg>\n",
              "  </button>\n",
              "\n",
              "<style>\n",
              "  .colab-df-quickchart {\n",
              "      --bg-color: #E8F0FE;\n",
              "      --fill-color: #1967D2;\n",
              "      --hover-bg-color: #E2EBFA;\n",
              "      --hover-fill-color: #174EA6;\n",
              "      --disabled-fill-color: #AAA;\n",
              "      --disabled-bg-color: #DDD;\n",
              "  }\n",
              "\n",
              "  [theme=dark] .colab-df-quickchart {\n",
              "      --bg-color: #3B4455;\n",
              "      --fill-color: #D2E3FC;\n",
              "      --hover-bg-color: #434B5C;\n",
              "      --hover-fill-color: #FFFFFF;\n",
              "      --disabled-bg-color: #3B4455;\n",
              "      --disabled-fill-color: #666;\n",
              "  }\n",
              "\n",
              "  .colab-df-quickchart {\n",
              "    background-color: var(--bg-color);\n",
              "    border: none;\n",
              "    border-radius: 50%;\n",
              "    cursor: pointer;\n",
              "    display: none;\n",
              "    fill: var(--fill-color);\n",
              "    height: 32px;\n",
              "    padding: 0;\n",
              "    width: 32px;\n",
              "  }\n",
              "\n",
              "  .colab-df-quickchart:hover {\n",
              "    background-color: var(--hover-bg-color);\n",
              "    box-shadow: 0 1px 2px rgba(60, 64, 67, 0.3), 0 1px 3px 1px rgba(60, 64, 67, 0.15);\n",
              "    fill: var(--button-hover-fill-color);\n",
              "  }\n",
              "\n",
              "  .colab-df-quickchart-complete:disabled,\n",
              "  .colab-df-quickchart-complete:disabled:hover {\n",
              "    background-color: var(--disabled-bg-color);\n",
              "    fill: var(--disabled-fill-color);\n",
              "    box-shadow: none;\n",
              "  }\n",
              "\n",
              "  .colab-df-spinner {\n",
              "    border: 2px solid var(--fill-color);\n",
              "    border-color: transparent;\n",
              "    border-bottom-color: var(--fill-color);\n",
              "    animation:\n",
              "      spin 1s steps(1) infinite;\n",
              "  }\n",
              "\n",
              "  @keyframes spin {\n",
              "    0% {\n",
              "      border-color: transparent;\n",
              "      border-bottom-color: var(--fill-color);\n",
              "      border-left-color: var(--fill-color);\n",
              "    }\n",
              "    20% {\n",
              "      border-color: transparent;\n",
              "      border-left-color: var(--fill-color);\n",
              "      border-top-color: var(--fill-color);\n",
              "    }\n",
              "    30% {\n",
              "      border-color: transparent;\n",
              "      border-left-color: var(--fill-color);\n",
              "      border-top-color: var(--fill-color);\n",
              "      border-right-color: var(--fill-color);\n",
              "    }\n",
              "    40% {\n",
              "      border-color: transparent;\n",
              "      border-right-color: var(--fill-color);\n",
              "      border-top-color: var(--fill-color);\n",
              "    }\n",
              "    60% {\n",
              "      border-color: transparent;\n",
              "      border-right-color: var(--fill-color);\n",
              "    }\n",
              "    80% {\n",
              "      border-color: transparent;\n",
              "      border-right-color: var(--fill-color);\n",
              "      border-bottom-color: var(--fill-color);\n",
              "    }\n",
              "    90% {\n",
              "      border-color: transparent;\n",
              "      border-bottom-color: var(--fill-color);\n",
              "    }\n",
              "  }\n",
              "</style>\n",
              "\n",
              "  <script>\n",
              "    async function quickchart(key) {\n",
              "      const quickchartButtonEl =\n",
              "        document.querySelector('#' + key + ' button');\n",
              "      quickchartButtonEl.disabled = true;  // To prevent multiple clicks.\n",
              "      quickchartButtonEl.classList.add('colab-df-spinner');\n",
              "      try {\n",
              "        const charts = await google.colab.kernel.invokeFunction(\n",
              "            'suggestCharts', [key], {});\n",
              "      } catch (error) {\n",
              "        console.error('Error during call to suggestCharts:', error);\n",
              "      }\n",
              "      quickchartButtonEl.classList.remove('colab-df-spinner');\n",
              "      quickchartButtonEl.classList.add('colab-df-quickchart-complete');\n",
              "    }\n",
              "    (() => {\n",
              "      let quickchartButtonEl =\n",
              "        document.querySelector('#df-f9f36623-44d8-4a57-bf07-69dfefe09c23 button');\n",
              "      quickchartButtonEl.style.display =\n",
              "        google.colab.kernel.accessAllowed ? 'block' : 'none';\n",
              "    })();\n",
              "  </script>\n",
              "</div>\n",
              "\n",
              "    </div>\n",
              "  </div>\n"
            ],
            "application/vnd.google.colaboratory.intrinsic+json": {
              "type": "dataframe",
              "variable_name": "dfw",
              "summary": "{\n  \"name\": \"dfw\",\n  \"rows\": 10000,\n  \"fields\": [\n    {\n      \"column\": \"wt\",\n      \"properties\": {\n        \"dtype\": \"number\",\n        \"std\": 0,\n        \"min\": 1,\n        \"max\": 1,\n        \"num_unique_values\": 1,\n        \"samples\": [\n          1\n        ],\n        \"semantic_type\": \"\",\n        \"description\": \"\"\n      }\n    },\n    {\n      \"column\": \"Sample Question Papers Practiced\",\n      \"properties\": {\n        \"dtype\": \"number\",\n        \"std\": 2,\n        \"min\": 0,\n        \"max\": 9,\n        \"num_unique_values\": 10,\n        \"samples\": [\n          9\n        ],\n        \"semantic_type\": \"\",\n        \"description\": \"\"\n      }\n    },\n    {\n      \"column\": \"Sleep Hours\",\n      \"properties\": {\n        \"dtype\": \"number\",\n        \"std\": 1,\n        \"min\": 4,\n        \"max\": 9,\n        \"num_unique_values\": 6,\n        \"samples\": [\n          9\n        ],\n        \"semantic_type\": \"\",\n        \"description\": \"\"\n      }\n    },\n    {\n      \"column\": \"Previous Scores\",\n      \"properties\": {\n        \"dtype\": \"number\",\n        \"std\": 17,\n        \"min\": 40,\n        \"max\": 99,\n        \"num_unique_values\": 60,\n        \"samples\": [\n          99\n        ],\n        \"semantic_type\": \"\",\n        \"description\": \"\"\n      }\n    },\n    {\n      \"column\": \"Hours Studied\",\n      \"properties\": {\n        \"dtype\": \"number\",\n        \"std\": 2,\n        \"min\": 1,\n        \"max\": 9,\n        \"num_unique_values\": 9,\n        \"samples\": [\n          1\n        ],\n        \"semantic_type\": \"\",\n        \"description\": \"\"\n      }\n    }\n  ]\n}"
            }
          },
          "metadata": {},
          "execution_count": 267
        }
      ]
    },
    {
      "cell_type": "markdown",
      "source": [
        "Convert to numpy array"
      ],
      "metadata": {
        "id": "PvfwjBT-vzjW"
      }
    },
    {
      "cell_type": "code",
      "source": [
        "x=dfw.to_numpy()\n",
        "y=y.to_numpy()"
      ],
      "metadata": {
        "id": "X_xgn97YhxDm"
      },
      "execution_count": 270,
      "outputs": []
    },
    {
      "cell_type": "markdown",
      "source": [
        "Checking shapes of x and y"
      ],
      "metadata": {
        "id": "12EV6emKv1u9"
      }
    },
    {
      "cell_type": "code",
      "source": [
        "x.shape"
      ],
      "metadata": {
        "colab": {
          "base_uri": "https://localhost:8080/"
        },
        "id": "skeLupvyiC21",
        "outputId": "052dd2e5-bf36-4a4e-fcaa-41a4bf05ace4"
      },
      "execution_count": 271,
      "outputs": [
        {
          "output_type": "execute_result",
          "data": {
            "text/plain": [
              "(10000, 5)"
            ]
          },
          "metadata": {},
          "execution_count": 271
        }
      ]
    },
    {
      "cell_type": "code",
      "source": [
        "y.shape"
      ],
      "metadata": {
        "colab": {
          "base_uri": "https://localhost:8080/"
        },
        "id": "ChVK68h_iD_N",
        "outputId": "cae5c117-f98c-48f8-bdb4-6a1de7289172"
      },
      "execution_count": 272,
      "outputs": [
        {
          "output_type": "execute_result",
          "data": {
            "text/plain": [
              "(10000,)"
            ]
          },
          "metadata": {},
          "execution_count": 272
        }
      ]
    },
    {
      "cell_type": "markdown",
      "source": [
        "Calculating using formula"
      ],
      "metadata": {
        "id": "DPP9CI3gv4qH"
      }
    },
    {
      "cell_type": "code",
      "source": [
        "xt=np.transpose(x)\n",
        "xtxinv=np.linalg.inv(np.dot(xt,x))\n",
        "b=np.dot(np.dot(xtxinv,xt),y)\n",
        "print(b)"
      ],
      "metadata": {
        "colab": {
          "base_uri": "https://localhost:8080/"
        },
        "id": "oifgiFZOiHUM",
        "outputId": "94de9382-4242-4e1e-a12a-3dc17da9a808"
      },
      "execution_count": 283,
      "outputs": [
        {
          "output_type": "stream",
          "name": "stdout",
          "text": [
            "[-33.76372609   0.1951983    0.47633298   1.01858354   2.85342921]\n"
          ]
        }
      ]
    },
    {
      "cell_type": "markdown",
      "source": [
        "Getting $ \\beta_0 , \\beta_1 \\dots \\beta_k $"
      ],
      "metadata": {
        "id": "Q_9ZCWa_v7BE"
      }
    },
    {
      "cell_type": "code",
      "source": [
        "b0=b[0]\n",
        "bs=(b[1:])"
      ],
      "metadata": {
        "id": "JBtdvG15ijUl"
      },
      "execution_count": 284,
      "outputs": []
    },
    {
      "cell_type": "markdown",
      "source": [
        "Regressor Equation"
      ],
      "metadata": {
        "id": "WbZOc7o0wEdd"
      }
    },
    {
      "cell_type": "code",
      "source": [
        "eq=\"y = \"\n",
        "for i in range(len(bs)):\n",
        "  eq=eq+str(round(bs[i],2))+\"x\"+str(i)+\" + \"\n",
        "eq=eq+str(round(b0,2))\n",
        "print(eq)"
      ],
      "metadata": {
        "colab": {
          "base_uri": "https://localhost:8080/"
        },
        "id": "Ds0eSLnhi7cB",
        "outputId": "9df3ec02-9f94-40d6-e8c9-420e0abdec71"
      },
      "execution_count": 285,
      "outputs": [
        {
          "output_type": "stream",
          "name": "stdout",
          "text": [
            "y = 0.2x0 + 0.48x1 + 1.02x2 + 2.85x3 + -33.76\n"
          ]
        }
      ]
    },
    {
      "cell_type": "markdown",
      "source": [
        "Predicting using equation"
      ],
      "metadata": {
        "id": "xFvqxgu5wGiB"
      }
    },
    {
      "cell_type": "markdown",
      "source": [
        "$ y = 0.2x_0 + 0.48x_1 + 1.02x_2 + 2.85x_3 - 33.76 $"
      ],
      "metadata": {
        "id": "tV-p70bAwIsr"
      }
    },
    {
      "cell_type": "code",
      "source": [
        "def mwpred(x):\n",
        "  y=b0+np.dot(bs,x)\n",
        "  return y"
      ],
      "metadata": {
        "id": "KCYT1mIOjTiy"
      },
      "execution_count": 287,
      "outputs": []
    },
    {
      "cell_type": "markdown",
      "source": [
        "Splitting x and y"
      ],
      "metadata": {
        "id": "7ywqmuokwTqn"
      }
    },
    {
      "cell_type": "code",
      "source": [
        "yc=df4.iloc[:,-1]\n",
        "xc=df4.iloc[:,:-1]\n",
        "xc=xc[xc.columns[::-1]]"
      ],
      "metadata": {
        "id": "4sobodLarV7W"
      },
      "execution_count": 295,
      "outputs": []
    },
    {
      "cell_type": "markdown",
      "source": [
        "Checking Prediction"
      ],
      "metadata": {
        "id": "YiESIrwOwV5Y"
      }
    },
    {
      "cell_type": "code",
      "source": [
        "xc.iloc[0]"
      ],
      "metadata": {
        "colab": {
          "base_uri": "https://localhost:8080/"
        },
        "id": "ID8PcxVJrdyz",
        "outputId": "f4adfb72-19a2-4e11-91e7-1444dbeccf45"
      },
      "execution_count": 296,
      "outputs": [
        {
          "output_type": "execute_result",
          "data": {
            "text/plain": [
              "Sample Question Papers Practiced     1\n",
              "Sleep Hours                          9\n",
              "Previous Scores                     99\n",
              "Hours Studied                        7\n",
              "Name: 0, dtype: int64"
            ]
          },
          "metadata": {},
          "execution_count": 296
        }
      ]
    },
    {
      "cell_type": "code",
      "source": [
        "yc.iloc[0]"
      ],
      "metadata": {
        "colab": {
          "base_uri": "https://localhost:8080/"
        },
        "id": "zdM3r6ehreUI",
        "outputId": "9518ea3f-9135-41ed-8c60-40fb9ba4cc79"
      },
      "execution_count": 297,
      "outputs": [
        {
          "output_type": "execute_result",
          "data": {
            "text/plain": [
              "91.0"
            ]
          },
          "metadata": {},
          "execution_count": 297
        }
      ]
    },
    {
      "cell_type": "code",
      "source": [
        "mwpred(xc.iloc[0])"
      ],
      "metadata": {
        "colab": {
          "base_uri": "https://localhost:8080/"
        },
        "id": "HwILWI6orkxh",
        "outputId": "dbd8ee22-acb9-41f2-98dd-b11bee986f07"
      },
      "execution_count": 298,
      "outputs": [
        {
          "output_type": "execute_result",
          "data": {
            "text/plain": [
              "91.53224385796966"
            ]
          },
          "metadata": {},
          "execution_count": 298
        }
      ]
    },
    {
      "cell_type": "markdown",
      "source": [
        "Predicting for all values"
      ],
      "metadata": {
        "id": "1EvQz5_RwaM_"
      }
    },
    {
      "cell_type": "code",
      "source": [
        "y_pred=[]\n",
        "for i in range(len(xc)):\n",
        "  y_pred.append(mwpred(xc.iloc[i]))\n",
        "print(y_pred)"
      ],
      "metadata": {
        "colab": {
          "base_uri": "https://localhost:8080/"
        },
        "id": "pmpHwI4Rr9Wq",
        "outputId": "8aca171f-7515-4e77-c2fc-0e063dee35c8"
      },
      "execution_count": 299,
      "outputs": [
        {
          "output_type": "stream",
          "name": "stdout",
          "text": [
            "[91.53224385796966, 63.46956944639553, 44.73619555683961, 36.24182548768936, 67.39069913843252, 59.70426417432517, 64.11973141214287, 37.97648856649791, 63.13541289633242, 70.20925762263326, 84.6361330412233, 72.78020165309673, 27.347381293923164, 33.526004027737336, 65.86743677133435, 47.772073928836754, 68.01176297932295, 71.62401035997269, 30.60876001564872, 60.23151624401688, 72.42040025399555, 85.42786573121631, 71.79783934374223, 59.222158586837374, 40.37375018376775, 53.477581859185186, 63.68553883540495, 81.50734174684831, 74.37740354786555, 74.66686526569083, 40.850083165745524, 35.51014924000828, 56.41905023944158, 48.88934299523299, 59.32796721902222, 75.81352559809591, 42.14267828527422, 69.45621206206124, 30.065757180873163, 64.14807725875482, 47.77072343004979, 38.971893156235346, 55.34091995243241, 38.32810950366703, 71.13343116940092, 54.699837297438016, 16.223126153477665, 55.08311078646201, 56.939325775412264, 54.9220309419235, 26.973187115652102, 65.65026345411394, 71.9058973235349, 50.7960254219311, 76.77451859455942, 87.468339513476, 32.20963173889567, 47.18723131710022, 80.32917543316432, 40.81371536601568, 74.32558561133075, 95.50639541475246, 86.04511317305267, 48.941160931767804, 40.966468178046206, 72.91083287399135, 53.45043994078423, 43.30007350660929, 92.1461845945631, 63.07872120310849, 76.39185081320443, 51.615594264724926, 78.79864339119325, 54.51161553449855, 63.20724964697123, 36.782725545433, 62.247314008142716, 32.18173754224977, 15.20529489321423, 88.40675926883762, 48.35054571452127, 49.51842878924128, 33.97278723489213, 58.518828185768264, 72.09322023765347, 78.56010076108191, 66.63323147113744, 94.85743737721614, 55.81208603656918, 29.19647317857642, 19.302202288349733, 37.52729750292108, 59.6324274236864, 77.0063897703399, 69.8758533508151, 27.998893758457463, 56.829917296832626, 84.346671323398, 33.98111426740012, 24.068086535125538, 28.888196574858178, 57.26245429539345, 31.249842670643112, 74.54425599791409, 56.78612131341567, 44.33365553195659, 79.98332710150524, 81.636622468956, 49.49765769689238, 80.870075490908, 65.87591037441831, 39.086927669749066, 58.59262114286302, 24.908878120234355, 58.94087733094414, 81.34971517812869, 25.173810390501735, 54.03985122981978, 48.89024184405388, 43.04106041242789, 29.544277716691482, 89.43748623890804, 44.499755703760165, 72.47072112116746, 37.9623889284799, 68.77890817791297, 49.170477680550285, 82.34497319729019, 71.70297021490845, 45.891329492328616, 73.53054621609482, 85.53833156743099, 36.963824204075486, 48.089283272732, 68.37516422481892, 86.96155790785434, 42.171024131886206, 67.05909701536737, 42.34485311565576, 42.44001538564144, 62.493126313127014, 67.11803805619917, 92.41517584831834, 47.11539456646144, 41.118175570679874, 96.43904256460405, 26.75466329964471, 34.92800762584567, 45.762048770220936, 61.062776868406694, 88.43390118723855, 31.495508405051474, 35.58529269588998, 71.855576456363, 43.048183516724855, 46.175770882888806, 34.507768116549805, 24.82810862941858, 60.76041944077442, 42.613238661741995, 20.270318389110265, 85.08336789834416, 36.35686000120308, 57.84729690712998, 45.22055049193528, 59.479967752807774, 53.02974129439533, 40.18642726964918, 34.24800274412345, 78.36369853621042, 48.53651812985286, 74.41362477701944, 56.55590571581231, 56.635471278417064, 16.527586358141853, 47.76360032575281, 50.718416065782286, 66.7567395877351, 47.757827720242794, 74.9042039675912, 62.89049944016903, 29.061273280382785, 70.83699291785462, 74.83026443992048, 35.86507688242033, 67.89552453759822, 29.377425266642966, 71.83345486522711, 71.0405182470231, 43.69061667050624, 45.90040880308154, 77.4460498731977, 48.559843649199756, 29.11886382242762, 56.2146260614522, 55.9052921000989, 78.17757955030285, 80.5263299362808, 32.189612924791696, 87.51670417419194, 29.206902988116326, 57.322452693860306, 49.02193042258357, 26.772216213481578, 40.040797561915646, 20.802891414345922, 63.425626892402654, 64.49512951862496, 28.100280283919226, 34.319839494762256, 38.10591585918153, 31.826358249871653, 26.85680210335142, 72.08744763214347, 74.30556679722676, 44.815008841199436, 39.679499093451575, 73.05435980469298, 43.30022007718525, 38.59769897796428, 51.961442596384025, 62.571793026910875, 62.82713629261418, 59.105627003960755, 46.30429932675154, 40.09959203217149, 29.942249064275508, 63.164657591765284, 88.73048600936085, 65.76529796762765, 77.82144797967979, 89.44536162144996, 35.07851109026833, 59.942054526191605, 91.47465331592483, 33.243665414209026, 53.158875445927045, 70.35353683157985, 33.945645316491174, 47.42502166896664, 66.2073659269075, 42.23573777822801, 83.47859124931227, 43.878691862869736, 48.77520733054018, 61.49576551693361, 27.56013250442053, 77.93783299198049, 45.15508456734852, 59.885667912357796, 48.334196728895385, 46.23823518162278, 59.5749834522175, 53.52107276321201, 19.04108641713642, 21.626276656193816, 81.63797296774294, 43.01061178878401, 71.1710028973418, 74.42195180952743, 87.66023110489357, 26.265434607859923, 61.0477783815678, 49.65724047206796, 42.613238661741995, 53.234018901808746, 51.28870738953474, 55.69007498933443, 46.666203502884606, 71.16979896913077, 44.78801349337443, 23.947132845525857, 45.74202995611696, 63.273919499768986, 36.19923343248343, 50.71008903327429, 34.977124564806566, 68.78468078342297, 80.97356479340166, 47.09784165262456, 35.794737201144436, 63.049476507675614, 52.96457599808743, 58.37544782564259, 73.19984294185056, 58.73659972353071, 30.202014436701866, 60.60781319931986, 77.43315416339072, 61.642599152878155, 40.00653253921771, 86.59905551117924, 31.510958541856432, 86.67330011824006, 37.71537269528459, 78.04589097177316, 58.448341933916446, 83.45024540270032, 36.97807041266946, 38.995218675582244, 73.00599514397703, 51.32402976986773, 34.60097418007954, 90.9557282787411, 36.12544047538869, 53.933896027058985, 69.06004286323025, 66.53319544446262, 37.477728913994135, 62.19759884863981, 85.69806091318256, 90.5169670247042, 92.19208335501193, 79.57170776586926, 45.78402379078087, 35.619557718587934, 36.50159086011572, 51.53482477390914, 88.54316309524225, 20.66071498243125, 45.17008305418744, 59.80685462799796, 62.87048062606505, 57.29927374508937, 79.51351900328243, 51.014549237938475, 31.09844035739956, 29.117659894216608, 23.612976295462737, 50.01853894053203, 43.559985449611595, 68.55536403464049, 13.971494243941372, 38.14836134381151, 28.17909356827905, 81.36396138672265, 76.38607820769442, 83.27641641893075, 81.68056502294888, 71.83345486522711, 47.78496963864375, 42.3824248435966, 72.261276615913, 70.81562360496366, 19.814756499481405, 68.98077792890439, 15.400493189874723, 60.9909401177679, 67.9188500569451, 53.43423752573431, 67.42751858812844, 42.462588626743376, 89.77951817151308, 41.69589507811943, 79.97500006899725, 57.442800675791, 60.82633701532723, 19.077307646290308, 57.19196804354163, 67.85278591181634, 82.64231029765739, 64.15399643484082, 60.69450186622159, 61.582905833801426, 25.55708387952574, 65.42657274026553, 42.620215195463025, 29.08339487151867, 29.01747729696585, 73.79758126339411, 85.75489917698243, 61.591985144554364, 81.01690912685251, 69.70914747134253, 42.53307487859521, 40.31615964172291, 40.8158181430476, 32.781432070249245, 26.949861596305205, 73.00599514397703, 47.38032683672882, 78.63846239547567, 78.8200127040842, 33.68573337348888, 68.71178667514914, 45.08414666553063, 54.79866939590179, 61.56880619578342, 37.398163351389364, 89.7924138813201, 75.2724789697763, 71.44381055015108, 60.90425145086618, 57.66117792122244, 33.07891574119241, 54.62559269037718, 82.019290250311, 43.589083574468496, 75.25125622746131, 62.86927669785404, 17.82730458196754, 22.920222274509477, 70.62754841260016, 46.4050876316713, 43.38690874408697, 49.621165813490016, 16.461668783589033, 73.3657965430782, 47.944698984395295, 60.203170397404925, 54.81366788274071, 20.111341321603668, 32.36846223582632, 51.397217019293485, 83.3764524456056, 57.501595146046846, 61.634723770336244, 71.34152517586841, 71.57354292222482, 42.337876581934715, 56.89463094317441, 18.709484294071267, 78.93504721759791, 67.08834171080022, 48.89009527347795, 66.84267597639189, 84.13010371384658, 25.520862650371846, 49.91715241507027, 84.7149463255831, 95.27572816718302, 56.34736005937875, 47.38955271805769, 26.65583120118091, 26.820580874197525, 33.945645316491174, 27.494214929867717, 49.03617663117755, 46.68742624519961, 71.74616797778336, 43.11154666427972, 74.2397957932499, 65.39612411662168, 61.32254224083305, 79.01386050195774, 36.34276036318507, 95.96270958262627, 57.68134330590235, 21.640522864787776, 22.227321682980268, 81.50734174684831, 80.98646050320866, 55.13357822420985, 18.435472713050963, 68.36804112052192, 39.31167574123254, 44.339574708042555, 62.653160738268674, 73.17772135071468, 38.829118503778666, 55.543241353389895, 43.17671196058759, 26.532323084583254, 55.76176516939727, 63.973650054443276, 37.244958889392784, 76.57219719360197, 68.84362182425477, 33.35869992772273, 43.48694477076179, 83.61042639841793, 32.73884001504333, 26.14267876950722, 41.14606976732578, 55.91939173811689, 60.39836869406539, 85.8111392202403, 41.39945682657312, 52.51066968663566, 69.01759737860027, 61.26630219757518, 37.20281848415292, 90.72506103117166, 87.53290658924186, 30.281726569882586, 20.39959911121794, 68.03388457045881, 39.318347195563454, 26.005522664857622, 44.46810315190529, 81.2766744992789, 17.003919340119637, 64.8184046091821, 75.60408109284143, 24.177348443129233, 57.78970636508517, 93.83960611695267, 27.905834265503678, 49.749096036810734, 85.29933728735358, 30.38311309534435, 77.95328312878544, 80.19929649051466, 20.848790174794765, 77.8576692088337, 52.53083507131557, 25.601778711763572, 53.37042272821339, 48.09640637702898, 42.69190537552587, 67.58589743509302, 27.861286003841805, 73.8577262324369, 86.10135321631054, 26.32302514990476, 38.50830931348862, 82.814183074971, 67.50010761701216, 73.77043934499315, 75.38174087777998, 30.166545485792923, 46.64287798353772, 47.611746362543194, 58.8458616315344, 37.51897047041309, 78.03164476317917, 22.300362361830068, 29.29861198228314, 62.49433024133801, 68.80800630276985, 29.805393587904796, 72.27417232572, 64.11987798271883, 46.50024990165698, 33.92352372535529, 77.06473259062966, 63.88831188632849, 44.81590769002033, 67.62924176854389, 54.63377315230924, 38.538757937132495, 67.54967620593911, 87.04037119221417, 69.87510107257015, 77.72126538242904, 62.92731888986494, 68.44475162784985, 20.6381417413293, 59.8852162623917, 47.764804253963824, 77.66382141096014, 63.779802256569745, 68.23755647020326, 80.33690424513031, 31.97821221308127, 66.12780036430274, 33.822137199893525, 29.536402334149557, 31.965169932698338, 29.34907942003099, 45.771128080973874, 64.67622817726743, 60.159679493378086, 57.22046046072956, 37.69279945418264, 20.29108948145919, 45.5817023898234, 56.837040401129606, 55.464281498454106, 63.55505418508627, 29.213879521837356, 54.64816593147915, 40.42421762151559, 56.55680456463319, 64.89144528803192, 41.891845653024866, 45.553808193177495, 23.267274534379588, 46.86732097563107, 76.22649543251882, 62.696505071719535, 40.50303090587541, 58.33285577043666, 74.77357274669654, 81.93200336286725, 40.35238087087681, 35.05728834795334, 59.62665481817637, 73.47385452287088, 49.60556910610911, 48.02351226875512, 45.905429130346626, 77.9669311168374, 41.33474318023129, 55.61493153345271, 85.65351265152066, 67.02954724054439, 48.79778057164213, 45.905429130346626, 48.19779290249074, 38.39417364879581, 47.67646000888501, 63.96667352072223, 75.77805664718693, 74.80206516388449, 55.963939999778795, 46.88277111243604, 81.3392853685888, 90.21250682004, 44.736342127415575, 76.21802182943486, 57.44977720951203, 71.73206833976536, 43.218852365827466, 32.653050196962475, 66.7696352975421, 44.8442535366323, 64.60183699963068, 40.322831096053825, 69.84083604987222, 62.268683321033656, 76.66144028750168, 40.163101750302296, 47.980167935304245, 44.09511290184522, 85.86416108498614, 16.628972883603616, 37.74963771798253, 29.913903217663545, 74.36195341106057, 33.03301698074356, 36.34276036318507, 34.074173760353894, 32.80355366138513, 84.1726957690525, 32.09445065480602, 19.279629047247788, 92.17663321820697, 42.68613277001585, 71.10388139457794, 39.49869357596099, 32.038962889793076, 26.949861596305205, 41.37673701489522, 27.60272455962646, 68.75648150738698, 36.24970087023129, 71.8483067814901, 81.75105127480072, 55.81148032890018, 32.61412797023467, 61.12157133866254, 65.23729361969103, 74.13886091775419, 52.87774076060975, 78.2906578573606, 66.60990595179055, 33.30823248997489, 49.22425182354106, 49.599796500599076, 71.11085792829897, 60.97684047974989, 70.95825168684442, 84.3445685463661, 77.25797468083422, 67.72365176028461, 25.492516803759877, 60.98396358404687, 54.938379927549356, 53.29662977111865, 39.86059775209406, 19.662150258026834, 71.2336137666517, 81.27471829282291, 70.17243817293738, 50.074925554365855, 74.7102095991417, 82.85040430412488, 28.26713273396775, 59.02696029017688, 53.98226068777493, 69.76067226672544, 57.51434428527789, 43.40813148640198, 49.72060361962283, 67.62863606087487, 80.32992771140928, 17.655431804653944, 38.3668851598189, 51.15942666742706, 22.44966189804171, 69.60108949154986, 45.43105235482479, 62.2415414026327, 62.039220001675226, 67.94839983176809, 49.763342245404694, 64.76081406713729, 38.96477005193838, 58.61384388517801, 45.099596802335604, 39.17482026486183, 70.8090987212087, 64.77506027573125, 49.21652301157507, 42.909823483864265, 38.46571725828269, 42.944694214231184, 45.97134670489944, 47.061620423470664, 43.082301968846856, 55.97120967465171, 32.97663036690974, 64.97025857239174, 73.81498760665502, 45.24312373303723, 30.484499620806112, 36.86153882979283, 46.17366810585691, 59.597556693319454, 87.18510205112679, 41.18168528881068, 75.56073675939055, 69.95722106217289, 74.36195341106057, 49.180907490090185, 40.46666310614557, 74.00200544138346, 65.44869433140141, 64.60183699963068, 77.80930454811775, 46.09350432271014, 49.85835794481442, 37.88739204317415, 47.662665450257116, 29.257223855288224, 29.131759532234618, 53.44331683648725, 15.876073893607554, 50.78312971212409, 81.44277467108245, 41.096952828364884, 43.861138949032856, 32.16036822935883, 82.08385732607687, 27.667291635392324, 83.66089383616577, 44.67740108658378, 74.93952634792419, 69.95009795787593, 33.157729025552236, 65.36200566449966, 80.80034151730109, 73.34457380076321, 55.189065989222776, 75.55481758330458, 55.002947003315235, 43.892938071463696, 78.31533387549445, 59.54453482857364, 34.023108102064036, 58.27391472960486, 45.43832202969772, 93.37039623927188, 82.13432476382471, 24.747944846271807, 39.52764513024196, 20.46551668577076, 80.5392256460878, 61.17840960246243, 29.39362768169287, 83.78440195276343, 56.36858280169373, 81.19590500846311, 43.25762802197931, 31.609790640320234, 68.43200248861879, 24.850083649978508, 38.74122590866592, 62.68832460978751, 71.10508532278897, 52.71178715938212, 57.87774553077386, 51.14518045883312, 13.276637445956197, 86.70831741918295, 69.93981471891198, 88.3834337494907, 41.22623355047255, 81.54491347478918, 63.44122359978358, 45.060674575607784, 40.25159256595706, 62.73287287144938, 69.90434576800303, 24.908878120234355, 62.32612729250254, 40.8643293743395, 88.39888388629569, 91.78623662488602, 34.349389269585224, 91.92264045129065, 77.10867514462257, 58.418792159093464, 46.75213989154141, 24.798412284019655, 84.28787685314217, 81.47112051769446, 79.79465368859971, 44.15149951567904, 57.79893224641403, 36.92760297492159, 38.89383215012048, 72.1720335220133, 47.243923010324174, 58.497458872877324, 60.960491494124035, 85.73944904017748, 79.92332870303841, 42.462588626743376, 75.85807385975775, 71.37332429829925, 19.830206636286377, 36.22637535088439, 90.7179379268747, 69.49955639551212, 58.563523018006116, 66.25573058762348, 60.75239748765656, 77.79430606127886, 72.90948237520439, 60.527649416173055, 71.12510413689293, 60.80301149598035, 72.05062818244755, 27.70943204063218, 48.47967986605297, 19.844452844880337, 29.941797414309455, 56.533332474710356, 28.50567536407911, 68.42352888553486, 85.99921441260383, 79.08690118080756, 46.24746106295165, 48.29872777798645, 63.996369866121164, 64.36539714655123, 76.82618996051832, 70.02193470851472, 57.44265410521505, 27.15548970250559, 89.7924138813201, 61.80022572159779, 13.948168724594474, 28.705893988004682, 55.4714046027511, 27.081696745410845, 78.34367972210643, 43.05897644949996, 21.25012627146679, 40.55470227183428, 34.55823555429766, 60.30410527290061, 32.34723949351133, 77.56363881370939, 21.179640019614958, 45.429096148368835, 67.21897293169488, 64.40798920175715, 58.6868845640278, 46.06515847609817, 89.33865414044425, 46.78183623694033, 89.27273656589142, 56.76475200052473, 64.09138556553091, 80.13472941474879, 41.55131078978274, 72.10169384073743, 69.132631892114, 24.50227911186345, 45.95920327333737, 48.551516616691764, 70.9441520488264, 52.34261330837612, 70.64877115491515, 30.33841826310651, 60.709805432450615, 32.73884001504333, 60.276064505678754, 31.865133906023523, 68.39503646834694, 22.443889292531694, 82.814183074971, 43.81277428831691, 51.68030791106673, 75.12062500656668, 53.45043994078423, 61.76977709795393, 85.6313910603848, 35.123205922506166, 73.51052740199083, 39.224535424364724, 43.03910420597193, 88.07897354482654, 93.64440782029217, 47.45914012108863, 80.26521406506748, 61.606377923724274, 66.84267597639189, 29.935125959978535, 50.271327779237346, 74.26934556807288, 60.932145647512066, 49.02193042258357, 15.313804522972973, 30.967357486538866, 44.91849814369312, 49.21727528982003, 70.26670159410216, 29.197677106787438, 79.85981898490758, 30.801855535277305, 42.30226106044983, 80.45920843351695, 42.21557239354808, 59.755935540284035, 67.98462106092197, 68.82817168744981, 35.87932309101428, 65.27592270526694, 53.63731120493673, 36.329864653378074, 90.9699744873351, 75.57498296798451, 38.12593467328551, 41.14546405965678, 67.80958814894143, 86.66497308573207, 53.18932406957091, 70.56073198922644, 34.49487240674282, 38.76244865098089, 87.8354105874501, 63.310592378888934, 74.49288971134533, 70.40325199108275, 70.42657751042964, 37.64368251522176, 71.45805675874504, 41.85442049565996, 61.73565864583194, 77.81507715362775, 35.64288323793482, 59.48192395926373, 56.01942776479171, 60.759667162529475, 81.17588619435912, 82.69990083970222, 82.11430594972074, 79.97620399720827, 61.907531423145535, 75.75713898426207, 18.650689823815433, 64.76793717143426, 33.00587506234262, 81.23333016582802, 42.45426159423538, 34.27724743955631, 45.55958079868751, 65.86166416582435, 59.366889445750026, 53.34844770765347, 51.5355770521541, 42.09431362455829, 66.43105664075591, 82.6339832651494, 27.38495302186402, 69.33495329307146, 84.41258889795083, 55.97698228016173, 30.981603695132826, 53.95406141173891, 54.05530136662474, 52.7401330059941, 45.5040930336746, 46.24746106295165, 74.13886091775419, 76.8120903225003, 72.31113834599188, 40.60306693255023, 55.624010844205664, 48.33509557771628, 52.1978824494635, 59.06228267050988, 28.23091150481386, 70.5181399340205, 62.383717834547376, 70.1278899112755, 74.34103574813574, 56.556657994057254, 53.427114421437345, 64.45133353520802, 38.50906159173356, 28.7220964030546, 22.23444478727724, 44.338822429797624, 17.50357784144432, 82.814183074971, 22.74047411465395, 49.97474295711509, 86.30367461726803, 79.3254438109189, 25.954603577143708, 26.473528614327414, 69.59396638725286, 49.47628838400144, 40.945098865155266, 52.76345852534099, 52.62720126951229, 36.769829835626005, 79.80889989719367, 46.3709691795493, 84.25285955219928, 84.7867830762219, 55.32802424262541, 61.78733001179079, 38.177606039244374, 19.642131443922864, 32.556683998765784, 19.97373356698801, 76.37699889694147, 22.984789350275342, 25.31733732120336, 36.0182813444169, 77.22948226364628, 91.05666315423682, 69.7536957330044, 28.65617882850178, 47.44624441128163, 55.82633224516314, 45.46652130573374, 24.38799687659469, 37.28042784030172, 67.22399325895995, 56.94509838092228, 82.20024233837754, 58.259668521010916, 59.93628192068157, 50.41470813936305, 75.56194068760158, 19.583336973667024, 68.44489819842579, 34.067050656056914, 65.87591037441831, 75.63363086766441, 69.57259707436194, 35.59241580018696, 60.09376191882526, 78.00952317204332, 40.654738298509095, 73.03299049180202, 34.08902567661686, 49.36200614873267, 74.73157891203266, 34.49487240674282, 74.05869713460743, 65.38322840681468, 55.465180347275, 24.647009970776097, 66.15569456094863, 73.85757966186094, 83.73850319231457, 37.75886359931142, 54.258521616403094, 61.74975828384995, 97.5869068252201, 45.81236963739284, 85.05367155294525, 71.61111465016566, 74.52790701228821, 35.98070961647604, 51.643940111336896, 65.38398068505961, 79.86769436744953, 53.840983104681165, 51.90250155555224, 30.434784461303217, 45.45819427322575, 61.84416827559068, 25.861544084189923, 54.988847365297225, 30.556942079113902, 51.56984207485204, 63.64931760625105, 56.0912645154305, 65.28896498564987, 33.02589387644658, 73.2586374121064, 50.65249849122946, 39.672522559730545, 30.526640026045975, 40.77824641510674, 53.837529828862294, 27.393280054372006, 56.064122597029545, 64.22201678642554, 65.82986504339354, 49.15758197074329, 81.33351276307877, 81.61539972664102, 64.91401852913387, 45.58290631803441, 57.575388103141584, 68.30137126772416, 62.557693388892865, 45.271469579649185, 74.11628767665223, 74.2409997214609, 39.52201909530789, 45.06082114618375, 47.46034404929964, 26.1866213235001, 69.27023964672966, 63.23875562825015, 38.46571725828269, 69.63851464891476, 71.94151284501979, 68.7790547484889, 69.63139154461777, 56.635471278417064, 96.37312499005122, 84.94516192318648, 63.691909661457, 46.94156558269187, 50.09037569117084, 34.313920318676274, 67.83291366828831, 60.52885334438408, 69.26903571851864, 30.988726799429806, 32.75308622363729, 28.056484300502298, 21.64382957003069, 73.85757966186094, 79.05143222989861, 14.361138559017405, 61.88024293416861, 37.208737660238874, 71.30605622495946, 57.437633777949976, 21.793129106242347, 87.41531764873017, 54.401901976528784, 71.4288120633122, 45.07822748944465, 95.47092646384351, 42.19299915244614, 37.47697663574919, 92.34138289122359, 59.313721010428246, 55.10433352877701, 54.75742783948284, 41.62495717630153, 66.23450784530846, 44.73042295132961, 75.90899294747169, 25.66634578752943, 34.08190257231988, 63.539909127671415, 36.970947308372466, 84.61355980012135, 45.38785459194987, 32.00139116185223, 19.81400422123646, 49.0142016106176, 63.468218947608584, 62.478880104533054, 34.6164243168845, 61.107325130068595, 54.671491450826046, 37.69204717593771, 70.34641372728288, 38.625593174610195, 77.43315416339072, 37.88859597138515, 54.251251941530164, 37.44136111426429, 80.91341982435887, 62.10258314923008, 45.60292513213839, 32.695642252168405, 52.4377755783618, 55.9556129672708, 79.90316331835845, 42.63325747584599, 45.48091408490364, 40.72792554793485, 57.87639503198691, 56.06291866881855, 55.85482466235104, 30.764283807336447, 75.20791189401044, 34.11039498950779, 79.44107654497463, 23.265924035592626, 24.524400702999344, 81.62252283093798, 37.684924071640715, 34.03143513457203, 66.09930794711482, 82.11295545093378, 46.71456816360055, 74.28359177666681, 47.618869466840174, 56.96721997205817, 32.99754802983461, 64.9716090711787, 50.97697750999762, 46.036060351241254, 32.542437790171824, 49.89517739451035, 83.22594898118291, 56.561678321322326, 27.493462651622764, 29.892533904772613, 39.00796781481329, 54.105915374948545, 79.36091276182785, 53.90344740341512, 35.2937282010328, 43.24007510814243, 82.74961599920513, 80.46678318778001, 88.95538065142026, 57.26365822360446, 58.97634628185309, 68.96712994085243, 41.08847922528094, 51.50633235672124, 47.86453520124851, 61.36648479482593, 78.56797614362384, 30.894915028231075, 29.062025558627738, 63.657644638759045, 25.895809106887867, 64.08942935907496, 53.724451521804546, 51.729876499993686, 51.80763242671845, 63.4341004954866, 55.94061448043191, 72.42737678771658, 55.853474163564094, 81.68768812724588, 48.89144577226491, 40.150059469919334, 69.86100143455215, 78.29898488986859, 32.24510068980461, 34.275144662524404, 22.659106403296164, 23.296372659236503, 55.98410538445872, 41.00981251149707, 67.0663666902403, 67.25429531202786, 57.213337356432554, 60.98396358404687, 30.07985681889118, 47.03447850506972, 87.07659242136805, 41.56481220725873, 73.1331730890528, 77.89524093677454, 74.75159772613662, 75.76291158977207, 91.30990364290821, 25.94170786733671, 85.0820173995572, 63.4341004954866, 60.28896021548575, 70.07240214626256, 62.84835903492917, 88.55861323204724, 80.03244404046612, 50.11159843348582, 18.535057089759704, 67.08242253471428, 43.47404906095479, 68.9669833702765, 64.39253906495216, 42.266186401871884, 86.70831741918295, 50.046433137177935, 63.95879813818032, 73.84939919992891, 35.93946806005709, 62.03209689737826, 66.68174270242935, 70.4123313018357, 82.57639272310456, 90.09612180773934, 28.82940210460233, 71.3486482801654, 16.008661320958147, 59.4243334172189, 67.79654586855847, 35.97493701096602, 46.49222794853912, 60.088135883891205, 58.25179313846899, 51.4487418146764, 84.54899272435549, 25.650143372479512, 72.55665750982425, 70.96537479114139, 43.02485799737797, 73.33534791943433, 20.478412395577756, 44.852580569140294, 25.99007252805265, 40.973444711767236, 61.98634470750536, 45.393627197459885, 25.297318507099384, 32.15324512506185, 22.60939124379326, 15.227868134316175, 75.80625592322295, 27.70943204063218, 75.98855851007647, 35.61243461429094, 74.70885910035474, 67.55102670472607, 64.2994795719984, 43.86324172606475, 53.43423752573431, 52.12027309331467, 57.197887219627596, 33.381273168824684, 28.39049427998946, 66.80720702548294, 45.0032306041389, 26.64870809688393, 18.18725255164464, 42.966063527122124, 68.1082757480956, 85.19007537934988, 47.236946476603144, 76.15465868188002, 42.77296800749354, 33.46008645318451, 62.46583782415009, 71.11100449887493, 53.57986723346786, 43.96462825152653, 52.811969756632884, 29.833739434516765, 42.359099324249705, 60.56522114411393, 75.50314621734574, 28.908215388962155, 44.7666441804835, 69.79126746094528, 40.3382812328588, 46.54404588507392, 59.85034553202477, 61.893285214551575, 88.11774920097838, 92.42229895261534, 70.4464497539577, 81.62964593523498, 17.995360960227067, 23.527039906805946, 35.04169164057243, 39.917436015893934, 22.206098940665278, 41.74636251586727, 62.35537198793539, 84.26785803903817, 23.59295748135876, 68.11525228181662, 42.41091726078451, 56.90873058119244, 74.4257682085815, 32.61547846902163, 55.81935571144211, 73.53264899312671, 60.96776116899698, 45.94300085828748, 45.67611238156413, 97.17649141779515, 53.493031995990144, 44.478532961445175, 52.17074053106253, 54.32931294764504, 19.150348325140115, 70.48402148189854, 52.36593882772302, 30.47692486654308, 82.56229308508654, 54.79987332411283, 40.959345073749226, 45.56168357571942, 69.57259707436194, 74.61519389973196, 23.159968832831858, 85.36390436311942, 74.30556679722676, 43.48709134133774, 49.10089027751935, 29.29148887798616, 55.93349137613492, 77.82144797967979, 67.05197391107038, 50.2570815706434, 41.00058663016818, 43.00228475627602, 28.808032791711398, 74.62306928227389, 46.382966040535415, 51.84626151229437, 75.58285835052644, 46.70744505930357, 26.92271967790424, 40.05639426929657, 43.04697958851386, 45.33603665541505, 68.82802511687385, 25.37035918594919, 73.53189671488178, 40.15583207542935, 33.44584024459055, 53.70322877948956, 41.73938598214624, 81.75225520301174, 72.3834342337237, 28.33761898581959, 40.265093983433054, 40.633515556194105, 74.67976097549783, 71.7708439959172, 25.45629557460599, 52.950781439459554, 42.438059179185494, 15.423066430976668, 67.6215129565779, 53.95406141173891, 17.285054025436928, 72.53528819693332, 65.63481331730898, 65.37490137430666, 27.762307334802053, 68.97410647457346, 63.65644071054805, 61.00518632636186, 38.52330780032752, 69.7679419415984, 69.13975499641097, 81.3923072333346, 69.97026334255582, 42.87420796237935, 47.395325323567725, 42.12843207668028, 60.09451419707022, 42.23694170643902, 83.0022582673345, 42.359099324249705, 86.33914356817695, 63.004928246013755, 42.52715570250924, 55.616135461663724, 63.004928246013755, 39.17617076364878, 52.76345852534099, 32.00018723364122, 37.26753213049472, 65.42657274026553, 68.22120748457738, 78.08135992268211, 46.98401106732185, 67.21184982739788, 64.51725110976085, 36.637994686520365, 58.68553406524084, 69.99860918916784, 55.196189093519756, 35.837182685774415, 60.087537663349174, 58.001107076795556, 41.840174287066, 69.24691412738275, 43.05320384398994, 64.38676645944216, 45.60307170271434, 36.51583706870968, 67.66485729002878, 68.19998474226242, 31.985188746802315, 32.320097575110374, 78.52463181017296, 39.506874037893034, 76.45716268008826, 79.10325016643341, 42.973186631419104, 68.43973130058478, 71.18404517772473, 56.25219778939307, 17.221690877882082, 39.40683801121822, 93.90934009055957, 59.69714107002819, 35.78551131981555, 33.36582303201971, 23.764830258672355, 78.50205856907101, 54.72773149408392, 18.75995173181913, 37.232063179585786, 54.87231578242061, 36.35821049999003, 49.027849598669555, 60.53477252047005, 58.50593247596127, 24.364671357247794, 19.205836090153028, 28.381414969236523, 67.35523018752357, 34.68676399816038, 28.64965394474681, 63.64931760625105, 59.163217546005576, 45.83449122852871, 69.68200555294158, 49.48206098951146, 65.97594640109313, 68.51869115552054, 31.272415911745064, 45.36438250202702, 64.03259109527505, 35.837182685774415, 26.272557712156896, 68.99487756692238, 76.24847045307874, 29.39362768169287, 28.75756535396355, 71.71190295508543, 86.83684586304568, 78.86912964304511, 32.067308736405046, 38.402354110727835, 60.30530920111162, 29.93467431001247, 48.16944705587877, 37.577764940668935, 15.291231281871028, 52.70586798329615, 52.42142659273595, 25.34066284055026, 77.00016551486382, 78.02376938063728, 33.20609368626817, 72.9400775694242, 88.92568430602131, 39.861049402060125, 33.88474806920342, 86.43932616542773, 59.945361231434525, 43.73261050517015, 36.92745640434564, 24.438464314342546, 34.79025330065405, 31.09086560313653, 88.64454962070403, 44.96198904771993, 41.415512671047075, 82.24358667182841, 41.94747998861373, 75.59103881245849, 59.712591206833174, 32.68716864908446, 73.45308343052196, 61.606377923724274, 58.26693819588383, 66.97316062671058, 90.98617690238498, 82.15765028317162, 82.92936415906064, 71.00429701786919, 35.15942715166006, 41.06770813293202, 54.49039279218355, 40.77704248689573, 53.50105394910802, 44.614790217273885, 58.86086011837332, 89.26440953338343, 77.37556362134589, 85.65351265152066, 85.50165868831104, 50.746456833004125, 29.011704691455833, 58.05749369062939, 66.00308831949408, 34.26802155822744, 74.88418515348721, 52.82225299559682, 61.51001172552757, 94.12074080226998, 43.91295688556769, 88.61485327530508, 50.78890231763412, 75.72744263886315, 52.25682349029528, 84.40215908841094, 54.02695552001277, 30.50527071315505, 62.0825643351261, 20.298664235722235, 31.841808386676625, 87.71902557514943, 41.48524664465396, 35.28795559552278, 69.0316970166183, 46.86732097563107, 30.549066696571977, 66.84132547760493, 73.9856564557576, 34.09614878091383, 59.292498268113256, 35.67835218884377, 53.56441709666287, 91.27443469199926, 30.420538252709257, 77.28842330447807, 73.08480842833686, 18.8892324539268, 67.99174416521896, 68.2295345170854, 14.61970000323275, 47.35895752383788, 46.65772989980068, 49.8375868524655, 36.813320739652816, 17.175792117433232, 69.58894605998779, 38.40827328681382, 50.19828710038755, 39.550218371343895, 41.44280116002398, 25.96884978573766, 62.284885736083574, 91.13090776129764, 19.302202288349733, 80.46618496723798, 49.389001496557675, 40.135813261325374, 74.23387661716393, 79.27497637317106, 79.6350709134241, 51.19489561833601, 84.73706791671898, 37.48350151950415, 45.92163154539653, 27.347381293923164, 60.76739597449545, 45.018229090977805, 58.17312642468513, 73.05421323411704, 53.86797845250617, 24.70460051282093, 26.604912113466995, 58.758574744090645, 31.119211449748484, 56.228872270046175, 39.85467857600808, 65.58554980777214, 48.16959362645472, 46.08638121841316, 55.59491271934875, 49.1513577152672, 47.00478215967079, 35.662902052038795, 67.28489050624768, 27.88385924494375, 67.00952842644043, 46.72169126789753, 47.52716047267335, 86.65072687713811, 67.90264764189521, 55.15345046773789, 78.69028033201047, 68.38018455208399, 92.11071564365415, 32.38481122145219, 27.348585222134176, 74.38317615337559, 38.356455350279, 82.3366461647822, 31.928497053578376, 64.09138556553091, 49.81501361136356, 31.826211679295717, 31.727379580831915, 59.03985599998389, 45.97134670489944, 84.05841353378375, 66.13357296981277, 70.91701013042544, 50.73206405383423, 22.42251997964076, 33.30958298876185, 77.40270553974685, 66.86269479049588, 48.65290314215354, 50.64552195750843, 29.87055888421267, 73.71876797903428, 40.29358640062096, 80.26325785861152, 63.757827236009824, 87.6033928410937, 63.794048465163705, 67.75334810568356, 26.46775600881739, 73.84939919992891, 20.970195514360505, 89.54674814691174, 47.56127892479535, 72.67881512763495, 85.31478742415854, 84.17981887334949, 71.9648383643667, 83.91870300213617, 49.33868062938577, 27.667291635392324, 29.985593397726383, 48.262506548832555, 55.7525392880684, 79.36226326061481, 23.723588702253394, 41.18153871823473, 77.6624709121732, 74.28936438217684, 42.97514283787506, 62.48720713704103, 47.93877980830934, 49.25972077445001, 37.98938427630491, 41.35671820079124, 80.44541387488906, 88.44935132404353, 37.58609197317693, 49.66451014694089, 63.0928208411265, 77.33934239219198, 49.89592967275528, 75.64150625020633, 24.833881234928604, 75.99447768616241, 56.36145969739676, 75.84884797842889, 55.92074223690387, 55.956963466057765, 34.797376404951045, 50.31271590623228, 38.87036006019763, 56.764898571100694, 38.842014213585664, 25.39037800005316, 58.70825387691874, 59.2776463518503, 40.411321911708605, 87.78494314970226, 43.044876811481934, 72.05077475302349, 45.90161273129255, 63.4398731009966, 49.99731619821704, 54.38765576793484, 38.94205024026048, 96.2238254538396, 48.99860490323669, 40.163101750302296, 43.51543718794971, 57.81303188443206, 84.09267855648167, 28.13529758486211, 50.62550314340444, 51.55679979446908, 32.39178775517322, 64.58106590728175, 29.37877576542992, 70.81682753317469, 68.79255616596492, 56.389952114584666, 44.09390897363421, 32.87524384144799, 79.72296350853688, 63.77147522406174, 84.4609535586668, 41.616630143793536, 25.39037800005316, 47.973044831007265, 51.55559586625807, 88.13776801508237, 71.84755450324514, 62.10272971980603, 51.186422015252084, 84.45383045436981, 40.539703784995375, 35.64078046090291, 70.14213611986943, 33.250788518506006, 50.220860341489505, 53.03551389990535, 51.90962465984921, 42.9084729850773, 87.32225815577641, 30.65135207085465, 31.034625559878656, 87.03204415970617, 48.17536623196474, 37.14477629214203, 52.14164240620563, 42.28875964297384, 72.00728384899668, 27.790799751989965, 62.522676087949996, 22.40129723732577, 64.3000777925404, 28.700121382494665, 81.63084986344597, 33.345804217915735, 87.16965191432183, 87.81283734634815, 80.52512600806978, 56.09457122067342, 74.63506614325999, 33.19184747767421, 92.62507200353886, 88.47649324244449, 68.21423095085635, 85.47953709717518, 37.02974177862831, 39.96078034934481, 63.59749966971625, 75.22411430906035, 55.7687417031183, 44.90304800688815, 39.9924329011997, 60.30530920111162, 40.185528420828284, 51.19474904776006, 42.70629815469578, 94.31593909893047, 84.56901153845948, 54.49751589648053, 42.01917016867659, 48.54364123414985, 58.586096259108054, 50.97697750999762, 90.38437959735361, 72.26854629078593, 41.55071256924072, 78.60224116632176, 70.88154117951649, 49.63481380154197, 33.19319797646117, 35.100632681404214, 81.69421301100084, 57.50234742429178, 49.224398394116996, 95.26860506288605, 85.34980472510142, 42.613238661741995, 69.97844380448788, 52.63995040874334, 41.082853190346874, 53.44015670182028, 70.81562360496366, 29.81161784338088, 64.70412237391335, 64.39388956373915, 62.96931272452884, 61.85114480931171, 61.43952547367575, 59.8573220657458, 60.63811525238777, 63.59172706420623, 39.93363843094385, 36.46626847978272, 87.8354105874501, 40.74869664028376, 35.45345754678436, 57.95776274334471, 56.80157145022064, 42.95316781731511, 75.10562651972776, 37.61533666860979, 73.94351605051776, 72.93085168809532, 65.14423412673725, 30.043183939771218, 31.841808386676625, 31.249842670643112, 45.71233361071803, 52.26515052280326, 74.36195341106057, 59.44555615953387, 67.12516116049613, 50.92726235049472, 84.26073493474121, 34.27724743955631, 35.42556335013844, 68.71313717393608, 80.1197309279099, 24.978612093841242, 74.11628767665223, 52.5967526458684, 63.69176309088105, 77.4777024250526, 38.66091555494318, 82.5118256473387, 64.2420356005295, 62.87550095333014, 49.39747509964162, 65.91137932532726, 70.81562360496366, 63.973650054443276, 42.16600380462112, 64.46557974380198, 44.58448816420596, 85.29933728735358, 34.7256862248882, 40.86418280376353, 77.34721777473393, 29.970143260921418, 48.72338939400537, 54.11424240745654, 57.154542886176735, 89.59009248036261, 35.698371002947745, 61.314813428867076, 51.34735528921464, 85.10534291890409, 56.12291706728539, 26.67660229352984, 45.46652130573374, 20.39247600692096, 48.22703759792359, 72.64379782669207, 45.532585450862506, 58.26603934706295, 65.87591037441831, 67.82579056399132, 72.30978784720489, 68.73631612270705, 34.183289097781646, 59.112896678833685, 28.850624846917327, 80.4170680282771, 32.13202238274686, 30.246709268939703, 66.54609115426962, 87.37909641957629, 32.39178775517322, 29.632768532346255, 63.95879813818032, 64.98525705923063, 55.543241353389895, 37.352118020364564, 46.52979967647996, 62.86260524352313, 61.05565376410973, 61.26630219757518, 77.2896272326891, 50.725539170079266, 46.10197792579407, 46.708795558090536, 46.44055658258025, 30.794732430980325, 50.52276611915571, 51.76489380093657, 72.99541876386121, 59.04683253370492, 79.82314610578763, 54.19260404185028, 41.48734942168587, 36.67436248625021, 77.80855226987279, 72.56378061412124, 49.89517739451035, 55.70417462735244, 69.16810084302293, 58.7458256048596, 64.4952760892009, 61.04155412609172, 64.06806004618403, 79.24467432010312, 64.3575217640093, 55.6582758669036, 37.462730427155215, 58.758721314666595, 69.08216445436614, 45.34526253674394, 37.97648856649791, 80.53224911236677, 54.048930540572705, 38.63392020711817, 40.894631427407425, 48.48484676389399, 71.07478326972102, 85.2571968821137, 71.9648383643667, 70.31004592755303, 76.21922575764589, 75.48177690445479, 67.71787915477461, 49.63481380154197, 49.29413236772388, 66.40773112140903, 70.89564081753451, 73.34457380076321, 43.66212425331832, 43.198833551723474, 93.02334397940177, 46.26868380526664, 65.73680555043975, 57.76983412155713, 21.90163873600109, 68.17074004682954, 48.98570919342969, 36.25607169628332, 69.55137433204695, 17.870648915418407, 79.33256691521589, 82.20736544267453, 45.16993648361147, 54.83609455326671, 38.29309220272415, 47.84241361011264, 22.530577959433444, 67.22474553720488, 92.547010997424, 51.53482477390914, 43.04608073969296, 46.43433232710415, 36.609648839908395, 79.48321695021448, 79.65127332847402, 91.09213210514577, 61.73430814704496, 75.64667314804737, 41.283824092517385, 78.1621294134979, 47.3745542312188, 28.041485813663385, 50.45940297160087, 51.00165352813148, 35.64985977165585, 73.77621195050315, 36.60252573561143, 75.97325494384742, 42.30938416474681, 87.77782004540526, 68.9598602659795, 94.6196470253497, 31.79921633147071, 57.09193201686683, 29.86343577991569, 36.16180827511854, 33.54100251457623, 50.3346909267922, 57.5176509905208, 68.07055744957879, 95.15934315488235, 81.21788002902306, 41.66057269778643, 25.732263362082257, 67.88840143330123, 67.57877433079602, 41.87578980855091, 54.374007779882895, 43.305992682695255, 59.88656676117868, 19.951160325886065, 64.69745091958242, 36.34988346748204, 59.45980236812786, 80.53135026354585, 43.51529061737376, 70.18076520544537, 53.09626457661714, 58.97649285242904, 26.786315851499594, 23.288497276694578, 67.19685134055896, 52.27879851085522, 48.39313776972718, 19.53999264021615, 75.66407949130829, 85.41572229965425, 66.27207957324933, 36.465369630961824, 65.61464793262905, 52.34988298324905, 64.27735798086252, 66.47364869596186, 28.50357258704721, 82.98815862931647, 49.48206098951146, 46.31704846598259, 48.2120391110847, 81.63084986344597, 32.87524384144799, 83.02362758022545, 71.82041258484418, 48.544393512394784, 39.64342443487363, 52.819092860929864, 59.170340650302556, 81.15331295325717, 62.00967022685224, 67.44251707496733, 84.66327495962426, 65.52083616143034, 48.47847593784197, 42.04961879232045, 18.303637563945323, 58.54005092808327, 37.14282008568606, 88.59287825474516, 73.22953928724951, 83.55875503245906, 78.76954526633637, 43.03895763539598, 51.08758991678827, 49.63466723096602, 80.08291147821399, 26.34304396400873, 42.17889951442813, 41.32641614772333, 34.55838212487361, 34.45032414508092, 53.44713323554131, 18.65901685632342, 50.56670867314862, 83.997516286496, 81.81772112759847, 50.2699772804504, 61.314813428867076, 75.17806897803555, 94.72560222811049, 75.34551964862607, 28.663301932798767, 42.01917016867659, 31.575525617622297, 36.2051526085694, 88.68077084985791, 70.46204646133862, 64.6303294168186, 72.9023592709074, 56.121713139074366, 48.066856602205995, 36.70391226107319, 30.080609097136126, 82.03414216657396, 51.968565700681005, 27.72353167865019, 65.24637293044395, 39.325470299860434, 48.68792044309641, 93.26113433126818, 43.53741220850966, 42.02052066746352, 39.64538064132959, 59.35841584266607, 38.49420967547061, 81.83317126440343, 46.57816433719591, 35.7712651112216, 38.517535194817505, 46.2461105641647, 39.43397992961918, 56.128689672795396, 75.17109244431452, 29.206902988116326, 45.761902199644986, 71.26983499580558, 60.261964867660744, 73.33624676825522, 65.86533399430249, 85.63018713217377, 75.14897085317864, 31.41459234365974, 48.687168164851464, 80.25809096077052, 84.8313313378838, 49.763342245404694, 25.320644026446274, 37.295426327140625, 69.41376657743129, 61.1067194223996, 54.65724524223207, 44.05964395093627, 52.495219549830686, 78.14848142544594, 48.27038193137448, 57.37883930769413, 24.770518087373752, 32.71686499448338, 52.63417780323332, 71.07478326972102, 83.71060899566868, 33.69165254957483, 40.120509695096366, 68.12949849041055, 66.28632578184326, 59.37963858498106, 68.31045057847712, 46.56541519796486, 17.523596655548296, 62.02376986487025, 53.95526533994991, 68.53991389783553, 43.75518374627209, 76.38607820769442, 53.76704357701046, 56.43906905354556, 59.66077327029836, 36.3156184447841, 75.20791189401044, 76.11011042021815, 27.21308024455042, 27.976772167321577, 67.78821883605048, 62.86350409234402, 37.53321667900705, 30.064406682086208, 78.34247579389543, 51.25444236683679, 40.11263431255443, 63.072049748777566, 51.629840473318886, 49.96761985281811, 15.05268865175966, 57.17576562849171, 40.18763119786018, 61.995424018258284, 48.848101438814034, 79.67841524687498, 73.87257814869986, 79.65704593398405, 28.915338493259128, 75.22411430906035, 16.223878431722618, 47.24969561583418, 90.97830151984306, 59.329317717809154, 67.70153016914873, 65.25334946416498, 34.24087963982648, 54.11484811512552, 79.87361354353547, 74.5562528589002, 91.97431181724949, 58.44001490140844, 65.06662477058842, 69.48666068570515, 70.39020971069982, 33.73409803420481, 78.03876786747617, 60.43579385143031, 56.67806333362298, 46.33460137981947, 83.95492423129005, 84.73706791671898, 67.41904498504448, 44.98321179003491, 40.20554723493226, 47.69191014568998, 28.071934437307256, 92.10359253935715, 33.74909652104372, 77.79310213306783, 20.227726333904343, 57.94245917711567, 41.86274752816795, 55.19739302173078, 33.94489303824623, 48.70202008111443, 53.80341137674031, 95.36166455583981, 79.74553674963883, 52.82104906738581, 91.28733040180626, 62.95506651593488, 78.26231201074864, 27.63684301174844, 37.34514148664355, 42.50593296019425, 58.837534599026405, 44.743318661136605, 76.9851670280249, 70.82897096473675, 62.01679333114922, 72.27431889629597, 42.215718964124015, 42.56262465341819, 53.25403771591272, 56.36648002466183, 50.6253565728285, 74.606866867224, 70.31019249812897, 40.92177334580837, 56.382829010287686, 53.85373224391221, 39.58448339404183, 85.27931847324959, 66.76251219324513, 64.83400131656302, 40.844310560235506, 72.9328078945513, 32.49332085121093, 47.41775199409371, 48.926914723173844, 75.02681323536794, 35.447684941274325, 74.47833842336127, 72.84701807647042, 75.09273080992077, 79.29634568606198, 31.08509299762651, 15.291231281871028, 26.85680210335142, 33.94429481770421, 38.754121618472915, 51.12305886769723, 36.56038533037155, 67.75410038392849, 23.216807096631733, 28.38929035177845, 43.768079456079086, 31.879233544041533, 62.87550095333014, 49.525405322962335, 78.19182575889681, 74.15963201010311, 34.39152967482509, 64.63955529814749, 37.18024524305097, 81.60175173858906, 31.156030899444396, 60.80421542419135, 61.17203877641038, 68.91606428256256, 33.51175781914338, 85.04654844864825, 72.17338402080026, 67.39782224272949, 29.942249064275508, 80.66063098565354, 48.87644728542599, 19.66927336232382, 68.96712994085243, 75.65695638701129, 71.84755450324514, 21.95331010195995, 68.74921183251405, 63.143886499416375, 68.58250595304145, 54.91505440820247, 59.35841584266607, 54.28094828692911, 62.10393364801704, 44.24441243805686, 55.067514079081086, 37.259205097986744, 68.19998474226242, 24.12808493359239, 55.024316316206175, 85.5662257640769, 40.59925053349615, 85.97919559849984, 83.41522810175744, 42.77086523046163, 67.94719590355709, 76.55217837949797, 87.66931041564652, 83.92582610643316, 56.389805544008716, 60.90500372911111, 35.63576013363784, 46.36961868076235, 78.5822223522178, 67.29778621605467, 83.25504710603983, 61.9592027891044, 55.54399363163483, 57.307149127631284, 84.8313313378838, 79.51156279682647, 57.24835465737545, 62.77426099844431, 34.29967411008233, 85.28433880051469, 65.5429577525662, 32.968303334401746, 32.49909345672095, 43.04106041242789, 66.64035457543443, 67.46253588907129, 61.35088808744502, 52.22120796881038, 66.06780196583588, 53.649454636498795, 74.44909372792839, 62.46388161769415, 62.81303665459617, 28.599938785243914, 35.47468028909935, 31.89212925384853, 55.681601386250485, 50.34166746051324, 41.50159563027983, 41.99217482085157, 59.891587088443735, 73.33534791943433, 43.39980445389397, 49.87260415340838, 51.867630825185294, 68.13662159470755, 50.668700906279376, 45.67476188277718, 68.15784433702254, 19.791430980134507, 66.22738474101149, 75.09152688170977, 64.03881535075115, 61.14294065155348, 45.2487497679713, 46.8614017995451, 86.99777913700825, 46.774261482677296, 30.49102450456109, 59.617575507423446, 73.69162606063333, 92.547010997424, 63.01535805555364, 70.85109255587261, 21.583684600987894, 65.63601724551998, 36.54508176414253, 87.38030034778728, 39.917436015893934, 54.61846958608023, 43.320092320713265, 58.69978027383481, 76.04614905212128, 73.11195034673781, 59.40813100216899, 24.857206754275502, 73.84939919992891, 66.17826780205058, 60.99108668834386, 34.292697576361284, 37.75174049501444, 91.87292529178774, 34.984101098527596, 53.890551693608124, 54.58922489064735, 44.815761119444396, 65.3548825602027, 55.624157414781614, 60.90425145086618, 60.00205292465845, 76.01570042847743, 63.97379662501921, 58.65853871741583, 55.30530443094751, 32.074431840702026, 49.52675582174928, 50.49366799429881, 44.05754117390436, 44.41051260986044, 34.419875521437056, 59.54453482857364, 49.491286870840334, 27.514233743971687, 72.95994981295226, 37.42711490567033, 69.3937477633273, 38.12593467328551, 52.811969756632884, 37.656724795604696, 82.71991965380619, 73.04844062860701, 57.501595146046846, 66.4968276447328, 87.1638793088118, 29.813720620412788, 25.599675934731664, 89.51127919600279, 74.72445580773567, 47.17935593455831, 42.641584508353965, 59.02696029017688, 47.742231012861886, 88.75381152870773, 76.05447608462927, 42.88845417097331, 65.48536721052139, 41.890641724813854, 41.6533030229135, 35.88644619531126, 51.66410549601681, 64.86309944141993, 19.350566949065673, 47.15663612288041, 27.601374060839497, 49.46916527970445, 70.56403869446936, 76.60129531845888, 74.78767238471457, 60.4216942134123, 49.51130568494431, 90.44317406760945, 39.786804794999306, 55.48640308958999, 49.729077222706756, 59.56194117183457, 56.0145540081026, 55.89089932092899, 18.69403415726631, 91.6143638475724, 26.949861596305205, 79.05720483540861, 51.45466099076237, 47.32865547076997, 62.63058749716672, 62.00164827373437, 74.15175662756118, 69.66700706610268, 76.44156597270737, 37.45440339464724, 38.22792690641628, 82.8717736170158, 63.82435051823163, 81.88153592511941, 90.10399719028126, 70.77362977029978, 32.87659434023494, 71.50064881395096, 42.807086459615526, 52.755131492832994, 44.88684559183823, 48.29752384977542, 38.560879528268366, 53.20236634995384, 38.41749916814269, 32.77310503774125, 38.64014446259426, 41.69664735636437, 46.26035677275865, 70.06452676372064, 41.8628940987439, 30.800651607066293, 87.54002969353883, 35.77141168179755, 44.10800861165222, 63.07857463253254, 40.07701879106954, 37.64368251522176, 47.37440766064284, 30.859446077322126, 75.43145603728289, 29.710231317919117, 86.49812063568356, 60.55599526278505, 74.09626886254827, 63.475342051905564, 38.610594687771275, 63.71508861022793, 47.24271908211315, 45.351035142253956, 69.2559934381357, 36.11831737109171, 38.22095037269525, 60.65813406649176, 30.317195520791522, 51.33827597846169, 19.814756499481405, 63.57035775131529, 20.551453074427556, 88.08940335436642, 37.03671831234934, 29.11841217246156, 73.43171411763103, 48.97025905662472, 79.90195939014745, 71.34287567465537, 56.95342541343026, 48.694144698572494, 44.19484384912992, 57.35686428713421, 37.2099415884499, 51.90962465984921, 29.341956315734016, 62.44978197967615, 57.90474087859888, 60.392596088555386, 69.41376657743129, 86.60738254368727, 75.09152688170977, 61.194612017512334, 77.76460971587991, 36.11846394166765, 62.976435828825835, 22.33537966277295, 57.66132449179839, 85.45951828307119, 56.55545406584623, 37.80933103705927, 43.1198736967877, 78.76121823382837, 79.19495916060023, 63.14463877766132, 40.87130590806051, 49.56418097911419, 52.24955381542235, 82.64231029765739, 61.230080968421284, 73.0693582915319, 97.82469717708653, 51.615740835300876, 57.56736615002372, 50.45940297160087, 18.5930992817706, 61.80142964980882, 87.04749429651113, 51.42616857357445, 83.38357554990256, 39.46442855326304, 30.95962867457289, 62.22729519403875, 81.68011337298282, 93.32449747882305, 45.47364441003071, 46.579514835982856, 44.63495560195381, 30.939463289892963, 43.78232566467303, 80.58181770129372, 80.76989289365721, 77.44725380140872, 55.881820010176064, 63.27316722152404, 34.883312793607836, 22.566046910342386, 25.796224730179112, 35.59241580018696, 45.979222087441364, 44.353820916636515, 51.65698239171984, 54.68438716063303, 82.27328301722736, 47.76495082453979, 74.75145115556069, 53.0000449489964, 71.18404517772473, 73.0693582915319, 54.07165035225059, 85.97207249420288, 64.22899332014657, 33.53267548206825, 61.6553482921092, 30.06650945911811, 45.40075030175688, 23.346087818739406, 34.630072304936455, 57.42975839540805, 38.66091555494318, 83.02483150843645, 33.82003442286162, 18.81162309777799, 75.8877702051567, 48.2399333077306, 83.40112846373941, 31.581444793708265, 68.43973130058478, 42.562771223994154, 95.27572816718302, 41.74726136468818, 14.165940262356912, 38.64014446259426, 55.80435722460319, 68.04235817354277, 57.032990976035045, 65.75817486333068, 60.8396843751003, 52.41655283604681, 40.698082631959956, 38.632569708331225, 63.54703223196841, 65.75225568724471, 83.47994174809924, 43.78232566467303, 68.45975011468875, 50.65264506180542, 61.756881388146915, 52.35896229400199, 61.84402170501473, 50.51684694306976, 62.76834182235833, 38.35855812731091, 72.78034822367266, 47.93757588009833, 31.35835230040187, 72.42602628892962, 67.41327237953448, 50.17691778749661, 98.12915738175073, 50.32044471819825, 49.44794253738946, 46.56616747620979, 38.538757937132495, 71.64021277502258, 31.4521640716006, 77.61200347442536, 28.851377125162273, 72.5921264607332, 70.33929062298589, 60.96971737545292, 45.539561984583536, 14.990077782449752, 42.577769710833046, 26.23573826246099, 45.48668669041367, 66.30177591864825, 31.640239263964098, 14.209284595807787, 30.91703661936696, 61.8085527541058, 34.529137429440745, 81.88153592511941, 38.27778863649514, 63.25179790863309, 76.50748354726016, 48.11065258562294, 29.46546443233167, 57.140296677582775, 62.57906270178382, 37.93073637662503, 43.5237642204577, 54.31716951608299, 94.77606966585836, 62.78258803095229, 54.86533924869956, 82.07096161626987, 23.64342491910662, 55.20331219781675, 35.801713734865466, 78.69530065927555, 42.78706764551155, 44.95276316639106, 33.467961835726435, 62.5873897342918, 84.07843234788771, 63.75722901546779, 31.78497012287675, 66.30177591864825, 77.04261099949377, 71.09810878906794, 47.86453520124851, 53.67292672642163, 52.89986235174563, 77.27342481763915, 55.98530931266972, 80.99358360750563, 68.97987908008346, 50.573831777445584, 61.16295946565747, 84.69372358326811, 81.49324210883032, 81.63084986344597, 79.31846727719787, 66.813577851535, 50.328918321282195, 27.826268702898915, 44.05266741721524, 41.529941476891786, 48.72338939400537, 89.90804661537581, 44.17984536229101, 60.81133852848833, 32.044882065879044, 73.95139143305968, 67.00952842644043, 55.33514734692239, 70.42522701164268, 58.166003320388135, 33.582390641571145, 31.87802961583052, 59.604679797616434, 32.66504705794858, 80.16307526136075, 39.74541666800439, 57.37292013160816, 55.13357822420985, 58.997715594744015, 75.04301565041786, 27.72353167865019, 59.40933493037999, 49.873808081619394, 36.7474031651, 39.70799151063948, 56.14428638017632, 55.37001807728932, 26.200269311552056, 59.23625822485538, 56.26524006977602, 65.12211253560136, 61.89448914276259, 58.80251729808352, 37.01549557003435, 59.069405774806874, 78.15635680798786, 54.04330450563864, 69.79036861212438, 50.271327779237346, 88.55149012775024, 88.15988960621826, 56.533479045286306, 58.44713800570542, 69.93269161461501, 26.540198467125172, 34.21830639872453, 33.34370144088383, 58.18220573543804, 86.9886998262553, 58.57064612230308, 49.95839397148924, 56.29554212284393, 49.56418097911419, 29.060069352171773, 44.17407275678098, 46.694695920072526, 40.39707570311463, 38.12713860149652, 72.65181977980993, 43.582107040747466, 81.78149989844457, 70.07937867998359, 44.8151554117754, 78.40824679787227, 69.85373175967922, 61.714289332941, 30.679246267500552, 70.77362977029978, 52.13541815072953, 73.1978867353946, 66.95058738560863, 24.747944846271807, 60.961841992911, 75.84899454900483, 31.258169703151104, 60.217270035422935, 42.613238661741995, 35.107609215125244, 53.636558926691784, 42.84390590931144, 84.26073493474121, 71.86967609438102, 56.28781331087796, 48.82597984767815, 59.7112407080462, 40.93601955440234, 50.09022912059488, 48.26115605004559, 41.95460309291072, 70.303069393832, 61.16626617090038, 71.56641981792785, 37.55076959284393, 41.465227830549985, 59.82687344210195, 40.150059469919334, 52.51081625721161, 60.932292218088016, 34.81739521905501, 91.73652146538308, 53.319955290465536, 52.783623910020914, 68.03388457045881, 79.23950742226211, 41.42263577534407, 36.71815846966714, 74.0068791980726, 26.51822344656525, 58.787067161278564, 26.65583120118091, 25.079546969336945, 71.84755450324514, 69.25524115989074, 91.73652146538308, 19.510296294817216, 76.27816679847768, 82.027617282819, 65.27606927584287, 74.90405739701524, 53.78796123993532, 50.30634508018024, 26.242861366757978, 44.9256212479901, 49.181054060666135, 46.21109326322182, 63.10129444421043, 78.42324528471119, 62.24746057871868, 83.67514004475973, 73.47520502165784, 34.183435668357596, 83.8986841880322, 71.06766016542406, 90.64624774681187, 44.166949652484014, 52.148167289960575, 85.6392664429267, 60.47126280233925, 50.660373873771384, 54.87035957596465, 77.90356796928253, 75.8806471008597, 87.43789088983212, 30.463276878491122, 46.56616747620979, 88.57150894185423, 30.41145894195632, 54.834890625055685, 73.1202773792458, 67.10379184760521, 23.924559604423912, 66.33785057722619, 86.05800888285967, 72.72928256538279, 69.38466845257437, 90.86146485757632, 38.11289239290256, 64.16111953913779, 44.673584687529704, 67.96264604036205, 33.58359456978216, 45.95845099509244, 32.86039192518502, 57.32972236873325, 73.46095881306388, 75.8806471008597, 82.90011946362779, 47.74027480640593, 38.56800263256536, 68.32334628828411, 37.10720456420116, 43.47996823704076, 45.61004823643537, 73.79893176218107, 49.26699044932294, 78.63058701293374, 37.62958287720375, 76.80482064762737, 36.24774466377533, 95.20524191533119, 63.14463877766132, 20.442943444668806, 78.8400315181882, 81.72390935639976, 71.48850538238892, 72.09322023765347, 56.721407667073855, 65.19470156448509, 94.99459348186573, 45.03353265720683, 50.10447532918884, 46.29582572366761, 79.4476014287296, 83.1115201753382, 69.81840937934624, 72.90250584148336, 52.72588679740013, 73.40928744710502, 76.66856339179867, 47.82119086779765, 42.156924493868196, 68.91410807610663, 63.1296402908224, 20.948972772045522, 41.218358167930624, 72.15201470790933, 52.1637639973415, 26.814210048145497, 17.069836914672464, 87.00490224130522, 21.144171068706015, 82.02701906227699, 40.55335177304732, 59.43722912702591, 74.62929353774999, 50.52201384091078, 53.33997410456953, 63.54838273075536, 27.56013250442053, 38.429496029128806, 40.73580093047676, 59.74303983047704, 40.19842413063528, 46.28990654758163, 43.914160813778686, 52.7189102636791, 36.299416029734196, 53.63866170372369, 28.179845846523996, 26.604912113466995, 52.14951778874754, 81.74392817050375, 61.1699359993785, 56.47574193266552, 56.69441231924886, 36.892134024012655, 81.00858209434455, 74.0961222919723, 72.13656457110434, 49.60677303432012, 34.89831128044674, 76.6381147681548, 51.30993013184972, 64.78428615706014, 74.26799506928592, 97.73876078842974, 48.391787270940235, 44.20819120890297, 74.68884028625078, 80.87795087344992, 31.54522356455437, 79.15873793144632, 84.25285955219928, 55.204064476061696, 96.50496013915688, 72.10942265270339, 44.56432277952603, 40.69231002644994, 69.71035139955353, 68.83529479174678, 67.39917274151645, 48.71626628970839, 32.362689630316304, 32.29797598397449, 86.64164756638519, 29.213879521837356, 35.4677037553783, 44.33169932550063, 33.03422090895457, 74.7878189552905, 56.06277209824258, 59.04697910428086, 84.4759520455057, 73.66117743698945, 77.20038413878936, 44.95351544463599, 46.92731937409793, 55.9556129672708, 61.85766969306669, 55.11737580915996, 63.08494545858458, 23.419128497589206, 77.59790383640734, 46.41933384026526, 82.97893274798761, 54.33021179646595, 58.990592490447035, 42.20739193161605, 59.444352231322874, 53.63153859942671, 83.07529894618429, 56.4957607467695, 61.95207968480741, 63.12828979203545, 45.4583408438017, 80.95811465659668, 62.96931272452884, 51.83095794606533, 56.76475200052473, 71.79918984252919, 66.30042541986128, 45.68173841649821, 69.31162777372458, 32.72976070429038, 41.132421779273834, 41.94868391682474, 46.580267114227816, 51.66395892544087, 46.10985330833599, 33.62558840444607, 56.61926886336716, 37.202366834186854, 95.40044021199168, 63.24467480433611, 57.183641011033636, 39.26075665351862, 58.18220573543804, 40.05002344324452, 92.62582428178379, 80.06289266411002, 57.790605213906055, 86.52856925932741, 64.3006835002094, 79.36803586612484, 79.0643279397056, 74.94087684671115, 27.015779170858018, 52.43185640227585, 48.674272455044466, 69.54214845071806, 60.60069009502288, 24.84175661747053, 38.02695600424577, 29.22812573043131, 33.402495911139674, 54.048930540572705, 81.3923072333346, 69.33615722128246, 69.55257826025797, 63.794048465163705, 60.4054917983624, 44.036318431589386, 91.08500900084877, 50.206760703471495, 65.80984622928955, 96.30976184249639, 83.5445088238651, 59.61832778566838, 56.43906905354556, 38.171686863158406, 35.74412319282063, 74.78069585099354, 52.155436964833505, 48.5800090338797, 80.5910435826226, 85.62306402787681, 43.413904091911995, 34.284223973277356, 49.56087427387127, 96.35310617594726, 39.25378011979759, 42.12145554295925, 46.62165524122273, 77.67671712076717, 59.02560979138992, 21.793580756208407, 94.7489277474574, 71.02492153964218, 34.89239210436077, 60.108906976240114, 59.06318151933079, 76.78284562706745, 25.231400932546563, 24.214021322249188, 38.34235571226099, 79.38303435296373, 41.241683687277536, 60.29106299251767, 49.766648950647614, 62.71667045639946, 59.163217546005576, 47.663417728502075, 67.76122348822545, 62.25533596126059, 28.22378840051688, 76.65101047796179, 91.97431181724949, 52.56705630046947, 66.20540972045154, 51.10881265910327, 62.41537038640225, 33.229419205615066, 72.85901493745655, 54.532533197423426, 62.131075566417984, 58.26603934706295, 83.88323405122722, 84.80298549127181, 50.77600660782711, 43.93628240491457, 64.64653183186851, 75.51814470418464, 37.14282008568606, 40.94314265869931, 48.2988743485624, 27.160510029770656, 29.199779883819346, 54.27397175320808, 57.48599843866594, 42.20012225674312, 55.72539736966743, 37.006416259281416, 34.6443185135304, 44.87590608848719, 21.316796124264563, 78.94352082068187, 50.024311546042064, 37.54364648854695, 47.98137186351526, 83.65256680365778, 48.73748903202337, 43.739733609467116, 78.81168567157621, 70.54993905645136, 73.27865622621039, 47.70600978370799, 70.41930783555674, 31.713279942813905, 36.59540263131445, 35.698224432371795, 79.96787696470028, 52.559180917927556, 94.57374826490087, 61.460296566024674, 75.06438496330878, 64.40663870297018, 58.57762265602411, 75.14184774888167, 67.21882636111891, 65.19470156448509, 62.26366299376857, 14.510438095229055, 87.18585432937175, 58.91755181159724, 12.691042555974718, 26.785111923288582, 79.35393622810682, 38.93507370653945, 83.6163455745039, 47.18010821280324, 39.81148081313315, 31.826358249871653, 53.32572789597557, 54.777446653586814, 29.153881123370496, 40.38995259881765, 46.65000108783469, 76.81073982371333, 77.22250572992525, 26.887250726995298, 71.68295140080446, 51.476782581898256, 51.1160823339762, 83.31976075238163, 29.46591608229773, 79.85224423064454, 94.68301017290457, 42.91042919153325, 84.20118818624042, 50.336041425579175, 60.974884273293945, 78.53887801876692, 77.28842330447807, 85.76067178249247, 51.598041350888046, 63.59885016850321, 48.50817228324089, 58.73855592998668, 44.4480843378013, 71.86967609438102, 44.081013263827224, 76.56642458809196, 27.5884783510325, 47.45201701679165, 84.51142099641464, 44.33365553195659, 35.698224432371795, 72.19670954014714, 38.256419323604185, 49.85835794481442, 38.45994465277267, 28.034362709366413, 63.63642189644407, 32.73763608683232, 89.8583314558729, 89.61266572146454, 27.608497165136477, 52.458998320676805, 59.01256751100697, 28.61995759934789, 67.41919155562044, 33.51055389093235, 38.61194518655824, 43.582107040747466, 63.504440176762465, 50.24283536204944, 42.36120210128161, 23.280170244186586, 76.98381652923794, 73.17059824641771, 28.4247593026874, 48.10944865741191, 35.15942715166006, 54.98082541217935, 55.92786534120085, 68.99412528867745, 63.46244634209855, 39.38546869832728, 26.820580874197525, 56.38147851150074, 66.66749649383539, 83.5963267603999, 48.71747021791939, 75.6536496817684, 77.95268490824341, 49.60556910610911, 76.7402535718615, 41.74515858765627, 83.02483150843645, 55.2264911465877, 65.82986504339354, 38.58922537488035, 76.935451868522, 71.91302042783187, 38.76244865098089, 41.73938598214624, 79.5562576290643, 83.34810659899358, 83.08121812227026, 68.74343922700402, 21.259205582219728, 22.465112034846676, 63.9303057209924, 40.336930734071835, 77.98950435793932, 55.20331219781675, 79.39015745726073, 89.07041516493396, 74.83371771573937, 48.26115605004559, 60.853332363152255, 49.36200614873267, 84.64325614552027, 60.47126280233925, 74.41864510428454, 49.63601772975297, 29.646868170364264, 50.43607745225399, 67.5580032384471, 62.515699554228966, 32.434379810379134, 17.106058143826345, 54.2208033178863, 21.511994420925056, 75.61240812534942, 40.67806381785599, 32.391934325749155, 61.409829128276805, 66.5253200619207, 69.35025685930049, 60.017051411497356, 74.92542670990619, 42.6506638191069, 53.39179204110433, 64.83475359480798, 83.91157989783918, 59.81352608232887, 49.85835794481442, 53.65290791231765, 76.00145421988344, 83.72350470547568, 65.95472365877814, 57.501448575470896, 58.0715933286474, 84.04221111873383, 26.51822344656525, 42.77206915867264, 43.552862345314615, 62.3694716259534, 48.341466403768315, 19.013944498735455, 82.28738265524535, 50.73131177558928, 60.76739597449545, 44.75044176543357, 34.01658321830907, 81.0440510452535, 24.885552600887465, 60.63615904593183, 33.77758893823164, 23.98215014646874, 38.80699691264278, 72.85414118076741, 37.656724795604696, 53.572744129170864, 50.59580679800552, 46.78183623694033, 55.85482466235104, 14.33856531791546, 50.51624123540076, 25.67346889182641, 25.180933494798715, 41.227437478683576, 29.03172350555981, 21.937859965154985, 62.47220865020214, 82.1285521583147, 58.06447022435042, 61.873266400447584, 76.30651264508964, 59.597410122743504, 70.53583941843334, 65.26774224333488, 46.816706967307276, 43.83991620671787, 34.20465841067257, 64.35766833458524, 77.74338697356492, 45.293444600209135, 70.20078401954936, 32.7447591911293, 45.83373895028378, 56.2379515807991, 54.32233641392401, 62.25578761122666, 60.91137455516316, 23.736484412060392, 89.83500593652602, 54.5258617430925, 58.12265898693726, 55.477177208261104, 30.173668590089903, 75.70667154651423, 89.15057894808075, 73.69027556184636, 79.89483628585049, 61.460296566024674, 36.80619763535585, 88.47649324244449, 42.388344019682584, 61.24507945526019, 26.078111693741356, 31.02750245558166, 85.97919559849984, 42.74964248814664, 30.20291328552276, 26.22861515816402, 42.44001538564144, 42.838885582046366, 52.05570601754882, 68.25757528430722, 69.96434416646989, 53.76704357701046, 78.35155510464836, 48.78218386426121, 50.328771750706245, 60.15149903144606, 55.65962636569055, 57.73286810128527, 71.47350689555, 69.23979102308579, 65.45371465866648, 62.59526511683372, 78.70362769178354, 41.23335665476953, 73.84939919992891, 27.386156950075026, 44.145580339593074, 32.411806569277196, 66.69914904569026, 87.35195450117533, 24.552746549611314, 52.53203899952661, 35.2452169697409, 82.53896756573965, 64.850057161037, 75.57573524622947, 84.45383045436981, 89.69860211012136, 36.458246526664844, 50.445303333582864, 47.66356429907801, 38.076671163748664, 58.564726946217114, 66.79085803985708, 71.69705103882248, 21.30892074172263, 36.79195142676189, 51.20764475756706, 28.641326912238824, 32.738986585619266, 41.558287323503755, 62.673326122948616, 57.91531725871473, 82.50259976600981, 50.49366799429881, 48.595459170684656, 61.294648044187134, 31.119211449748484, 35.91097564286917, 39.239985561169696, 41.14531748908083, 53.442112908276236, 43.617575991656416, 78.92792411330095, 85.32191052845553, 68.34471560117504, 28.561163129092044, 41.97080550796063, 78.6469359985596, 36.72026124669906, 34.89620850341483, 36.65359139390129, 55.501853226394964, 27.022902275154998, 32.6800455447875, 77.56228831492243, 23.680996647047465, 29.753575651369992, 87.92255090431789, 63.231779094529124, 14.59180580658684, 79.70098848797693, 68.60462754417733, 58.18932883973502, 95.9193652491754, 70.24547885178717, 32.59410915613069, 69.80416317075228, 47.90000415215747, 59.863094671255844, 81.68131730119384, 27.968445134813585, 47.534283576970346, 85.23462364101175, 23.095401757065993, 22.748349497195882, 67.54390360042908, 68.90818890002063, 67.41341895011041, 69.60806602527089, 53.62823189418379, 31.42171544795672, 64.31507627937933, 65.85454106152739, 53.31148168738161, 65.59844551757914, 31.790742728386768, 14.662292058438673, 67.40629584581345, 32.570783636783794, 27.096695232249743, 77.88616162602162, 46.368866402517405, 60.47005887412825, 71.12630806510396, 43.42237769499592, 72.10154727016146, 42.973938909664064, 88.36341493538674, 23.353210923036386, 67.76609724491459, 70.75923699112985, 47.16390579775334, 68.86439291660369, 88.62197637960207, 37.63655941092478, 32.0441297876341, 65.69481171577584, 64.87719907943796, 25.67346889182641, 31.28741439858397, 88.76670723851473, 27.769430439099033, 37.888144321419084, 91.30990364290821, 24.1927985799342, 33.59071767407914, 37.20296505472887, 53.255388214699686, 54.73395574956, 20.6381417413293, 70.10652059838455, 78.90474516453, 65.50673652341231, 72.45572263432857, 56.280690206580964, 81.37685709652965, 31.720403047110885, 43.52953682596772, 55.26983548003857, 46.75334381975242, 20.45839358147378, 50.42197781423598, 90.4134777222105, 78.60224116632176, 83.95492423129005, 46.15229879296597, 26.88529452053934, 22.46390810663567, 76.21802182943486, 32.44937829721804, 50.38425951571917, 20.46551668577076, 52.669646754142256, 38.58345276937032, 67.60149414247394, 34.30679721437931, 66.6920259413933, 62.62361096344568, 16.69233603115847, 56.63351507196111, 73.43186068820697, 64.65500543495247, 76.93469959027706, 42.388197449106634, 51.65698239171984, 49.995965699430094, 50.03143465033903, 43.775202560376066, 39.66660338364458, 28.51069569134419, 64.053960408166, 81.47899590023636, 20.501737914924654, 74.61715010618792, 31.776643090368758, 67.80944157836547, 64.42103148214011, 68.20118867047341, 41.76136100270619, 28.678752069603732, 35.82885565326642, 53.67292672642163, 28.39761738428644, 46.297928500699506, 40.86418280376353, 24.986487476383175, 70.61967303005824, 74.22554958465594, 51.707449829467684, 59.6112046813714, 39.92651532664687, 31.697077527763987, 42.165251526376174, 67.08242253471428, 88.43390118723855, 52.61993159463935, 37.82343067507727, 47.90712725645444, 90.225402529847, 52.40140777863197, 40.82159074855762, 58.26603934706295, 82.09810353467083, 38.980972466988284, 64.29175076003244, 48.88432266796793, 59.437375697601844, 45.414996510350825, 39.079804565452086, 90.97830151984306, 44.360797450357545, 70.82274670926066, 75.6996950127932, 49.25139374194202, 44.07966276504026, 54.048930540572705, 33.48341197253141, 36.956701099778506, 65.43946845007255, 23.872888238465045, 37.071735613292226, 40.33115812856183, 40.265093983433054, 46.85427869524812, 81.5932781355051, 68.12237538611359, 67.04364687856241, 26.95316830154811, 44.2243936239529, 17.589514230101116, 76.7531492816685, 84.6561518553273, 43.044876811481934, 44.93154042407607, 58.9551235395381, 79.99120248404716, 54.85625993794664, 44.360797450357545, 48.32586969638741, 38.71865266756395, 49.056342015857474, 64.79718186686713, 69.35040342987645, 40.257365171467065, 71.78509020451116, 39.83135305666119, 63.49154446695547, 32.25920032782262, 38.70485810893606, 76.65236097674875, 73.6185853817835, 62.81289008402023, 66.4968276447328, 66.48639783519289, 63.83874329740154, 68.04235817354277, 43.94917811472157, 66.09945451769079, 79.0643279397056, 46.56616747620979, 55.53034564358288, 65.04540202827346, 26.807685164390527, 45.898306026049646, 32.75900539972324, 22.069695114260625, 71.6603781597025, 44.95351544463599, 54.21503071237628, 47.229676801730214, 52.48171813235469, 71.98726503489272, 45.95132789079546, 65.7866672805186, 71.99318421097865, 32.58623377358875, 51.80763242671845, 32.109900791610976, 29.6314180335593, 54.105915374948545, 56.96646769381322, 34.62354742118149, 76.30516214630268, 74.15963201010311, 60.79709231989438, 47.71890549351499, 81.98502522761308, 46.680303140902616, 47.402301857288755, 46.968560930516894, 75.19246175720545, 45.358011675975, 52.35685951697008, 54.9582521710774, 71.45093365444808, 63.14965910492639, 71.1710028973418, 53.13885663182307, 41.01678904521811, 26.352123274761674, 77.93206038647045, 66.8840641033868, 78.7552990577424, 32.78735124633521, 38.083794268045644, 51.859157222101366, 35.30782783905081, 46.44978246390914, 47.76495082453979, 32.86039192518502, 64.67487767848047, 70.9758046006813, 75.30794792068525, 47.179209363982345, 55.00871960882525, 71.7908628100212, 71.74751847657032, 70.64997508312615, 37.50487083239509, 59.1257923886407, 47.38167733551577, 65.42657274026553, 57.72589156756424, 69.71747450385053, 56.25811696547901, 37.18871884613491, 83.13288948822913, 36.15453860024561, 38.87036006019763, 62.4050871474383, 80.04804074784704, 47.620219965627136, 44.00676865676639, 43.36343665416414, 15.805587641755722, 53.81751101475833, 42.17298033834215, 50.681743186662324, 82.2719325184404, 79.51351900328243, 61.20750772731933, 62.47296092844709, 66.28752971005429, 55.257086340807525, 72.70730754482287, 71.22147033508963, 27.82702098114386, 41.25457939708452, 58.512909009682296, 76.69690923841063, 23.76693303570427, 80.15595215706378, 20.478412395577756, 27.399052659882024, 32.60835536472464, 74.9054078958022, 84.91606379832956, 62.73789319871447, 86.46977478907158, 48.96313595232774, 75.8359522686219, 47.3518344195409, 66.01794023575704, 43.545885811593585, 41.05952767099999, 47.59689444628025, 39.90454030608695, 37.77431373611639, 59.32796721902222, 41.4194756406771, 24.805535388316635, 45.769025303941966, 63.91028690688842, 19.74096354238666, 86.4264304556207, 21.519569175188096, 22.725023977848984, 66.08520830909683, 69.3207070844775, 65.26759567275894, 64.45133353520802, 30.267932011254693, 43.630471701463414, 33.474332661778455, 83.7313800880176, 34.776007092060105, 47.591727548439216, 35.30782783905081, 33.19395025470612, 53.643682030988764, 53.88934776539711, 46.305051604996486, 91.6143638475724, 63.468365518184534, 64.02546799097809, 82.93769119156863, 55.06886457786806, 36.45779487669878, 42.10720933436527, 81.81772112759847, 50.21950984270256, 38.972645434480306, 72.72928256538279, 55.19604252294382, 50.328771750706245, 57.63072929757856, 71.02492153964218, 63.51156328105946, 92.95742640484895, 84.82300430537578, 76.20392219141686, 63.11419015401744, 92.21922527341292, 67.43419004245933, 64.34207162720432, 54.85034076186067, 35.16444747892513, 75.89489330945369, 57.038910152120984, 18.45549152715494, 28.30335396312165, 41.62300096984557, 35.98070961647604, 76.17602799477098, 58.70690337813179, 55.61493153345271, 60.83210962083725, 84.346671323398, 30.685470522976622, 63.72221171452491, 44.23743590433585, 69.9928365836578, 81.00145899004755, 55.68662171351557, 24.87722556837948, 23.990477178976732, 29.998489107533388, 77.35299038024394, 46.91899234158992, 43.99162359935155, 30.00891891707328, 34.500791582828775, 51.975688804977985, 93.0588129303107, 62.947337703968905, 25.766528384780194, 64.57349115301872, 42.02824947942951, 64.52317028584682, 80.74079476880033, 41.07437958726293, 62.33535317383143, 39.332593404157414, 64.34919473150131, 21.699317335043617, 81.13329413915321, 45.51121613797158, 72.13671114168028, 49.61981531470307, 43.86444565427578, 79.685391780596, 34.074173760353894, 62.60224165055475, 37.33922231055757, 30.28097429163764, 42.613092091166045, 74.34891113067764, 46.53692278077694, 27.008656066561038, 33.3870457743347, 52.66252364984528, 60.55007608669907, 79.86057126315254, 47.65433841774912, 86.75090947438889, 48.08942984330795, 36.2051526085694, 80.22186973161661, 78.90092876547592, 28.598734857032902, 72.90948237520439, 38.834891109288684, 48.41511279028712, 72.00030731527565, 64.16247003792475, 46.10273020403901, 53.04594370944523, 26.640381064375937, 24.937370537422275, 77.72838848672603, 56.61214575907018, 76.78284562706745, 45.0265561234858, 58.4057498787105, 21.64884989729576, 84.91726772654059, 66.47440097420679, 84.8101085955688, 15.899399412954452, 48.391787270940235, 68.14374469900454, 23.074032444175053, 32.13779498825688, 34.00810961522513, 48.26827915434257, 84.77965997192493, 54.82199491524869, 38.171686863158406, 38.77654828899892, 31.244070065133094, 66.89314341413973, 21.555790404341984, 69.32191101268853, 47.3886538692368, 78.54465062427695, 51.498005324213246, 76.60129531845888, 45.01733024215691, 58.44699143512948, 31.425022153199627, 45.727783747523, 35.8593042769103, 46.8614017995451, 41.948830487400706, 74.11036850056627, 57.27655393341147, 77.24493240045126, 51.00165352813148, 61.17203877641038, 89.08466137352792, 65.10921682579436, 82.93056808727167, 71.2273895111756, 53.82478068963125, 54.61134648178324, 55.593708791137736, 56.311138830224856, 88.19535855712721, 59.34356392640313, 59.84899503323782, 17.363867309796746, 81.41944915173556, 48.65867574766356, 55.62280691599464, 33.553898224383225, 54.73605852659188, 36.58055071505148, 69.33615722128246, 66.05340918666599, 66.56019079228764, 66.12644986551578, 36.17711184134756, 50.457300194568965, 80.48043117583194, 91.6143638475724, 44.82288422374136, 70.72046133497798, 61.64882340835424, 34.1472144392037, 63.29514224208396, 27.08244902365579, 59.73261002093715, 50.60413383051351, 40.7344504316898, 48.116571761708904, 32.117023895907955, 49.852438768728454, 61.44725428564171, 70.48979408740854, 49.628894625456006, 32.79522662887715, 68.99487756692238, 37.99785787938884, 79.85936733494151, 82.6849023528633, 56.829917296832626, 73.59736263946854, 51.05001818884744, 67.41341895011041, 51.33129944474066, 31.80619286519174, 64.0162421096492, 80.35115045372427, 58.28103783390184, 55.26983548003857, 17.647556422112004, 79.92648883770536, 46.18274741660985, 37.341178517013525, 40.05639426929657, 53.37754583251037, 47.64009220915516, 26.474879113114376, 49.750299965021746, 64.11973141214287, 50.074925554365855, 53.76704357701046, 42.828309201930516, 28.98702867332198, 56.43906905354556, 27.010006565347993, 63.9303057209924, 71.92847056463685, 54.20093107435829, 42.51095328745932, 51.14503388825717, 67.22474553720488, 74.16675511440008, 39.80300721004922, 74.26222246377588, 45.0265561234858, 90.8464663707374, 68.79180388771996, 67.02377463503439, 52.439126077148764, 28.65617882850178, 61.914507956866565, 37.14612679092898, 64.58181818552671, 50.45227986730389, 62.1472779814679, 80.93674534370575, 78.34945232761646, 42.020374096887586, 69.32572741174258, 38.638940534383245, 45.62549837324034, 72.1508107796983, 32.18173754224977, 23.144518696026886, 42.280286039889894, 69.65943231183962, 52.14239468445056, 80.33494803867436, 81.21075692472607, 37.831757707585275, 38.47284036257968, 87.25177190392458, 31.07586711629761, 32.02988357904015, 34.761907454042095, 33.97278723489213, 47.53218079993842, 28.186968950820976, 92.27877202191368, 93.2306857076243, 56.700184924758865, 27.991770654160483, 65.78652070994266, 42.280286039889894, 50.16206587123366, 17.60496436690608, 24.438464314342546, 25.997947910594583, 50.79100509466601, 20.905628438594647, 79.57823264962423, 54.3456619332709, 60.088135883891205, 28.079057541604243, 71.98741160546865, 42.41789379450555, 65.86864069954538, 51.99901432432488, 31.67691214308406, 37.824634603288295, 45.29846492747421, 87.43789088983212, 70.5040402960025, 26.53824226066922, 59.554818067537575, 74.00110659256259, 74.599743762927, 59.596206194532506, 31.23694696083613, 43.50966458243969, 74.45742076043638, 52.88501043548269, 73.01889085378403, 60.84043665334524, 46.99068252165278, 76.66646061476675, 25.433722333504036, 83.22715290939394, 40.198570701211246, 82.15187767766159, 88.07185044052954, 42.122659471170245, 69.59471866549782, 82.21569247518252, 28.85850022945926, 20.75377447538503, 36.86153882979283, 35.44633444248736, 93.9681345608154, 40.69943313074693, 19.712617695774696, 17.445235021154538, 38.58224884115932, 71.1696523985548, 69.79839056524224, 47.742231012861886, 37.75084164619354, 73.95063915481475, 37.78129026983742, 17.80728576786356, 52.12739619761165, 40.612292813879115, 32.08732755050902, 38.37415483469183, 44.810135084510314, 50.99834682288857, 82.16477338746859, 64.82673164169012, 40.626392451897125, 57.08847874104796, 85.12671223179504, 33.589367175292175, 37.97663513707386, 54.76440437320387, 73.66830054128644, 50.92740892107067, 40.22310014876914, 72.04350507815059, 92.45064479922729, 47.25771756895205, 68.71890977944614, 53.658680517827655, 72.84611922764955, 57.5520625837947, 75.98660230362049, 39.70221890512948, 46.796834723779234, 39.75253977230138, 60.09390848940122, 52.697540950788174, 29.03172350555981, 47.48246564043553, 63.19300343837727, 77.63532899377225, 73.64115862288546, 65.93139813943125, 47.30728615787901, 79.5044396925295, 56.18050760933021, 32.681396043574445, 25.325664353711353, 31.156030899444396, 42.3662224285467, 43.44449928613181, 71.74751847657032, 68.58325823128641, 17.370990414093725, 85.77687419754238, 56.425421065493616, 78.09876626594303, 40.72080244363786, 33.915196692847296, 78.97763927280386, 76.46413921380929, 15.227868134316175, 46.55829209366788, 44.62768592708087, 53.477728429761136, 70.37596350210586, 56.76475200052473, 30.347644144435414, 37.9623889284799, 47.915454288962444, 89.15710383183571, 80.95219548051074, 47.14374041307341, 90.08067167093438, 51.90250155555224, 16.239328568527583, 42.62944107679191, 89.29275537999541, 82.18022352427357, 48.542290735362876, 32.26130310485453, 79.39136138547173, 60.76874647328241, 61.69808691789108, 86.36959219182083, 56.0053281267737, 29.66898976150015, 68.71388945218104, 34.34818534137421, 45.11946904586363, 72.7789977248857, 30.51951692174901, 48.341319833192365, 46.687572815775546, 31.21939404699925, 64.70457402387942, 76.6226646313498, 68.90818890002063, 84.38214027430695, 38.178956538031336, 35.82173254896946, 60.484158512146244, 22.783818448104824, 37.88026893887716, 73.19271983755357, 84.45383045436981, 51.68030791106673, 71.53109743759484, 43.92203619632061, 82.76581841425505, 33.143482816958276, 71.24996275227755, 82.49637551053374, 72.01440695329364, 68.75768543559798, 41.760010503919226, 61.38268720987586, 41.07558351547396, 37.72826840509159, 54.79229856984977, 32.074431840702026, 59.76440914336798, 66.41470765513006, 74.82659461144237, 28.525694178183095, 28.959886754921023, 67.74622500138656, 51.64273618312587, 81.25334897993199, 49.16545735328521, 39.39851097871021, 60.36200089433557, 29.500933383240607, 40.67806381785599, 52.41445005901492, 15.48642957853152, 53.493031995990144, 49.142131833938315, 70.13621694378347, 31.169678887496353, 61.345115481935004, 30.2829304980936, 60.51460713579012, 84.06553663808072, 48.855224543111, 64.53847385207581, 44.21741709023187, 28.274255838264736, 86.64997459889318, 73.87849732478583, 40.73490208165587, 53.18932406957091, 45.640496860079246, 70.49812111991653, 83.8624629588783, 77.87522212267058, 55.7687417031183, 63.3527327841288, 57.63785240187554, 72.93872707063724, 52.70586798329615, 62.6023882211307, 52.02600967214989, 78.60224116632176, 74.12326421037326, 56.0053281267737, 14.751535152338391, 29.792497878097798, 86.29579923472608, 86.16531458440741, 50.74053765691817, 38.28566401903705, 32.917835896653905, 55.99820502247673, 27.284770424613257, 89.9876121779806, 70.27397126897509, 59.070304623627756, 36.49326382760773, 30.74441156380842, 64.08351018298899, 42.46850780282936, 51.29568392325577, 67.29066311175771, 65.86533399430249, 37.85889962598622, 39.86907135517799, 74.1679590426111, 33.250641947930056, 58.44713800570542, 56.36858280169373, 84.33046890834808, 73.50932347377983, 17.4376602668915, 81.5215879554423, 83.8023179898355, 54.33733490076293, 55.24786045947862, 32.24128429075055, 48.06730825217206, 44.68783089612368, 51.71457293376468, 20.637389463084354, 24.17855237134024, 18.412899471949018, 43.581208191926585, 57.22743699445059, 50.2699772804504, 45.14218885754152, 44.70920020901462, 26.56156778001612, 58.01414935717852, 62.45886129042906, 76.8178629280103, 40.865533302550496, 45.099596802335604, 78.69650458748657, 38.45282154847569, 52.69768752136411, 79.50774639777242, 28.04936119620531, 59.85034553202477, 59.83609932343082, 74.63139631478188, 44.31745311690667, 81.27471829282291, 62.08136040691509, 38.77654828899892, 50.50911813110378, 37.19659422867684, 18.616424801117496, 52.208312259003385, 63.28847078775305, 92.91408207139807, 93.81628059760578, 36.37943324230502, 18.86133825728089, 64.80415840058816, 81.34971517812869, 41.35671820079124, 69.99936146741277, 50.3792391884541, 81.636622468956, 79.09994346119049, 81.48536672628839, 45.97344948193135, 29.047173642364776, 61.76977709795393, 80.64653134763552, 73.8059082959021, 43.089571643719786, 44.15847604940007, 39.751335844090356, 66.81297963099297, 88.5786320461512, 70.18668438153134, 60.49840472074022, 67.39782224272949, 63.26604411722706, 45.278446113370215, 95.59233180340928, 40.64063866049107, 64.29295468824344, 33.09301537921042, 80.56179888718975, 73.81513417723099, 67.41341895011041, 49.10089027751935, 66.95906098869256, 69.23281448936476, 72.27417232572, 34.30559328616828, 50.65384899001642, 62.0663619200762, 41.09560232957792, 75.91611605176865, 66.05355575724195, 77.8447734990267, 65.93927352197318, 69.29738156513059, 47.56840202909232, 63.40230137305577, 57.147419781879755, 77.36709001826193, 61.88736603846561, 39.52201909530789, 76.0087238947564, 54.58300063517127, 56.99541924809417, 55.54384706105888, 81.95532888221413, 32.48619774691395, 76.0758453975202, 41.6889185443984, 81.60752434409909, 57.322452693860306, 69.85387833025518, 52.56038484613857, 36.451123422367864, 75.3524961823471, 83.19168395848499, 79.38423828117473, 54.84899026307371, 41.02526264830205, 34.90333160771181, 58.80206564811747, 28.561163129092044, 75.51102159988767, 31.082990220594603, 68.95865633776847, 85.22554433025883, 30.202014436701866, 15.443085245080646, 18.62354790541447, 50.12645034974877, 48.07322742825803, 62.046343105972205, 14.662292058438673, 59.856118137534786, 65.86878727012135, 70.8653387644666, 39.86059775209406, 48.2399333077306, 61.416805661997834, 63.317715483185914, 81.41307832568356, 33.91640062105832, 45.64641603616521, 80.82036033140508, 51.8308113754894, 52.69678867254323, 65.670135697642, 22.530577959433444, 44.224540194528835, 71.15344998350491, 37.61533666860979, 64.04804123208004, 73.66950446949744, 50.02566204482901, 61.38981031417283, 68.17786315112653, 41.72513977355228, 67.15290878656612, 79.65629365573912, 74.76067703688955, 40.48878469728145, 71.6687051922105, 49.66315964815393, 38.41539639111078, 59.942054526191605, 27.247198696672406, 73.21529307865555, 79.94073504629932, 53.4330335975233, 57.16286991868471, 76.08994503553822, 68.76345804110801, 56.51210973239535, 50.024458116618014, 79.62082470483017, 72.17218009258926, 82.22993868377645, 30.556942079113902, 39.56326065172684, 33.00587506234262, 43.27172765999733, 60.90439802144213, 67.83156316950135, 58.00702625288154, 27.153386925473683, 70.9441520488264, 51.20066822384603, 25.954603577143708, 68.02721311612791, 47.56127892479535, 46.59451332282176, 68.22255798336437, 53.57064135213897, 37.078858717589206, 56.90250632571634, 96.24384426794356, 39.34804354096237, 68.09057626368275, 79.96210435919025, 41.07497780780495, 31.408819738149724, 82.85887790720881, 31.19937523289527, 71.09796221849197, 36.37110620979703, 48.738839530810345, 37.02974177862831, 26.38181962016059, 46.85217591821621, 51.3744972076156, 72.7661020150787, 20.60769311768543, 46.44265935961214, 39.57023718544787, 36.76150280311801, 48.99875147381265, 33.68242666824596, 68.70601406963911, 76.21224922392486, 53.10353425149007, 16.153392179870778, 74.05990106281843, 63.51170985163541, 32.30509908827147, 40.87918129060244, 85.43694504196924, 40.12688052114839, 38.08956687355566, 85.0053068922293, 82.90934534495668, 54.45357334248765, 29.718704921003052, 40.51727711446937, 45.957999345126375, 54.387802338510774, 72.30266474290792, 38.69848728288404, 45.38785459194987, 93.12929918216255, 75.6925719084962, 62.392943715876264, 51.34735528921464, 18.31908770075028, 66.70506822177623, 60.42094193516734, 36.11921621991261, 31.40034613506578, 32.31889364689936, 48.86114371919698, 62.78971113524927, 65.31731083226185, 56.16505747252524, 40.78536951940372, 83.58710087907102, 35.65563237716588, 67.02377463503439, 81.38518412903764, 63.302118775805006, 35.82173254896946, 74.7102095991417, 42.065068929125424, 66.37923870422111, 46.700321955006594, 64.74671442911927, 52.908335954829575, 61.849794310524764, 44.10815518222818, 47.13661730877643, 35.87355048550426, 82.4471120009969, 48.47892758780804, 83.86898784263326, 72.75050530769778, 45.79826999937483, 35.05593784916638, 81.47824362199142, 33.4459868151665, 58.137657473776166, 18.65901685632342, 25.065300760742993, 93.97600994335733, 44.05964395093627, 25.492516803759877, 53.13885663182307, 38.30111415584202, 43.868262053329836, 79.81025039598063, 83.92582610643316, 31.71238109399301, 49.65603654385695, 59.86444517004278, 39.03781073078817, 69.11958961173104, 48.0306353730521, 58.31981349005371, 34.183289097781646, 47.11208786121852, 76.6226646313498, 33.73620081123672, 38.63969281262819, 52.78482783823191, 77.0063897703399, 60.09451419707022, 35.59953890448394, 73.6128127762735, 43.878691862869736, 30.694696404305525, 54.74183113210193, 21.996654435410818, 51.658186319930856, 46.058035371801175, 66.0923314133938, 65.45371465866648, 90.48651840106032, 56.541806077794284, 87.56717161193978, 37.078858717589206, 30.420684823285207, 71.1638797930448, 35.98978892722899, 41.49326859777184, 73.48795416088888, 41.71801666925531, 54.61846958608023, 83.6163455745039, 27.08244902365579, 70.4464497539577, 42.851634721277414, 21.98832740290284, 64.84810095458104, 40.4604388506695, 21.881619921897112, 46.18154348839885, 30.013939244338353, 68.95153323347151, 56.70138885296989, 35.468907683589315, 60.76543976803949, 24.104759414245493, 53.35407374258754, 74.1808547524181, 60.226349346175844, 54.72181231799794, 22.26489341092112, 33.03422090895457, 79.94650765180933, 67.32021288658069, 90.27586996759487, 24.50438188889536, 43.35646012044311, 33.47298216299151, 45.914508441099564, 47.72025599230195, 44.82288422374136, 60.33365504772359, 64.23416021798761, 79.96210435919025, 72.85991378627745, 16.831294284561096, 26.013398047399548, 42.101436728855255, 69.25614000871164, 57.783482109609075, 56.25099386118203, 30.794732430980325, 94.34308101733143, 23.015237973919213, 41.039508856896, 55.457304964733076, 80.055916130389, 86.91063882014043, 41.55708339529274, 63.423670685946696, 60.63676475360082, 75.21488842773147, 39.71511461493646, 69.41376657743129, 52.0757248316528, 20.045423747050847, 81.83317126440343, 50.1923679243016, 60.00917602895543, 71.63900884681158, 44.73829833387152, 82.22356785772442, 58.252691987289886, 60.60054352444691, 42.75084641635765, 84.96061205999146, 24.486828975058494, 64.96313546809475, 75.59103881245849, 22.92142620272049, 49.438716656060585, 42.801313854105494, 55.55809326965284, 20.825464655447867, 74.82449183441048, 33.56934836118821, 40.46680967672153, 74.24812282575789, 30.92401315308799, 38.30688676135204, 58.07871643294437, 64.53029339014378, 40.45391396691452, 29.88420687226462, 65.13119184635428, 57.28367703770845, 61.77690020225091, 36.47324501350375, 69.63851464891476, 83.57877384656305, 70.6216292365142, 35.57816959159302, 38.79275070404882, 49.106662883029365, 47.15678269345636, 37.17447263754095, 67.7319787927926, 57.43688149970503, 45.754779095348006, 66.48970454043581, 69.56547397006494, 81.8965344119583, 66.35921989011712, 63.04355733158966, 46.75926299583839, 60.65813406649176, 29.032927433770816, 40.411321911708605, 87.69900676104544, 58.187226062703125, 52.98700266861345, 85.5733488683739, 53.02457439655431, 28.915338493259128, 92.45064479922729, 44.79499002709546, 43.01773489308099, 23.49081867765205, 62.01679333114922, 32.327220679407354, 77.12869395872656, 64.16247003792475, 23.425653381344176, 48.948284036064784, 76.20377562084093, 51.035771980253465, 78.21319507178777, 39.96198427755582, 67.42827086637337, 78.92927461208791, 78.14015439293794, 72.18958643585017, 46.1089544595151, 43.667896858828335, 59.351292738369104, 66.66037338953839, 27.233099058654396, 75.55496415388055, 30.91703661936696, 52.48809644553372, 72.92568479025431, 60.10876040566418, 30.889894700966018, 75.11350190226969, 76.73192653935351, 23.938805813017865, 70.46992184388051, 55.61493153345271, 19.295079184052746, 56.68728921495188, 45.93722825277745, 73.1990906636056, 52.87909125939671, 32.066104808194034, 43.096694748016766, 74.15296055577221, 37.4977477280981, 65.4052034273746, 77.23795586673023, 85.65471657973168, 62.52844869346, 42.5401979828922, 80.1114038954019, 66.60292941806952, 44.22318969574187, 84.67235427037718, 59.49617016785769, 27.978874944353485, 61.51833875803556, 35.98070961647604, 42.90149645135627, 81.60752434409909, 65.00647980154562, 55.43458515305519, 35.66410598024981, 48.824775919467136, 37.54033978330404, 24.046717222234598, 66.95073395618459, 70.0710516474756, 83.40690106924944, 72.31113834599188, 45.13371525445759, 65.31806311050678, 75.6557524588003, 86.47810182157957, 55.00796733058032, 59.705468102536194, 77.9094871453685, 72.93160396634028, 69.6386612194907, 57.76136051847319, 94.46779306214009, 53.06731302233617, 83.57300124105302, 68.26455181802825, 53.95391484116298, 80.81323722710809, 82.74249289490814, 25.732263362082257, 30.853526901236172, 51.83095794606533, 79.13159601304537, 68.12117145790259, 49.88093118591636, 82.34497319729019, 71.02627203842914, 87.74947419879328, 18.862090535525837, 57.60373394975354, 36.87578503838679, 51.4134194343434, 56.45451919035053, 79.69386538367996, 52.155436964833505, 70.83819684606561, 74.97012154214403, 58.93967340273311, 35.09988040315927, 60.27621107625472, 48.13899843223489, 74.26934556807288, 45.82084324047678, 62.500102846848044, 86.03799006875568, 30.006816140041373, 54.37265728109592, 84.37381324179898, 69.36450306789445, 74.02112540666656, 75.87232006835171, 85.66183968402865, 28.879869542350193, 85.40649641832536, 77.3025229424961, 43.392681349597005, 73.6107099992416, 33.77166976214567, 44.88684559183823, 36.075725315885784, 37.0509645209433, 63.71523518080388, 54.13501349980546, 51.23111684748991, 79.92528490949434, 81.35683828242566, 60.550222657275036, 22.406317564590836, 79.64992282968709, 83.94202852148308, 70.53238614261448, 43.20460615723348, 46.693345421285564, 42.043846186810434, 78.1556045297429, 44.8151554117754, 56.35358431485482, 67.19550084177203, 25.3135209221493, 46.13805258437201, 83.3118853698397, 82.84965202587992, 43.05395612223489, 31.935473587299406, 80.27233716936445, 65.95472365877814, 60.57340160604597, 45.032328728995815, 36.372310138008054, 33.235338381701034, 27.35570832643115, 17.30762726653888, 59.105627003960755, 81.47112051769446, 52.93547787323053, 92.4932368544332, 72.95297327923123, 76.06737179443627, 23.07282851596404, 82.35074580280019, 75.90854129750562, 51.55544929568213, 79.91816180519737, 83.78109524752051, 34.37728346623113, 50.1690424049547, 52.236804676191305, 66.99332601139051, 90.88981070418828, 39.87484396068802, 42.11418586808632, 68.54689043155656, 81.5344836652493, 43.66092032510729, 72.33190943834077, 64.03259109527505, 54.71970954096603, 44.845604035419264, 77.40982864404384, 64.58894128982368, 81.41944915173556, 37.75796475049052, 34.991224202824576, 69.20432207217684, 64.90554492604991, 64.16111953913779, 30.166545485792923, 16.824923458509062, 61.07702307700067, 70.5479828499954, 44.266985679158815, 62.78971113524927, 37.84479998796822, 80.87840252341599, 89.71360059696028, 49.62693841900005, 26.242861366757978, 48.428008500094116, 79.95498125489326, 48.088079344520985, 71.87088002259202, 96.78609482447416, 17.523596655548296, 48.327220195174355, 66.65325028524143, 87.25056797571355, 89.45248472574696, 63.69963847342296, 77.3684405170489, 72.57877910096013, 70.95839825742036, 43.9432589386356, 49.25154031251797, 45.89965652483661, 78.94352082068187, 42.729623674042664, 51.32613254689965, 24.033069234182655, 55.53109792182783, 49.259867345025945, 38.082443769258695, 63.23755170003914, 80.6122663249376, 75.1560939574756, 79.71006779872988, 32.50621656101793, 69.65853346301873, 56.318115363945886, 54.69136369435406, 68.02600918791688, 52.64842401182727, 88.1456433976243, 69.33615722128246, 57.603587379177604, 43.34341784006016, 28.793933153693395, 76.06872229322323, 33.80001560875764, 72.18838250763915, 34.2337565355295, 39.52112024648698, 34.14084361315167, 73.78333505480015, 63.316511554974916, 53.643682030988764, 49.801971330980614, 36.35686000120308, 85.40072381281536, 68.53414129232553, 48.44345863689909, 66.68174270242935, 73.64693122839549, 27.21810057181549, 73.76331624069616, 77.13656934126845, 55.473507379782994, 56.43194594924858, 50.34166746051324, 60.92637304200205, 62.954314237689935, 34.182085169570634, 38.47284036257968, 65.46294053999537, 51.615594264724926, 51.44176528095536, 26.141926491262268, 56.996769746881135, 46.233214854357705, 46.37021690130437, 41.86852013367797, 43.82702049691088, 67.00862957761953, 59.51618898196167, 73.16347514212072, 53.137652703612055, 66.61823298429854, 63.71388468201693, 49.21517251278812, 39.19041697224274, 72.15201470790933, 72.7732251193757, 61.27919790738219, 74.9680187651121, 49.99731619821704, 43.83414360120785, 54.706813831159046, 59.856118137534786, 51.12973032202813, 38.08971344413161, 56.8158176588146, 57.63072929757856, 50.103271400977825, 73.74088957017017, 60.17602847900395, 80.87840252341599, 25.999298409381538, 25.68771510042037, 59.55151136229467, 33.3367249071628, 50.949982162172624, 63.57748085561227, 55.80510950284815, 63.51989031356744, 42.45546552244641, 35.605311509993975, 53.724451521804546, 20.9689915861495, 62.67407840119355, 30.007714988862276, 72.10956922327935, 90.33466443785068, 41.559039601748715, 20.16105648110657, 16.887534327818962, 47.394426474746815, 85.42786573121631, 62.096810543720046, 53.98361118656191, 82.1555475061397, 88.84687102166151, 53.744470335908524, 21.64172679299879, 47.70615635428394, 40.48998862549248, 76.21224922392486, 74.48576660704833, 80.26401013685646, 77.8505461045367, 82.50259976600981, 61.5460863841055, 32.17536671619772, 61.302669997305024, 58.166003320388135, 75.1773166997906, 33.128032680153304, 62.74576858125638, 56.01440743752665, 84.61491029890831, 72.41904975520859, 74.06004763339436, 73.17074481699365, 31.761644603529852, 56.56243059956726, 78.91502840349395, 63.52003688414339, 51.14503388825717, 40.33617845582689, 22.40706984283579, 53.905550180447015, 25.650143372479512, 87.06039000631816, 75.35841535843309, 60.90425145086618, 66.29450624377532, 39.30545148575644, 39.08813159796008, 42.722500569745684, 81.26759518852595, 75.81337902751994, 44.7666441804835, 91.07923639533877, 76.29226643649571, 62.77411442786836, 43.914160813778686, 89.54097554140174, 78.4517377018991, 83.5070836665002, 73.15514810961272, 83.1741310446481, 61.92373383819545, 83.36235280758757, 54.995071620773324, 51.83095794606533, 68.51156805122358, 73.40201777223209, 82.56349701329756, 47.73315170210895, 78.4729604442141, 22.644860194702204, 33.20107335900311, 67.03667034484138, 39.009318313600254, 62.49433024133801, 52.625850770725314, 19.45982885706937, 85.62306402787681, 34.52336482393073, 82.18599612978358, 87.44366349534215, 55.817252934410185, 51.55544929568213, 84.57733857096744, 75.6345297164853, 89.5609943555057, 30.33144172938548, 21.715519750093534, 63.75722901546779, 61.280548406169125, 56.27221660349705, 21.930736860858005, 47.38955271805769, 61.39678684789387, 58.6635590446809, 43.02350749859101, 49.30321167847682, 53.3845223662314, 37.08733232067315, 51.78626311382751, 78.34247579389543, 39.45610152075506, 69.81826280877027, 74.88418515348721, 66.78388150613605, 61.307543753994146, 35.41131714154448, 72.90948237520439, 61.66261796698215, 54.51873863879553, 86.79425380783974, 73.46793534678491, 45.113696440353614, 50.42197781423598, 43.78352959288406, 45.011105986680825, 42.742519383849675, 39.679645664027525, 34.15419097292473, 39.854072868339095, 65.04405152948647, 56.34525728234684, 64.84675045579408, 49.09878750048744, 53.3845223662314, 41.28307181427245, 66.74128945093011, 55.28408168863252, 59.65500066478834, 55.52307596870995, 58.80918875241445, 69.13960842583504, 81.97077901901912, 33.46008645318451, 44.48430556695519, 28.51781879564117, 40.91600074029835, 41.04648539061704, 62.22729519403875, 63.72933481882189, 26.647504168672917, 89.26440953338343, 34.428954832189994, 50.31332161390127, 92.82102257844429, 46.90399385475103, 46.433580048859206, 51.39084619324145, 55.5361182490929, 62.550570284595885, 71.88377573239902, 29.769172358750907, 48.3046469540724, 38.4315988061607, 54.61134648178324, 70.8582156601696, 30.317195520791522, 80.52512600806978, 25.999298409381538, 67.29763964547874, 78.48720665280806, 85.98631870279684, 17.36717401503966, 50.110394505274805, 80.03379453925308, 43.78367616346001, 65.86031366703739, 21.590807705284867, 34.86073955250588, 56.33813417804988, 92.54370429218108, 46.00891843284028, 38.22717462817132, 37.107351134777126, 42.44121931385245, 86.54146496913444, 37.809782687025326, 68.06237698764673, 67.21897293169488, 68.62007768098232, 61.0489823097788, 45.34451025849899, 43.284769940380265, 70.95323135957935, 31.45914060532163, 37.699922558479635, 46.09470825092114, 61.18036580891839, 72.5190857818834, 47.37320373243184, 69.0964106629601, 35.4677037553783, 46.233214854357705, 54.28672089243913, 52.950781439459554, 40.19475430215716, 28.41763619839041, 37.47562613696221, 44.29743430280269, 70.7360580423589, 54.94415253305939, 39.42820732410916, 70.44659632453363, 25.499639908056857, 57.35671771655826, 76.78876480315341, 41.42855495143002, 73.38716585596913, 30.39721273336236, 55.16072014261082, 47.80694465920369, 65.224397909884, 31.154680400657433, 76.97669342494095, 42.91634836761923, 45.905429130346626, 44.37504365895149, 32.29099945025346, 86.20986284606929, 63.98212365752722, 81.23333016582802, 75.87217349777578, 55.20451612602776, 86.92473845815843, 20.724078129986097, 78.9504973544029, 65.70193482007281, 57.77681065527816, 30.03726476368525, 80.72865133723826, 14.982202399907827, 61.453625111693746, 32.89781708254993, 23.244701293277643, 15.372598993228813, 45.87116410764869, 30.81108141660618, 68.51869115552054, 60.35000403334946, 39.18696369642387, 24.588967778765202, 32.00018723364122, 20.029221332000922, 60.02297058758332, 57.56024304572673, 84.01506920033287, 65.37490137430666, 73.6185853817835, 58.43424229589842, 80.93599306546082, 23.82242080071719, 71.78494363393523, 58.47744005877336, 27.01712966964498, 67.79654586855847, 32.92706177798279, 46.788361120695306, 72.98266962463015, 53.38331843802039, 45.43817545912177, 74.80206516388449, 31.951070294680328, 72.42025368341962, 34.21830639872453, 36.276842788632244, 30.757307273615417, 65.05117463378346, 64.14822382933082, 65.43946845007255, 81.23333016582802, 35.61243461429094, 36.769829835626005, 79.51988982933446, 35.844305790071395, 32.76598193344429, 65.7866672805186, 70.07742247352763, 67.41417122835537, 46.629982273730725, 38.36372502515193, 70.6133022040062, 59.29370219632427, 31.034625559878656, 42.65643642461692, 67.98476763149793, 47.48246564043553, 49.424617018042575, 78.50205856907101, 85.17005656524591, 71.5438465768259, 38.133057777582486, 72.12366886129735, 46.06650897488512, 33.97278723489213, 92.39440475596942, 79.30924139586901, 50.06067934577191, 71.4288120633122, 45.314667342524125, 76.27681629969072, 67.28991083351278, 44.53597693291406, 59.6112046813714, 31.55355059706236, 53.290710595032685, 21.67929852093964, 73.11195034673781, 19.61955820282091, 64.61608320822464, 56.51346023118233, 59.03393682389791, 77.55651570941242, 48.89009527347795, 74.81736873011351, 30.014691522583306, 45.03367922778278, 37.649455120731766, 45.15628849555953, 36.709831437159146, 65.23002394481807, 46.70759162987954, 58.12265898693726, 38.14850791438746, 60.846355829431225, 45.95920327333737, 53.12475699380504, 32.72338987823836, 63.416547581649716, 42.29663502551575, 39.0514587188401, 39.28347646519652, 55.334549126380374, 80.82171083019202, 64.42800801586114, 68.27287885053627, 65.02919961322351, 29.53003150809753, 71.68295140080446, 60.917899438918106, 70.4464497539577, 77.01426515288182, 67.53678049613211, 77.79430606127886, 67.9059543471381, 28.599938785243914, 86.07225509145363, 18.65901685632342, 27.790799751989965, 56.69822871830292, 71.37924347438522, 46.51434953967499, 58.77282095268459, 80.63940824333855, 85.03942534435126, 59.11154618004671, 63.273919499768986, 79.0152110007447, 62.74501630301143, 53.941019131355965, 56.08624418816543, 64.47982595239594, 50.64747816396439, 68.28014852540917, 52.39308074612398, 43.96327775273958, 68.30002076893723, 62.536470646577875, 45.76325269843195, 70.98870031048827, 43.55863495082463, 72.73640566967978, 55.98410538445872, 54.192457471274345, 53.435136374555206, 53.84465293315929, 85.32191052845553, 60.99806322206489, 36.86168540036876, 61.33101584391701, 50.11812331724078, 62.270786098065564, 24.091412054472435, 74.8335711451634, 66.11932676121882, 57.595260346669626, 38.43737141167073, 25.3135209221493, 19.337671239258675, 32.521068477280885, 81.26879911673697, 29.53062972863954, 33.950665643756246, 52.68464524098116, 71.94136627444385, 37.89436857689517, 26.445182767715444, 53.80341137674031, 41.48734942168587, 51.354624964087556, 28.013139967051423, 32.65807052422755, 75.93823764290454, 82.66232911176138, 76.50036044296317, 64.11987798271883, 37.13067665412401, 30.218363422327734, 55.406837526985235, 21.051111575752238, 59.54573875678465, 92.27801974366875, 37.355424725607485, 59.13989202665869, 62.883522906448, 83.15411223054411, 56.76610249931169, 70.00768849992073, 87.33650436437037, 89.9804890736836, 47.14374041307341, 50.39468932525906, 44.91137503939614, 38.15638329692937, 52.61099885446236, 45.82069666990083, 51.80171325063248, 47.632969104858184, 22.45678500233869, 91.54057089047762, 57.69664687213139, 35.34660349520268, 47.23559597781617, 14.685617577785571, 44.181195861077974, 37.13188058233501, 49.11513648611331, 66.95058738560863, 81.55585297814022, 48.0318393012631, 44.82303079431731, 35.576819092806055, 58.411522484220534, 36.052546367114836, 46.664999574673594, 57.09770462237683, 45.756881872379914, 46.62165524122273, 39.60795548396468, 54.894889023522545, 29.226921802220303, 24.092615982683434, 67.42706693816237, 60.153455237902, 93.51969577548354, 74.31846250703376, 80.37949630033626, 49.61269221040609, 54.73470802780495, 61.82992206699674, 82.45303117708286, 36.01813477384095, 45.95724706688143, 30.10910151432404, 41.74515858765627, 55.00174307510422, 34.55125902057663, 64.63880301990253, 77.73761436805492, 54.01997898629174, 56.59939661983913, 18.737378490717177, 44.88804952004923, 21.64884989729576, 18.326210805047268, 76.60054304021395, 76.52308025464109, 42.156777923292246, 43.29309697288826, 55.12645511991287, 57.3709639251522, 47.26394182442814, 33.64816164554802, 23.179987646935835, 86.3688399135759, 69.5868432829559, 48.537416978673754, 40.51727711446937, 57.0380113033001, 52.40020385042096, 48.65867574766356, 65.33351324731177, 51.42751907236141, 79.24542659834808, 37.398016780813414, 53.572597558594914, 51.268542004854815, 74.80206516388449, 49.58419979321817, 26.47428089257236, 22.624841380598227, 25.954603577143708, 67.0224241362474, 45.279344962191125, 19.950408047641112, 39.41275718730419, 44.6702779822868, 40.61941591817608, 66.79933164294101, 32.15204119685084, 71.06751359484812, 27.96267252930356, 80.27023439233255, 71.59686844157173, 68.04145932472187, 32.58713262240965, 67.27776740195071, 40.842960061448544, 31.503083159314507, 71.71204952566137, 52.154538116012624, 79.62915173733813, 53.384668936807365, 76.90635374366508, 47.76495082453979, 62.55192078338286, 40.17720138832029, 51.98146141048799, 48.50104917894392, 27.159306101559643, 81.73815556499372, 64.57986197907076, 72.36858231746075, 77.12869395872656, 50.28542741725537, 74.89116168720824, 78.73287238721639, 54.24547933602016, 58.529257995308164, 72.39190783680763, 34.746908967203176, 53.173121654521005, 58.97514235364206, 55.99955552126368, 47.77072343004979, 83.86321523712326, 47.59809837449125, 28.113175993726223, 66.61898526254348, 48.327220195174355, 42.36697470679163, 54.28109485750506, 73.60568967197653, 47.16375922717739, 81.4699165894834, 84.88757138114164, 35.73579616031265, 89.7924138813201, 58.411522484220534, 36.49461432639469, 65.59132241328217, 54.86654317691059, 43.6459218382684, 60.63023986984586, 72.37068509449264, 61.17901531013141, 21.012335919600375, 27.233099058654396, 46.22413554360477, 68.19998474226242, 19.279629047247788, 65.65723998783497, 47.605973757033176, 58.11051555537522, 71.52262383451088, 59.335090323319186, 44.20939513711398, 67.58724793387995, 40.72792554793485, 45.88541031624265, 29.906780113366565, 48.48694954092591, 39.8457458358311, 49.591469468091084, 81.35353157718276, 86.26033028381713, 38.33658310675096, 74.22465073583504, 76.8707382221802, 56.35448316367572, 93.08595484871168, 38.256419323604185, 35.18777299827203, 69.44211242404324, 62.904745648762976, 88.1456433976243, 45.82736812423175, 45.25010026675826, 64.58908786039964, 53.601089975782834, 70.43355404415067, 39.8598454738491, 63.78572143265571, 67.4340434718834, 75.56073675939055, 66.30162934807231, 32.434379810379134, 35.46755718480235, 92.10359253935715, 17.374297119336653, 37.663701329325725, 81.7013361152978, 58.27391472960486, 60.376999381174464, 60.78284611130042, 29.90542961457961, 26.21451552014601, 45.857064469630664, 21.85192357649818, 64.77506027573125, 60.01494863446546, 41.782730315597114, 65.4782441062244, 37.73539150938857, 84.6116035936654, 53.14597973612003, 50.885268515830795, 68.79390666475186, 68.09057626368275, 75.84382765116382, 80.06214038586506, 35.946591164354054, 66.5603373628636, 87.08371552566504, 46.5051236583461, 70.36186386408784, 86.42507995683377, 72.41904975520859, 38.184582572965404, 61.04065527727082, 40.57607158472522, 40.11248774197848, 72.68016562642191, 44.022072222995426, 47.64721531345214, 76.79649361511937, 33.20729761447918, 17.783960248516664, 33.03422090895457, 18.6661399606204, 35.28795559552278, 43.249300989471315, 46.29582572366761, 24.083536671930503, 50.79100509466601, 75.13487121516064, 27.847039795247845, 48.33509557771628, 46.92019626980095, 42.050969291107414, 41.91898757142582, 89.25016332478947, 45.647619964376226, 58.85163423704443, 44.808032307478406, 18.45549152715494, 17.800162663566574, 28.51144796958915, 22.48723362598257, 41.48599892289891, 96.30976184249639, 25.67346889182641, 58.44713800570542, 20.875932093195722, 34.79025330065405, 33.54812561887322, 65.74392865473672, 42.36697470679163, 66.11370072628472, 80.64773527584654, 22.631964484895207, 64.89144528803192, 42.844511616980434, 89.74906954786923, 55.98410538445872, 87.66218731134953, 55.2912047929295, 48.54364123414985, 42.08643824201635, 49.085440140714375, 89.16422693613268, 36.43581985613884, 55.507772402480946, 26.532323084583254, 30.75138809752945, 17.77758942246463, 40.20765001196417, 56.814467160027654, 35.65488009892092, 70.98870031048827, 91.63438266167637, 76.4570161095123, 70.67846750031407, 66.7567395877351, 55.559443768439785, 88.13776801508237, 31.364877184156846, 46.57831090777186, 85.43694504196924, 43.79140497542598, 75.16442098998363, 20.131360135707645, 44.57024195561198, 39.1690476593518, 51.47011112756734, 31.63115995321116, 71.83420714347207, 32.362689630316304, 30.483149122019164, 68.81392547885585, 22.854304699956657, 54.03985122981978, 77.37421312255893, 75.23821394707835, 80.20064698930162, 34.83149485707303, 38.21307499015332, 73.87759847596493, 65.58630208601707, 31.654485472558058, 53.31148168738161, 78.02376938063728, 56.34525728234684, 65.07374787488541, 37.253285921900776, 40.943748366368304, 23.144518696026886, 37.82267839683234, 78.63148586175464, 18.210578070991538, 63.51156328105946, 57.51569478406484, 32.52241897606785, 47.81406776350067, 17.913993248869282, 80.9793373989117, 63.8081481031817, 69.06581546874025, 57.17772183494767, 25.471147490868944, 63.82119038356466, 50.84057368359297, 63.26012494114109, 51.28278821344876, 56.47588850324146, 77.15066897928648, 47.00492873024674, 72.51406545461833, 33.99400997720712, 19.14322522084312, 62.70362817601653, 54.170482450714395, 58.622170917685985, 32.28252584716952, 23.498694060193976, 56.121713139074366, 57.13317357328578, 72.31691095150188, 75.59103881245849, 56.63351507196111, 60.14437592714908, 62.32627386307848, 49.25972077445001, 33.21517299702111, 61.79445311608779, 67.3130897822837, 65.20302859699308, 71.58262223297774, 32.6226015733186, 69.03882012091526, 25.860791805944977, 73.92821248428874, 21.296025031915633, 83.94915162578005, 59.06955234538281, 74.51366080369425, 35.7371466590996, 29.799474411818828, 67.76032463940459, 23.138746090516868, 78.42961611076322, 38.56920656077637, 72.5133131763734, 75.8877702051567, 60.56522114411393, 46.78956504890632, 81.34775897167273, 62.12515639033203, 64.70457402387942, 41.20425852991263, 41.49326859777184, 71.7190260593824, 55.81208603656918, 56.16626140073627, 56.06989520253958, 23.838623215767115, 51.34750185979059, 31.24392349455716, 66.82055438525603, 20.277441493407245, 87.72810488590235, 74.10916457235527, 71.57233899401382, 36.299416029734196, 70.82395063747165, 25.066651259529948, 28.995355705829965, 34.31271639046526, 91.56389640982454, 54.85625993794664, 36.422777575755894, 47.99516642214315, 36.52873277851668, 43.26340062748934, 77.70124656832508, 44.57024195561198, 83.45024540270032, 66.64035457543443, 75.6428567489933, 31.43791786300664, 65.72390984063276, 47.79404894939669, 35.98070961647604, 65.02919961322351, 40.72867782617978, 76.13920854507506, 58.926777692926116, 26.20739241584903, 33.97399116310314, 61.452421183482734, 75.45478155662977, 63.489588260499524, 34.52336482393073, 38.91370439364851, 53.09626457661714, 80.38872218166512, 74.15250890580612, 38.01922719227978, 17.53904679235326, 58.17433035289613, 58.398626774413536, 54.71970954096603, 63.554155336265374, 46.319151243014495, 79.83859624259262, 28.822279000305357, 78.04709489998416, 80.25809096077052, 58.31283695633268, 21.31604384601961, 69.146731530132, 29.892533904772613, 74.86206356235132, 66.2663069677393, 77.95193262999848, 69.42801278602525, 59.40813100216899, 53.505927705797156, 76.25559355737573, 52.17074053106253, 33.04711661876157, 43.25762802197931, 33.45175942067652, 24.711723617117904, 31.697829806008933, 68.2295345170854, 40.86508165258444, 42.2958827472708, 52.54628520812056, 48.954056641574816, 54.9582521710774, 72.42040025399555, 49.8369886319235, 25.190012805551653, 45.62549837324034, 39.45595495017911, 23.24590522148865, 74.88995775899724, 44.013745190487434, 89.17847314472664, 71.45078708387211, 61.316769635323034, 34.507768116549805, 75.5335948409896, 38.711529563266986, 69.133835820325, 35.237341587198976, 49.692855993552875, 32.520462769611875, 67.95642178488595, 64.9716090711787, 60.92637304200205, 57.494472041749866, 65.64299377924101, 39.362143178980396, 40.37375018376775, 94.18335167157989, 76.89210753507112, 75.10562651972776, 32.15204119685084, 78.897622060233, 24.236142913385066, 51.25946269410188, 43.760956351782106, 43.16246575199363, 78.05286750549419, 85.75489917698243, 71.01719272767622, 78.30821077119748, 22.31460857042402, 35.7712651112216, 56.10867085869143, 45.69943790091103, 34.57383226167858, 56.541806077794284, 41.26305300016846, 51.628489974531924, 63.88118878203152, 80.53014633533485, 65.20302859699308, 72.57788025213924, 32.28267241774547, 69.68200555294158, 44.39761690005344, 77.21538262562828, 47.92849656934539, 46.55694159488092, 32.50029738493196, 73.95153800363562, 32.795678278843205, 30.014691522583306, 38.39402707821986, 44.91864471426906, 90.81812052412545, 59.91491260779063, 76.53080906660705, 81.39110330512361, 55.82633224516314, 44.20939513711398, 71.32742553785042, 23.46112233225312, 66.19236744006861, 39.57023718544787, 31.242719566346146, 24.2290198090881, 74.14583745147524, 35.114732319422224, 27.920080474097638, 52.83439642715887, 77.12869395872656, 37.08733232067315, 34.40577588341905, 32.38391237263129, 19.958735080149097, 35.0571417773774, 38.00377705547482, 70.77362977029978, 87.5962697367967, 41.16151990413075, 34.71856312059122, 36.27804671684326, 49.99731619821704, 27.515437672182706, 62.84017857299714, 66.82010273528994, 32.50044395550791, 20.731201234283084, 37.96103842969294, 75.24203034613242, 55.031439420503155, 69.16232823751292, 59.285375163816276, 19.344794343555655, 24.75506795056878, 59.2141366337195, 42.0850877432294, 16.195984235076708, 35.44678609245343, 69.8396321216612, 33.360050426509694, 48.34844293748936, 87.66218731134953, 47.395178752991775, 87.71190247085244, 70.323088207936, 50.03990825342296, 21.851171298253234, 27.8987111612067, 35.75004236890661, 73.8059082959021, 67.95431900785405, 71.77782052963823, 27.595601455329472, 42.71327468841681, 45.3948311256709, 75.1503213519656, 30.07985681889118, 83.10244086458525, 46.196993625203795, 72.58575563468116, 73.03419442001305, 62.60163594288576, 67.69440706485176, 74.52911094049921, 82.64110636944636, 73.77635852107912, 75.13607514337164, 71.50762534767199, 41.31352043791632, 75.98870508065241, 27.42829735531489, 66.80720702548294, 81.60752434409909, 62.04499260718526, 73.6199358805705, 85.98631870279684, 29.81161784338088, 36.9650281322865, 20.6381417413293, 48.58698556760073, 39.25378011979759, 80.59681618813264, 74.3548303067636, 75.83685111744279, 66.81297963099297, 64.35054523028828, 26.141926491262268, 35.02683972430946, 18.702361189774294, 49.62769069724498, 49.58555029200513, 60.52885334438408, 75.41600590047793, 73.33624676825522, 54.97264495024731, 53.087185265864214, 38.94917334455746, 21.288901927618653, 77.53454068885247, 88.73760911365781, 37.97648856649791, 61.77825070103787, 43.59425047230953, 75.09273080992077, 31.98729152383421, 37.151899396439, 41.283677521941435, 26.199517033307103, 62.70242424780552, 63.44107702920763, 62.674530051159614, 68.19286163796542, 59.49602359728174, 62.739995975746375, 26.894373831292278, 60.89015181284815, 70.90853652734148, 70.74183064786894, 63.590376565419255, 31.618117672828227, 46.118180340843985, 86.52144615503045, 77.00001894428786, 48.98570919342969, 77.53529296709743, 48.99995540202365, 59.82777229092283, 29.618522323752295, 34.96408228442362, 45.633520326358216, 72.51286152640733, 65.3336598178877, 84.80088271423992, 46.49237451911505, 43.667896858828335, 52.91410856033959, 74.08006644749835, 25.107892815948908, 77.41103257225484, 82.19311923408057, 76.04419284566532, 27.717759073140172, 42.722353999169734, 71.39334311240322, 70.99005080927523, 91.05666315423682, 78.68105445068159, 63.4973170724655, 35.93219838518416, 53.948142235652945, 90.18205819639613, 51.74502155740854, 51.621366870234944, 57.80590878013506, 32.74596311934031, 36.60387623439838, 17.92156800313232, 90.50653721516429, 27.20385436322153, 46.132279978861995, 73.7349703940842, 41.551916497451735, 83.86201130891223, 66.4510754548599, 58.62231748826192, 50.04763706538895, 55.342876158888366, 58.69280374011378, 37.99073477509187, 63.95287896209435, 47.43079427447666, 87.79071575521226, 51.02302284102242, 71.69659938885641, 90.7838555014275, 54.73395574956, 59.784281386896005, 24.04806772102156, 86.29714973351304, 33.73409803420481, 41.95655929936668, 75.30870019893018, 54.59845077197624, 43.3647871529511, 23.159968832831858, 44.967615082654014, 48.36479192311521, 43.26129785045742, 29.935125959978535, 48.450728311772004, 37.115678167285104, 26.127826853244265, 43.79852807972296, 40.662007973382025, 66.77675840183906, 32.695495681592455, 44.65040573875877, 83.00360876612146, 32.63670121133662, 25.190012805551653, 63.61505258355313, 20.045423747050847, 66.86404528928284, 72.72215946108582, 71.26998156638152, 28.51902272385218, 27.934180112115655, 17.64043331781503, 54.83624112384266, 36.22060274537437, 82.65520600746439, 54.98674458826532, 63.316364984398966, 58.12843159244728, 78.7702975445813, 44.07058345428731, 63.82816691728569, 83.79654538432547, 70.83107374176865, 30.123201152342048, 46.708795558090536, 86.46265168477461, 62.13895094895992, 51.06501667568633, 29.43044713138878, 53.63520842790482, 78.97186666729382, 34.024458600851, 39.002195209303274, 57.140296677582775, 74.09626886254827, 86.34626667247394, 72.83201958963153, 41.039508856896, 39.33379733236841, 13.667034039277183, 25.385211102212146, 41.68832032385638, 44.88302919278417, 63.67976622989493, 23.417777998802244, 65.13133841693025, 18.86846136157787, 41.15454337040972, 40.37375018376775, 56.64259438271406, 39.998352077285666, 43.77640648858708, 46.962788325006876, 52.11329655959363, 71.51685122900088, 63.583400031698226, 22.066388409017705, 72.06622488982845, 38.6894079721311, 71.10373482400198, 23.47536854084708, 40.0571465475415, 36.36398310550006, 27.963424807548506, 78.6398128942626, 49.97594688532612, 74.49243806137926, 63.83874329740154, 28.78089087331044, 27.903878059047727, 54.87246235299656, 62.35537198793539, 76.6381147681548, 81.44277467108245, 62.399920249597294, 63.00613217422475, 58.50472854775027, 29.00323108837189, 29.103413685622648, 27.148366598208604, 91.24398606835538, 61.365134296038995, 79.37013864315674, 63.894983340659415, 63.21422618069226, 76.06872229322323, 70.60542682146428, 45.27132300907325, 92.15330769886009, 87.45078659963914, 43.98599756441748, 68.09980214501164, 74.17373164812113, 31.40034613506578, 80.12685403220686, 58.54335763332619, 35.17232286146706, 43.73185822692519, 51.368724602105566, 51.15215699255415, 73.3283713857133, 52.45187521637981, 28.591611752735915, 59.35961977087708, 41.82592807847204, 53.5713936303839, 50.053556241474915, 70.5770809748523, 56.52043676490336, 38.75532554668393, 75.43722864279292, 90.14658924548718, 70.01346110543076, 80.37949630033626, 66.5827640333896, 53.46468614937819, 47.287267343775035, 64.95736286258474, 45.80539310367181, 40.41694794664267, 39.42093764923623, 90.69461240752779, 92.76222810818845, 26.58991362662809, 35.72881962659162, 76.63676426936783, 37.96103842969294, 45.90873583558953, 78.44326409881518, 53.97603643229885, 73.46793534678491, 32.1662874054448, 52.769231130851004, 40.4828655211955, 25.579657120627687, 37.80933103705927, 40.407868635889734, 26.106457540353325, 58.03657602770452, 41.63208028059852, 35.7371466590996, 52.208312259003385, 35.82173254896946, 56.700184924758865, 36.892134024012655, 17.90611786632735, 53.130529599315075, 24.68915037601596, 49.67148668066192, 56.656840591308004, 28.990335378564886, 34.2104310161826, 62.20396967469184, 39.3046992075115, 36.942601461760496, 30.592557600598802, 65.87591037441831, 42.359245894825655, 48.74671491335226, 54.73605852659188, 88.27035544243296, 67.29066311175771, 49.727726723919794, 89.83575821477095, 70.28094780269612, 44.52824812094807, 41.290800626238415, 70.6075295984962, 61.814325359615815, 20.68906082904322, 90.89693380848527, 52.826215965226844, 53.76794242583136, 65.10209372149737, 54.91490783762652, 47.16390579775334, 26.085234798038336, 76.69570531019963, 45.2876719946991, 30.779282294175367, 40.525604146977365, 36.67436248625021, 17.168669013136252, 62.624814891656705, 95.85344767462257, 67.21184982739788, 86.80970394464472, 63.94455192958636, 62.168500723782905, 78.25653940523861, 58.96089614504812, 49.46931185028041, 53.73884430097444, 36.37110620979703, 24.278734968590996, 85.84279177209518, 87.02492105540921, 34.42775090397898, 54.150463636610404, 35.72169652229464, 77.52741758455551, 79.46319813611052, 54.929300616796446, 66.5827640333896, 23.751934548865364, 57.929416896732725, 73.69874916493029, 36.36518703371106, 49.96551707578622, 72.72973421534886, 53.159774294747926, 24.091412054472435, 67.55755158848103, 27.284770424613257, 54.26549815012414, 64.41376180726718, 32.998751958045624, 66.019290734544, 44.88684559183823, 82.77675791760609, 41.29927422932236, 31.52385425166343, 31.372000288453812, 81.54295726833323, 39.5361187333259, 49.82925981995752, 41.68134379013535, 70.82260013868469, 56.48301160753845, 69.43498931974628, 62.40006682017323, 64.9147708073788, 49.491286870840334, 49.230622649593094, 35.0571417773774, 63.346813608042844, 45.756881872379914, 17.56618871075422, 70.47569444939055, 84.19602128839941, 27.01712966964498, 80.38796990342018, 48.50696835502989, 47.99637035035416, 65.7866672805186, 52.27227362710024, 36.44279638985987, 51.8593037926773, 42.51305606449123, 33.14227888874726, 67.65773418573178, 76.23924457174988, 52.229681571894325, 66.47560490241781, 73.73301418762824, 83.75274940090853, 46.19564312641685, 35.380868517900616, 19.916143024943175, 50.32756782249522, 69.88432695389903, 63.20724964697123, 52.27804623261027, 37.5330701084311, 13.948168724594474, 42.40259022827653, 57.573285326109676, 40.822941247344566, 65.73695212101569, 44.27275828466883, 35.62773818051996, 40.446790862617554, 87.50958106989498, 70.04315745082968, 81.58038242569813, 45.892533420539614, 27.897507232995693, 29.153881123370496, 78.29973716811352, 19.216265899692935, 40.063370803017584, 67.29066311175771, 59.8794436568817, 33.46600562927048, 31.985188746802315, 29.762049254453927, 55.34091995243241, 85.32056002966857, 51.05834522135542, 62.761218718061365, 77.42603105909373, 31.826211679295717, 73.3930850320551, 73.28577933050735, 73.06268683720097, 68.51066920240268, 30.95250557027591, 84.20118818624042, 48.28327764118148, 75.05726185901182, 76.71813198072562, 17.265035211332957, 38.85626042217961, 60.14437592714908, 59.11866928434372, 42.77859404242762, 87.94256971842188, 27.724882177437145, 36.755730197607996, 69.66775934434762, 46.91809349276904, 55.30545100152346, 40.844163989659556, 36.408677937737885, 80.91341982435887, 83.45024540270032, 83.977497472392, 60.55809803981695, 61.242976678228295, 85.71095662298956, 49.87260415340838, 64.06941054497099, 42.98226594217204, 89.90092351107884, 65.38187790802769, 63.157534487468304, 28.288355476282746, 55.81920914086616, 52.618727666428335, 58.66431132292585, 91.59891371076742, 57.84227657986491, 51.6014946267069, 47.395178752991775, 71.37197379951229, 83.24852222228486, 61.48151930833965, 37.80933103705927, 71.72629573425533, 31.850887697429563, 41.09574890015387, 55.83922795497012, 22.327504280231018, 65.08799408347937, 45.905429130346626, 41.775607211300134, 85.74065296838847, 32.93283438349281, 51.90385205433919, 72.8882596328894, 54.1854809375533, 81.90486144446629, 63.37530602523075, 50.75463729493618, 80.29355991167944, 57.75558791296316, 60.80421542419135, 83.91870300213617, 41.22031437438658, 56.214772632028165, 25.34186676876127, 42.91680001758528, 77.26128138607714, 34.514891220846785, 55.26908320179361, 31.87802961583052, 30.889142422721058, 60.19725122131894, 51.859157222101366, 54.86338304224362, 44.8151554117754, 52.77770473393495, 19.74096354238666, 62.73166894323837, 42.577623140257096, 67.56587862098903, 89.425342807346, 82.64110636944636, 74.01535280115652, 43.567108553908575, 13.233293112505322, 58.80251729808352, 42.30361155923679, 51.63575964940484, 52.154538116012624, 57.35686428713421, 68.05525388334976, 47.792092742940746, 84.72086550166907, 50.78890231763412, 50.379385759030036, 47.323635143504866, 29.55140082098847, 78.51630477766497, 61.09959631810262, 17.4376602668915, 57.797581747627085, 63.35198050588385, 55.28408168863252, 37.04384141664632, 76.16057785796599, 93.29735556042206, 64.3704174738163, 33.51902749401629, 66.20024282261053, 82.09098043037383, 34.13161773182278, 33.39416887863168, 52.72723729618709, 84.49140218231065, 20.912153322349617, 46.54981849058394, 26.352123274761674, 66.13357296981277, 42.944694214231184, 54.33718833018698, 38.56223002705534, 60.07374310472128, 54.22927692097024, 95.76751128596578, 52.73436040048406, 62.57891613120787, 52.0769287598638, 61.713537054696054, 34.68309416968227, 91.71319594603617, 19.404341092056434, 20.631018637032327, 56.006678625560674, 78.4517377018991, 43.14701561518867, 75.17821554861149, 41.224130773440656, 43.342213911849164, 44.7666441804835, 65.11588828012526, 56.73700437445478, 41.91201103770478, 32.88371744453192, 44.72329984703263, 38.29384448096909, 59.22080808805041, 43.84824323922586, 35.99570810331496, 37.383770572219454, 78.81168567157621, 55.46307757024311, 70.88033725130549, 17.734245089013754, 71.79783934374223, 43.41405066248796, 81.53583416403623, 38.77730056724386, 19.135349838301202, 78.2777621475536, 78.70242376357251, 51.76489380093657, 53.159022016502995, 62.804563051512226, 92.29879083601764, 71.2273895111756, 74.07294334320139, 35.87355048550426, 82.57564044485963, 56.57667680816123, 35.67835218884377, 53.91844589025403, 70.80197561691173, 46.57816433719591, 80.61818550102356, 84.02084180584288, 57.2942534178243, 68.14239420021758, 63.30226534638094, 66.64035457543443, 28.786810049396408, 84.25863215770931, 33.04711661876157, 33.82078670110656, 78.89380566117896, 51.68728444478777, 69.45133830537213, 55.572339478246796, 73.25076202956447, 75.10637879797272, 61.45317346172768, 58.96104271562405, 82.83675631607295, 63.231779094529124, 44.81590769002033, 82.30238114208427, 44.997457998628896, 70.48191870486664, 84.77965997192493, 92.0752466927452, 78.24229319664465, 75.56771329311158, 35.35252267128865, 39.57946306677676, 41.95460309291072, 68.8431701742887, 32.44742209076208, 82.794164260867, 32.781578640825195, 85.29146190481165, 79.21753240170219, 22.429643083937734, 64.16307574559374, 92.21285444736085, 63.93757539586533, 46.85929902251319, 55.28197891160061, 79.51366557385836, 19.142472942598182, 66.63323147113744, 55.35712236748231, 69.39876809059237, 40.94434658691031, 65.55008085686319, 57.45765259205394, 78.37869702304931, 58.902101674792284, 44.80878458572335, 62.31337815327149, 65.75225568724471, 72.95297327923123, 77.15187290749748, 32.02853308025319, 40.2017308358782, 77.69081675878516, 64.38676645944216, 23.41988077583415, 40.454666245159466, 35.105653008669286, 56.829465646866545, 31.963966004487325, 73.29275586422838, 58.404399379923554, 64.64457562541256, 73.76923541678212, 64.02471571273313, 61.61927363353126, 41.913214965915806, 50.335894855003225, 57.58101413807565, 72.94705410314523, 73.98700695454457, 84.1585961310345, 28.035114987611358, 79.54201142047032, 86.86849841490056, 93.84672922124966, 59.03393682389791, 19.540744918461094, 62.680302656669646, 60.44868956123732, 51.45601148954933, 32.91206329114387, 44.845604035419264, 26.30165583701382, 56.38147851150074, 49.27973958855397, 57.911863982895845, 68.59023476500744, 52.60372917958943, 72.58590220525713, 38.503288986223545, 76.03129713585832, 23.130870707974935, 43.94205501042459, 63.143886499416375, 45.386504093162905, 43.62334859716645, 63.02098409048771, 87.32150587753145, 59.62545088996537, 25.000733684977128, 52.4086774535049, 70.07862640173866, 32.02276047474316, 49.83046374816852, 58.78827108948958, 37.40393595689937, 51.19564789658096, 67.60847067619497, 46.989930243407834, 68.45277358096772, 12.32397148200063, 38.836095037499696, 26.555648603930152, 42.51185213628023, 45.56745618122945, 88.74668842441073, 43.40115495268095, 81.32518573057078, 74.00702576864856, 29.6314180335593, 78.81288959978724, 49.33020702630184, 55.074783753954016, 42.49093447335536, 25.932628556583772, 88.10942216847042, 93.08595484871168, 66.36513906620311, 42.086291671440414, 19.344794343555655, 47.33061167722591, 44.09525947242117, 50.103271400977825, 56.62639196766413, 61.65549486268517, 42.85088244303247, 70.67921977855903, 29.11053678991962, 50.92028581677368, 92.2354276884628, 39.585833892828795, 58.80116679929659, 78.04709489998416, 65.65813883665587, 68.04221160296683, 68.5903813355834, 41.680444941314455, 45.618521839519325, 44.267132249734765, 77.61410625145726, 71.26285846208455, 24.15522685199334, 66.80600309727194, 69.80401660017631, 32.28964895146651, 40.185528420828284, 36.054502573570794, 91.54057089047762, 17.581638847559184, 58.383628287574616, 37.30375335964862, 69.93389554282601, 48.34723900927835, 31.17680199179332, 80.12048320615483, 73.13512929550876, 45.00533338117081, 55.7525392880684, 30.39735930393831, 82.94481429586563, 46.39796452737432, 73.38926863300105, 42.69190537552587, 76.7602723859655, 68.92820771412462, 80.64773527584654, 28.859850728246215, 89.87835026997689, 77.68714693030705, 92.28514284796574, 60.35698056707049, 92.62582428178379, 72.28976903310092, 20.095891184798695, 54.12211778999845, 29.955897052327458, 70.41143245301478, 21.844048193956255, 76.18375680673697, 30.96158488102885, 66.12067726000575, 78.30108766690051, 35.476030787886295, 43.00228475627602, 51.10183612538221, 33.41051786425755, 44.1151317159492, 42.469711731040356, 82.23571128928648, 47.11419063825041, 67.2989901442657, 27.313116271225226, 41.18168528881068, 47.01205183454372, 28.8577479512143, 44.0079725849774, 48.21158746111863, 88.31174356942788, 26.468508287062335, 77.49772123915659, 60.0887415915602, 60.1372528228521, 87.14963310021784, 15.263337085225118, 84.24573644790232, 46.20988933501081, 56.2885655891229, 55.27695858433554, 25.059528155232968, 88.59287825474516, 63.64931760625105, 91.62725955737938, 44.8151554117754, 26.07023631119943, 44.51977451786414, 86.70044203664102, 68.10100607322266, 67.00030254511154, 78.84198772464416, 59.474048576721806, 72.0157574520806, 35.801713734865466, 45.690212019582155, 21.665052312345686, 20.899257612542613, 38.545881041429475, 63.76435211976477, 57.9862551605326, 52.17074053106253, 41.69589507811943, 79.51351900328243, 63.21632895772415, 51.25444236683679, 39.03721251024616, 44.88684559183823, 52.537958175612566, 56.642740953289994, 75.51147324985374, 56.32403454003184, 44.15862261997602, 22.725023977848984, 48.50696835502989, 51.989788442995994, 57.883518136283875, 44.23031280003885, 60.54309955297804, 34.96347657675462, 58.1072088501323, 40.669736785348, 55.624157414781614, 71.76874121888531, 14.771553966442369, 30.51359774566304, 27.73777788724415, 66.16979419896666, 40.02790185210865, 67.42706693816237, 44.13058185275417, 45.53835805637254, 57.52146738957486, 82.794164260867, 45.70310772938915, 61.338138948213974, 75.5755886756535, 55.132227725422915, 61.524863641790525, 75.70667154651423, 70.68438667640004, 71.35210155598426, 91.45463450182083, 86.13104956170946, 64.53014681956785, 82.64943340195435, 54.77152747750085, 34.22678000180847, 61.8085527541058, 30.49237500334805, 73.91396627569478, 41.74726136468818, 61.057004262896676, 65.23714704911507, 42.78496486847964, 73.25076202956447, 79.23830349405108, 67.36355722003157, 73.71876797903428, 25.498289409269894, 71.28408120439954, 52.84954148457373, 21.83572116144827, 48.8540206149, 78.0457444011972, 59.9794796835565, 57.5176509905208, 42.7003789786098, 21.222984353065833, 75.38751348329001, 82.6189847783105, 59.67501947889232, 73.33032759216925, 82.53184446144269, 32.23220497999761, 59.13989202665869, 74.82659461144237, 50.50079109859579, 73.68240017930444, 87.46121640917903, 64.40798920175715, 27.85536682775583, 19.611682820278986, 31.979416141292283, 55.434731723631124, 37.58609197317693, 77.60577921894927, 77.10020154153861, 38.08956687355566, 50.87814541153383, 83.73062780977267, 76.39912048807736, 64.45268403399498, 70.36884039780887, 68.67631772424019, 32.990424925537646, 41.458104726253005, 51.81656516689544, 65.98306950539009, 43.12564630229773, 66.03353694313796, 48.90434148207191, 34.68676399816038, 54.273825182632116, 55.53687052733785, 79.0140070725337, 41.04528146240602, 50.697193323467296, 60.56522114411393, 34.30559328616828, 88.98327484806615, 62.6966516422955, 76.31438802763157, 57.603587379177604, 42.874354532955316, 58.586848537353, 65.98884211090012, 86.49234803017353, 90.87691499438131, 26.878923694487305, 69.60806602527089, 51.3041575263397, 22.596495533986264, 30.694696404305525, 75.69122140970924, 52.97080025356353, 32.968303334401746, 85.49378330576914, 41.75438446898516, 78.30108766690051, 53.599739476995886, 77.64837127415518, 29.984389469515378, 31.65568940076907, 54.367031246161865, 41.637852886108526, 57.95655881513368, 21.68642162523662, 49.98096721259119, 73.33610019767926, 60.16770144649596, 87.55292540334582, 35.65488009892092, 70.59830371716731, 46.89566682224304, 77.61290232324623, 60.499156998985164, 70.13621694378347, 33.589367175292175, 69.86295764100811, 28.22378840051688, 42.91042919153325, 29.774944964260925, 44.29031119850571, 63.52701341786442, 45.79826999937483, 68.82937561566081, 87.73522799019932, 47.56127892479535, 78.7561979065633, 65.07254394667439, 55.97818620837274, 83.00938137163149, 71.70994674862948, 40.29358640062096, 58.23889742866199, 26.944088990795173, 39.065704927434076, 52.48171813235469, 24.372998389755786, 31.2710654129581, 80.29355991167944, 62.18866610846283, 55.667501748232475, 82.03549266536092, 56.20052642343419, 26.727521381243747, 82.15765028317162, 35.959340303585115, 44.6666081538087, 85.53833156743099, 30.24550534072869, 82.15187767766159, 45.076124712412756, 35.5263516550582, 61.35088808744502, 25.672264963615405, 58.7740248808956, 55.62993002029162, 59.207765807667464, 46.39098799365329, 37.50487083239509, 70.88851771323752, 68.76345804110801, 39.60915941217569, 32.868120737150996, 85.73944904017748, 82.19311923408057, 35.135955061737214, 46.36294722643144, 70.25139802787314, 53.427114421437345, 61.027759567463825, 28.035114987611358, 76.98381652923794, 45.94300085828748, 45.1784100866954, 33.178951767867225, 35.88052701922529, 67.75912071119356, 53.95526533994991, 87.11341187106396, 77.2165865538393, 51.00030302934453, 61.12749051474851, 71.59686844157173, 60.24059555476982, 37.0509645209433, 70.81682753317469, 78.2201716055088, 43.16823835750365, 42.821186097633536, 20.161808759351516, 30.592411030022852, 45.15704077380449, 53.37042272821339, 62.75986821927439, 79.34801705202085, 44.52824812094807, 68.27302542111221, 49.699979097849855, 89.51127919600279, 18.38957395260212, 26.020521151696535, 60.90304752265515, 53.07293905727024, 85.96374546169488, 86.73666326579493, 49.736053756427786, 89.60433868895657, 53.601089975782834, 32.38270844442027, 62.804563051512226, 64.78218338002821, 35.04214329053848, 48.28462813996844, 53.486055462269114, 82.08385732607687, 68.04221160296683, 55.501853226394964, 23.057830029125142, 83.36355673579857, 55.89937292401293, 89.93137213472272, 68.1637635131085, 53.37619533372341, 52.14741501171563, 26.21451552014601, 73.78468555358708, 13.971494243941372, 18.326210805047268, 50.39138262001614, 64.98646098744166, 56.533479045286306, 20.703307037637174, 37.939063409133006, 73.11195034673781, 21.129924860112055, 61.68504463750812, 54.945356461270414, 72.00016074469968, 81.89578213371334, 70.60542682146428, 53.234018901808746, 86.01466454940879, 71.55232017990983, 84.10100558898966, 55.343022729464316, 38.64014446259426, 60.02207173876244, 60.52750284559712, 86.24412786876724, 38.12593467328551, 85.68973388067457, 47.1296407750554, 73.35882000935717, 62.78971113524927, 48.9773821609217, 51.45586491897338, 51.10048562659528, 38.79275070404882, 43.71896251711819, 38.149260192632404, 34.203307911885624, 51.40284305422755, 38.71985659577498, 77.80142916557583, 48.89721837777493, 96.52497895326084, 42.43926310739649, 80.054565631602, 83.19048003027396, 59.84187192894084, 35.85720149987839, 80.72654856020634, 76.24059507053684, 31.488836950720547, 85.84991487639218, 77.16491518788041, 22.191100453826373, 37.18024524305097, 57.675424129816385, 27.010006565347993, 66.94998167793963, 82.95771000567262, 34.679640893863414, 26.452305872012424, 69.73869724616551, 43.84703931101486, 22.8271627815557, 81.3923072333346, 16.352406875585338, 85.90750541843701, 55.68662171351557, 66.82130666350096, 69.84083604987222, 43.927056523585684, 82.35074580280019, 32.02988357904015, 66.22738474101149, 81.71558232389177, 73.12815276178773, 66.78523200492299, 34.53761103252469, 80.07593494449296, 46.60740903262876, 45.321937017397055, 52.13541815072953, 82.92936415906064, 83.62467260701189, 55.002947003315235, 66.66037338953839, 88.96115325693026, 57.97868040626957, 66.84979908068885, 75.44435174708988, 34.62354742118149, 62.26988724924467, 69.26813686969774, 44.621913321570865, 62.397964043141336, 37.216466472204864, 54.74318163088886, 73.79180865788408, 22.133058261815478, 70.52661353710445, 33.829260304190505, 71.68872400631449, 76.63099166385783, 37.86722665849421, 76.55097445128698, 33.40916736547059, 85.53000453492302, 43.79079926775699, 35.40434060782345, 77.98950435793932, 49.0995397787324, 61.322688811409, 32.82492297427607, 65.83121554218047, 65.51963223321931, 39.92651532664687, 65.1596842635422, 80.14882905276681, 89.15133122632568, 56.93205610053932, 81.93200336286725, 66.37226217050008, 35.123059351930216, 17.370990414093725, 90.86146485757632, 54.79275021981584, 80.87915480166092, 64.75383753341626, 41.34261856277322, 76.99304241056683, 82.2648094141434, 61.321789962588106, 62.02512036365723, 76.55217837949797, 33.4103712936816, 61.25205598898122, 15.813463024297654, 29.652787346450232, 46.7604669240494, 43.39403184838397, 83.53618179135711, 96.76276930512728, 27.030777657696923, 79.39848448976872, 36.12042014812361, 33.707102686379805, 38.15548444810849, 27.941303216412628, 26.67007740977487, 75.3383965443291, 67.35658068631054, 38.58922537488035, 76.06872229322323, 85.15505807840702, 24.713679823573862, 24.060963430828558, 90.608676018871, 64.3704174738163, 43.32144281950023, 43.03063060288799, 85.90615491965005, 61.86479279736367, 52.33563677465508, 86.03603386229972, 78.2906578573606, 23.217559374876686, 46.50857693416497, 69.19067408412488, 31.033275061091693, 55.471551173327036, 41.415512671047075, 55.24786045947862, 68.75633493681102, 50.1923679243016, 41.458104726253005, 55.29967839601344, 41.8628940987439, 45.96632637763437, 46.05091226750421, 73.53856816921268, 31.17815249058028, 35.25248664461383, 80.90764721884884, 76.45079185403623, 37.67929803670666, 73.15649860839969, 46.63785765627264, 55.29255529171646, 59.75001636419807, 64.27173194592845, 37.136900909600094, 40.67033500589, 53.015495085801355, 68.92318738685952, 33.539046308120284, 30.728814856427498, 67.35643411573457, 70.57130836934229, 59.285375163816276, 71.8417818977351, 50.892391620127775, 28.923665525767127, 79.43987261676361, 59.27172717576433, 54.626796618588195, 50.37346658294408, 54.569206076543374, 68.87984305340868, 72.8965866653974, 67.70017967036176, 84.33954821910103, 32.04473549530311, 41.97080550796063, 26.4097138168065, 49.93837515738526, 35.815959943459426, 47.56142549537129, 74.68688407979482, 48.52939502555588, 24.025946129885675, 40.46666310614557, 69.07369085128221, 64.81975510796909, 60.55007608669907, 33.829260304190505, 41.254725967660484, 24.302060487937894, 29.062025558627738, 33.18487094395318, 86.94610777104938, 22.55315120053539, 20.277441493407245, 54.77152747750085, 36.537059811024655, 59.0830537628588, 37.42726147624628, 35.97568928921097, 58.07173989922334, 69.3278301887745, 23.786951849808247, 84.89469448543863, 68.47534682206967, 54.401901976528784, 74.96285186727107, 78.16137713525293, 49.14348233272528, 96.61091534191766, 88.41965497864459, 67.9059543471381, 78.71150307432546, 22.87552744227164, 95.36166455583981, 32.71551449569643, 44.57144588382301, 87.57549864444778, 33.295336780167894, 49.3444532348958, 50.22677951757549, 41.88988944656891, 38.06257152573067, 42.90922526332225, 50.926510072249776, 44.432487630420376, 91.06423790849985, 42.24271431194904, 62.97778632761278, 73.0187442832081, 32.46152172878009, 51.03712247904043, 84.7137423973721, 61.7840233065479, 70.90291049240744, 47.777846534346786, 35.454661474995355, 38.36372502515193, 83.99249595923092, 54.73395574956, 68.64842352759428, 32.56501103127376, 19.88704490008626, 24.53985083980431, 84.36789406571299, 42.52715570250924, 42.65643642461692, 61.87311982987165, 65.1149894313044, 62.11091018173807, 77.28842330447807, 59.077281157348786, 37.817658069567265, 71.08175980344205, 58.20934765383901, 38.81989262244979, 37.073086112079174, 57.1260504689888, 83.34931052720461, 60.971067874239885, 70.22425610947218, 35.252340074037896, 30.043183939771218, 68.14374469900454, 22.746246720163974, 60.246368160279836, 78.39279666106734, 67.60149414247394, 80.32070183008042, 39.890294097492976, 38.60482208226126, 51.28856081895879, 74.78902288350153, 51.93099397274015, 67.82458663578032, 38.49556017425757, 50.60990643602354, 36.96517470286245, 65.66315916392097, 71.50064881395096, 55.63825705279961, 50.76767957531913, 81.08859930691537, 83.37780294439253, 59.79973152370098, 44.0079725849774, 84.346671323398, 82.06263458376188, 19.056536553941385, 67.73789796887857, 57.35686428713421, 74.62217043345302, 30.396008805151347, 62.87760373036202, 60.19012811702196, 86.96155790785434, 78.56722386537888, 44.08798979754824, 85.146731045899, 40.966468178046206, 67.35523018752357, 57.91913365776879, 27.646068893077334, 62.30625504897451, 60.00797210074443, 78.2197199555427, 68.25757528430722, 61.914507956866565, 92.22710065595484, 65.23017051539404, 34.81739521905501, 27.17550851660957, 73.89274353337979, 47.402301857288755, 54.380679234213794, 20.384148974412973, 72.281295430017, 62.73077009441749, 52.1978824494635, 65.94047745018418, 80.29355991167944, 76.935451868522, 76.94137104460796, 19.216265899692935, 38.95974972467331, 52.01176346355593, 77.96828161562433, 76.18255287852594, 60.63615904593183, 44.917294215482094, 84.8313313378838, 60.219372812454814, 77.82340418613575, 51.79323964754854, 75.72167003335312, 68.98714875495642, 71.07463669914509, 51.859157222101366, 58.25314363725595, 54.50463900077752, 47.04160160936669, 45.01943301918882, 61.12749051474851, 21.040681766212337, 81.62252283093798, 54.539509731144456, 49.38914806713361, 29.495014207154647, 71.56521588971682, 50.834947648658904, 74.78902288350153, 82.42378648165001, 13.385899353959893, 56.11594053356436, 42.75084641635765, 44.478532961445175, 48.47892758780804, 80.45253697918605, 63.35258621355285, 42.68492884180484, 70.20288679658123, 53.327078394762516, 41.86852013367797, 70.78652548010677, 34.7889028018671, 38.23519658128921, 72.13671114168028, 22.32038117593404, 38.14123823951453, 68.71890977944614, 64.88552611194595, 62.60224165055475, 48.62335336733056, 42.35332671873969, 57.10468115609786, 41.86866670425393, 91.0416646673979, 85.11126209499005, 76.80482064762737, 54.5899771688923, 51.12170836891027, 69.0374696221283, 54.14911313782347, 87.01779795111221, 31.525058179874442, 93.03548741096381, 94.59707378424775, 42.3662224285467, 83.77397214322355, 59.733960519724114, 71.49337913907803, 24.068086535125538, 28.53281728248008, 46.05226276629116, 83.54330489565407, 38.21307499015332, 51.737898453111576, 69.08914098808717, 74.00320936959449, 22.617718276301254, 57.718016185022314, 51.10881265910327, 46.32627434731146, 68.38093683032895, 23.744811444568377, 63.58460395990925, 31.510958541856432, 90.63837236426994, 60.939268751809045, 34.76768005955211, 56.764898571100694, 46.54269538628696, 67.66485729002878, 14.728209632991494, 81.67344191865192, 42.89557727527029, 22.920222274509477, 78.05421800428113, 82.10597891721275, 90.38513187559855, 59.50891930708874, 65.17468275038112, 17.13320006222731, 27.073369712902846, 55.81920914086616, 69.52423241364599, 69.60108949154986, 22.811712644750735, 22.18277342131838, 38.973849362691304, 45.54758393770141, 81.82529588186154, 15.141931745659377, 15.770118690846779, 47.5976467245252, 30.73016535521446, 57.74726088045518, 55.91347256203094, 75.92264093552365, 83.07409501797329, 63.418650358681624, 42.634461404056985, 65.77362500013564, 60.47853247721219, 44.65617834426879, 53.91889754022008, 52.4086774535049, 54.77152747750085, 25.044078018428003, 38.20017928034631, 64.81263200367209, 68.17861542937146, 80.40206954143818, 39.11737629339293, 53.70112600245765, 38.22927740520324, 51.615594264724926, 77.41770402658574, 73.27153312191342, 46.28870261937063, 73.43186068820697, 49.852585339304404, 37.67217493240968, 13.862232335937676, 80.92766603295283, 44.23728933375988, 70.43947322023666, 25.080750897547958, 73.06208861665897, 62.053466210269185, 65.04540202827346, 29.341956315734016, 58.6868845640278, 32.25418000055756, 37.65792872381571, 56.078368805623505, 72.56378061412124, 53.01759786283328, 87.38030034778728, 33.05559022184551, 47.38167733551577, 38.987949000709314, 43.01653096486998, 42.40244365770058, 74.56547874022905, 36.27804671684326, 51.00877663242846, 39.54189133883592, 53.586990337764824, 23.36229023378933, 28.64965394474681, 12.128773185340137, 41.218358167930624, 61.330869273341044, 50.17616550925168, 68.19406556617642, 74.45029765613941, 73.27078084366846, 88.98447877627714, 44.947742839125986, 77.06262981359777, 80.54769924917173, 32.910712792356925, 88.55073784950528, 37.62958287720375, 41.009060233252136, 53.48590889169318, 62.8059135502992, 80.09836161501894, 72.60712494757209, 88.70214016274886, 53.6883768632266, 93.10928036805856, 72.59789906624323, 35.5490714667361, 69.45831483909316, 81.05237807776146, 82.16267061043669, 50.54533936025768, 46.78881277066136, 49.68452896104487, 60.98381701347092, 71.35907808970529, 47.69191014568998, 40.39376899787174, 47.2646941026731, 27.146410391752653, 34.30559328616828, 19.684723499128786, 80.5087770224439, 51.55559586625807, 44.389289867545465, 28.49067687724021, 45.79826999937483, 32.97677693748569, 45.66051567418322, 88.60120528725315, 72.99887203968007, 87.01067484681522, 43.25432131673639, 90.44317406760945, 93.347070719925, 68.61295457668533, 55.32877652087034, 58.57762265602411, 60.60781319931986, 55.473507379782994, 13.342555020509018, 60.74542095393553, 38.617571221492305, 54.791546291604824, 31.64856629647209, 72.83201958963153, 25.766528384780194, 37.151899396439, 79.89618678463742, 52.25667691971932, 47.0203788670517, 62.571793026910875, 43.342213911849164, 39.16574095410888, 70.40520819753871, 80.24323904450753, 37.48350151950415, 37.07931036755526, 71.9660422925777, 66.83420237330793, 88.33506908877476, 83.2342760136909, 24.747944846271807, 82.90011946362779, 43.51618946619467, 39.71646511372344, 40.05579604875455, 28.614184993837867, 48.1539969190738, 48.04593893928112, 39.7598094471743, 84.33834429089, 48.2755488292155, 59.24217740094135, 88.21080869393217, 18.968045738286612, 56.62016771218804, 79.9969750895572, 62.123952462121004, 66.85692218498585, 47.47413860792752, 52.06282912184579, 15.423066430976668, 58.20357504832898, 21.64884989729576, 78.62556668566867, 13.342555020509018, 35.37389198417957, 84.68660047897114, 68.8431701742887, 46.781238016398326, 70.75226045740882, 58.05794534059546, 77.02716086268882, 34.56581030856071, 65.12211253560136, 73.14090190101876, 73.46095881306388, 35.77914049376353, 79.8877131815535, 47.26514575263915, 67.50843464952015, 16.411201345841178, 43.38555824530004, 49.40459820393858, 70.38323317697879, 36.068602211588804, 80.40206954143818, 61.74128468076599, 17.582391125804136, 85.51575832632906, 38.978869689956376, 36.54628569235354, 67.8670321204103, 43.97160478524757, 46.68742624519961, 63.08494545858458, 30.918240547577973, 53.477728429761136, 48.89069349401996, 55.348795334974334, 83.8044207668674, 33.178951767867225, 64.66077804046247, 50.56670867314862, 38.3797808696259, 32.40483003555617, 27.80369546179697, 59.85034553202477, 48.14687381477683, 53.32587446655152, 87.48956225579099, 30.202161007277816, 40.57472108593826, 47.23679990602718, 44.05844002272524, 58.794043694999594, 45.90738533680257, 41.97792861225761, 46.491024020328105, 55.885126715418984, 30.895667306476035, 56.243870756885066, 53.744616906484474, 39.52764513024196, 40.28766722453501, 60.978044407960915, 47.57687563217626, 85.35813175760941, 34.296367404839394, 30.454803275407194, 57.16984645240574, 64.64457562541256, 40.45256346812756, 56.642740953289994, 73.59525986243662, 31.567198585114305, 52.67766870726013, 30.758059551860363, 18.311964596453308, 42.06371843033846, 39.44807956763719, 78.09876626594303, 49.491286870840334, 27.25567229975635, 83.85533985458133, 56.98844271437314, 75.89489330945369, 93.81628059760578, 46.17442038410186, 68.1720905456165, 86.03468336351278, 39.75268634287732, 38.47419086136663, 57.31216945489637, 40.698082631959956, 69.46543794339016, 71.2348176948627, 54.61119991120729, 48.13989728105579, 73.87759847596493, 27.5651528316856, 76.68858220590263, 63.296492740870924, 39.36941285385331, 55.23376082146063, 41.86852013367797, 89.8583314558729, 28.24501114283187, 78.7619705120733, 52.57403283419051, 23.187110751232808, 77.25797468083422, 79.72296350853688, 89.41746742480407, 83.67514004475973, 57.50234742429178, 20.450066548965793, 68.2304333659063, 71.64035934559854, 87.11993675481892, 87.47411211898603, 76.16755439168702, 66.68174270242935, 59.66789637459535, 74.10339196684524, 49.28776154167185, 21.345141970876526, 58.28936486640985, 55.624157414781614, 44.41171653807145, 48.88432266796793, 51.26658579839886, 81.70845921959477, 22.986139849062297, 35.87932309101428, 65.54887692865219, 38.15638329692937, 69.4505860271272, 59.87021777555281, 87.37197331527929, 77.3601134845409, 20.571471888531534, 54.763200444992854, 51.10881265910327, 87.86375643406205, 40.91465024151139, 41.63072978181156, 80.20762352302265, 35.101836609615226, 51.54982326074805, 36.3144145165731, 34.37728346623113, 64.15534693362778, 66.59701024198355, 57.98565693999061, 59.35143930894504, 30.75138809752945, 63.78557486207975, 79.06567843849254, 53.43498980397927, 77.38845933115289, 24.350425148653834, 59.13276892236173, 74.65839166260687, 42.49093447335536, 73.47385452287088, 43.63879873397142, 62.71667045639946, 24.972839488331218, 33.40129198292866, 61.062776868406694, 71.74039537227333, 75.90186984317472, 28.27290533947778, 37.92346670175208, 55.21028873153778, 45.00443453234991, 86.34626667247394, 42.38954794789358, 66.3875657367291, 37.49062462380112, 16.54760517224583, 31.40034613506578, 49.38337546162361, 54.80639820786778, 71.60991072195466, 65.60767139890802, 82.56349701329756, 52.75572971337501, 33.141380039926354, 32.31222219256845, 55.861801196072086, 77.16611911609144, 66.24995798211344, 54.82897144896973, 87.18510205112679, 86.78713070354277, 66.4004614465361, 62.34959938242539, 74.83041101049645, 26.82268365122944, 36.91335676632763, 42.337876581934715, 41.7039170312373, 61.43937890309979, 43.4528263186398, 43.80430068523298, 68.11525228181662, 72.45451870611754, 24.090659776227483, 30.613780342913792, 23.404882288995253, 63.27316722152404, 57.718016185022314, 86.34049406696391, 69.42088968172826, 60.3124323054086, 48.47847593784197, 27.515437672182706, 37.684924071640715, 40.48878469728145, 37.74386511247251, 31.971089108784305, 54.95960266986436, 36.892134024012655, 38.30809068956305, 27.393280054372006, 46.89552025166709, 75.77213747110096, 40.879632940568506, 36.645117790817345, 61.59580154360844, 45.011105986680825, 38.46586382885864, 57.58948774115958, 20.5009856366797, 89.07753826923093, 33.749548171009785, 59.235054296644385, 35.16519975717008, 29.53062972863954, 46.84595166274013, 42.42381297059152, 42.34485311565576, 71.19237221023272, 50.78192578391309, 77.6707979446812, 38.0986461843086, 41.27729920876242, 34.63052395490251, 59.343417355827164, 60.57354817662192, 69.15505856264, 56.80749062630661, 52.98579874040242, 63.51170985163541, 49.0995397787324, 47.41789856466965, 65.1809070058572, 71.07598719793205, 47.33181560543691, 54.880789385504535, 69.2185682807708, 41.59450855265765, 47.11208786121852, 63.39532483933474, 63.757827236009824, 51.17217580665811, 32.47772414383001, 66.40181194532306, 19.56076373256508, 97.30577213990281, 59.509065877664675, 78.89380566117896, 79.0281067105517, 46.23823518162278, 37.01429164182334, 76.29818561258165, 57.94231260653972, 41.37673701489522, 68.77268392243687, 45.63914636129228, 40.127486228817396, 57.86927192768993, 58.94800043524112, 71.86255299008403, 84.13010371384658, 38.871710558984596, 62.87760373036202, 91.62725955737938, 23.809525090910192, 37.44015718605328, 57.22743699445059, 92.92697778120507, 65.05950166629145, 83.66089383616577, 91.25943620516034, 52.78482783823191, 64.07653364926796, 43.413904091911995, 22.30748546612704, 58.35542901153861, 49.42657322449853, 87.89997766321594, 43.538616136720655, 53.159022016502995, 84.58446167526444, 32.50029738493196, 68.00463987502596, 55.246656531267625, 36.43567328556289, 65.70058432128587, 39.99955600549668, 58.43424229589842, 61.208711655530344, 34.44320104078394, 38.57632966507335, 78.1621294134979, 44.939415806617994, 63.094024769337516, 81.4570208796764, 52.943658335162574, 39.30424755754543, 47.901354650944434, 36.92625247613463, 61.17008256995444, 46.30294882796458, 58.73855592998668, 27.984647549863503, 57.950639639047715, 38.22927740520324, 22.639087589192187, 80.054565631602, 61.65594651265122, 89.37367144138713, 46.70744505930357, 56.08744811637644, 62.74501630301143, 74.06004763339436, 73.26500823815843, 37.75676082227951, 78.31533387549445, 41.11832214125584, 51.87415570894027, 20.204400814557445, 33.30125595625385, 39.16574095410888, 58.65658251095987, 27.21308024455042, 22.140181366112458, 76.0028047186704, 50.92726235049472, 37.656724795604696, 38.083794268045644, 89.438238517153, 36.408531367161935, 36.09589070056571, 67.53542999734515, 64.3584206128302, 85.04654844864825, 52.04872948382778, 25.860791805944977, 88.92568430602131, 51.94644410954513, 51.36025099902164, 71.83555764225903, 75.69954844221724, 20.32078582685812, 70.28049615273005, 69.70914747134253, 74.85373652984333, 71.95696298182477, 33.33747718540776, 78.92792411330095, 53.255241644123736, 23.39655525648726, 78.79166685747222, 38.97976853877727, 70.64179462119412, 60.39124558976841, 37.04398798722227, 70.08529785606956, 85.62502023433274, 62.81303665459617, 77.75051007786189, 60.45595923611024, 19.748086646683632, 28.22243790172992, 42.33922708072169, 32.6729224404905, 51.028795446532435, 71.75329108208035, 70.63452494632119, 47.243923010324174, 75.83609883919783, 33.17197523414618, 81.01480634982065, 52.08405186416078, 38.878687092705626, 27.910854592768757, 37.78855994471035, 92.90695896710108, 70.69346598715299, 27.219304500026503, 44.05754117390436, 72.83914269392852, 81.62177055269305, 68.36016573798, 48.97025905662472, 71.0534139568301, 70.8582156601696, 88.60908066979508, 80.27098667057749, 64.59486046590965, 31.460491104108577, 52.66131972163428, 54.15623624212045, 90.58033017225904, 50.85571874100783, 61.91661073389849, 72.07897402905951, 66.66037338953839, 29.10461761383366, 83.76819953771351, 59.16456804479255, 58.26026674155293, 64.16322231616971, 58.31785728359775, 43.313115786992235, 31.539304388468402, 49.887907719637404, 67.88840143330123, 24.813862420824627, 33.14940199304423, 69.86873024651811, 72.72140718284089, 51.3673741033186, 12.32397148200063, 67.69320313664073, 51.6724325285248, 76.39912048807736, 24.742172240761782, 91.39659230980996, 76.4558121813013, 54.4678195510816, 78.08121335210615, 57.52492066539374, 37.953163047151016, 41.71666617046835, 47.36622719871081, 41.75423789840921, 40.81371536601568, 57.818951060518025, 62.99068203741978, 60.031297620091316, 38.43661913342577, 44.27275828466883, 63.930452291568365, 86.297902011758, 75.09925569367573, 30.143219966446026, 27.767474232643067, 50.551111965767696, 51.86717917521924, 49.1351553002173, 64.74094182360926, 28.360192226921534, 49.62191809173496, 47.627196499348166, 37.931940304836026, 50.34181403108919, 14.014086299147294, 38.423723423618775, 41.18880839310766, 95.74418576661887, 69.29160895962059, 65.02919961322351, 48.51394488875092, 57.343822006751246, 40.460890500635564, 81.94955627670413, 41.01813954400506, 26.77798881899161, 26.070988589444383, 49.895030823934384, 86.41930735132374, 47.0706997342236, 45.43832202969772, 80.13593334295982, 48.34342261022427, 57.118927364691835, 52.155436964833505, 69.89842659191706, 47.047520785452654, 76.61554152705284, 23.331841610145453, 34.335289631567214, 24.892675705184438, 30.253832373236683, 37.93785948092199, 81.62372675914901, 61.230080968421284, 78.55312422736088, 64.30585039805044, 68.64842352759428, 65.42536881205453, 80.84172964429601, 52.28592161515218, 72.28856510488993, 54.82911801954568, 35.612288043715004, 72.31174405366087, 35.46058065108132, 64.57363772359466, 25.551311274015724, 83.11668707317921, 28.793933153693395, 60.76543976803949, 35.780490992550476, 47.20845405941521, 22.016673249514803, 41.415512671047075, 42.49183332217624, 48.03896240556008, 58.33405969864767, 62.387171110366246, 48.20506257736367, 30.873692285916086, 69.3290341169855, 26.612486867730034, 67.91293088085914, 85.58759507696786, 82.02701906227699, 48.31874659209043, 82.25783288042237, 37.5848880449659, 78.09043923343503, 83.92005350092313, 86.57768619828832, 62.08848351121207, 54.50328850199056, 86.49812063568356, 38.746851943599985, 63.143739928840425, 48.39313776972718, 36.27107018312223, 26.886498448750352, 64.84097785028405, 50.90663782872175, 25.175913167533643, 71.99438813918968, 24.957389351526253, 56.17203400624627, 21.729765958687494, 35.17277451143311, 29.769172358750907, 81.15121017622528, 60.72284771283355, 66.72629096409122, 73.35034640627322, 22.748349497195882, 25.457047852850927, 38.864587454687616, 60.115883509961144, 51.90250155555224, 42.40259022827653, 26.430936559121484, 71.30605622495946, 91.58391522392853, 18.5930992817706, 75.92278750609958, 65.2689461715459, 74.03747439229241, 46.99915612473671, 67.07213929575033, 47.08494594281756, 53.15400168923792, 55.83225142124909, 56.70865852784282, 85.32768313396556, 58.518828185768264, 92.95667412660401, 38.988095571285264, 54.90913523211652, 78.2201716055088, 63.02233458927467, 34.557483276052714, 49.11513648611331, 33.72697492990783, 77.68002382601009, 34.73266275860923, 50.42197781423598, 26.013398047399548, 69.16945134180989, 87.66931041564652, 82.17189649176555, 81.69556350978777, 20.899257612542613, 51.30280702755275, 53.91071707828805, 88.20443786788013, 79.58535575392122, 74.00822969685956, 27.767474232643067, 26.300451908802806, 24.849331371733577, 31.63432008787813, 87.31648555026638, 18.456243805399886, 74.36907651535756, 59.84307585715185, 70.20925762263326, 78.35155510464836, 39.28332989462057, 44.80211313139244, 74.28224127787988, 17.820181477670552, 47.0203788670517, 26.193744427797085, 81.37806102474065, 75.65710295758726, 26.612486867730034, 58.72812612044677, 60.1372528228521, 57.3062502788104, 31.08509299762651, 30.925363651874953, 23.260151430082608, 32.30524565884742, 36.86880850466576, 56.374355407203744, 81.54993380205426, 49.67740585674789, 76.8624111896722, 50.892391620127775, 59.27052324755331, 88.61485327530508, 51.33902825670665, 42.90149645135627, 32.75308622363729, 76.27681629969072, 56.382829010287686, 50.09022912059488, 66.819350457045, 41.217007669143676, 63.758432943678805, 95.26860506288605, 17.80728576786356, 48.96328252290369, 24.965716384034245, 77.96828161562433, 76.73890307307454, 46.962788325006876, 30.225486526624714, 51.36025099902164, 42.022476873919494, 66.00384059773901, 48.53531420164186, 70.88791200556855, 76.40609702179839, 50.08325258687383, 55.874843476455034, 62.37659473025038, 81.4570208796764, 70.41855555731178, 57.11907393526777, 57.219109961942586, 50.060532775195945, 28.03646548639832, 38.980972466988284, 66.14069607410974, 39.124352827113974, 73.70587226922729, 34.29059479932938, 63.901959874380445, 54.93005289504138, 50.812227836981, 66.90724305215775, 72.38980505977574, 45.16281337931451, 78.36369853621042, 63.23755170003914, 22.133058261815478, 55.54399363163483, 67.93430019375006, 36.89790662952267, 53.70824910675463, 59.74108362402108, 45.95920327333737, 38.63392020711817, 30.95962867457289, 55.196941371764716, 36.08997152447974, 42.45546552244641, 40.807344539963644, 59.98780671606449, 70.10772452659555, 40.21612361504811, 83.67378954597277, 43.545739241017635, 29.500933383240607, 45.481666363148584, 73.9353355885857, 53.16097822295895, 75.2006422191375, 41.211987341878604, 48.78930696855817, 15.653733678546104, 66.46150526439979, 40.29493689940792, 42.707050432940726, 53.29085716560862, 45.726433248736036, 39.31955112377445, 22.125935157518498, 37.86010355419723, 72.3460090763588, 40.127486228817396, 64.28448108515951, 66.09945451769079, 36.67436248625021, 64.5023991934979, 29.197677106787438, 28.165746208505986, 18.643566719518446, 86.10135321631054, 31.154680400657433, 70.58540800736031, 68.24318250513733, 78.44326409881518, 41.9629301254187, 89.33153103614725, 47.502484454539506, 36.25472119749636, 29.09629058132567, 60.846355829431225, 61.577885506536354, 87.07659242136805, 73.12725391296684, 86.13104956170946, 32.92571127919583, 43.667144580583376, 22.25777030662413, 46.029689525189205, 63.40244794363172, 48.17521966138879, 34.56535865859464, 32.86039192518502, 74.31846250703376, 56.085345339344535, 50.86389920293987, 17.776837144219677, 16.477118920394, 85.55257777602498, 75.8877702051567, 54.01997898629174, 74.62292271169795, 75.09864998600673, 22.82003967725872, 55.508976330691944, 21.259205582219728, 77.57653452351641, 59.00348820025405, 16.781579125058187, 64.70532630212435, 54.526614021337444, 96.30976184249639, 89.33153103614725, 54.35990814186487, 74.50076509388725, 61.81567585840276, 46.007567934053334, 49.98898916570905, 47.58385216589729, 54.05028103935967, 66.65460078402836, 32.15339169563779, 58.68553406524084, 45.58882549412038, 46.512393333219045, 57.3062502788104, 48.61623026303358, 51.08758991678827, 63.171634125486314, 40.880385218813466, 30.939609860468913, 54.69151026493001, 48.449377812985055, 54.31596558787199, 39.74541666800439, 59.611656331337464, 45.199632829010405, 83.70348589137171, 36.06739828337779, 63.5491350090003, 61.907531423145535, 45.35725939773004, 74.2901166604218, 44.729072452542646, 59.1419948036906, 61.68384070929712, 67.90264764189521, 82.07808472056686, 69.96299366768292, 36.8695607829107, 94.12786390656697, 40.36662707947077, 25.738182538168225, 36.04662719102887, 38.00377705547482, 66.82842976779793, 58.672638355433854, 48.6091071587366, 61.049881158599696, 84.31622269975415, 62.36249509223237, 50.1466157344287, 38.753975047896965, 35.3041580105727, 50.31332161390127, 59.19170996319351, 60.498551291316154, 49.93004812487727, 55.3357530545914, 54.19260404185028, 86.29579923472608, 77.32389225538705, 76.89090360686012, 27.015779170858018, 64.053960408166, 51.10168955480629, 19.635008339625884, 73.74209349838117, 13.299962965303088, 78.29200835614756, 44.353820916636515, 83.03075068452242, 68.42352888553486, 82.90724256792475, 69.33405444425057, 70.40520819753871, 53.087185265864214, 24.437113815555584, 39.246657015500595, 71.8417818977351, 24.15522685199334, 19.72094472828268, 92.40730046577642, 62.78836063646232, 48.123548295429934, 55.41261013249525, 41.444005088234995, 64.53014681956785, 41.913214965915806, 37.910717562521036, 61.74143125134196, 41.465374401125935, 75.61120419713842, 50.05490674026188, 65.52158843967527, 89.26440953338343, 63.07159809881151, 52.62374799369342, 56.38860161579772, 59.913562109003685, 69.86100143455215, 40.73565435990081, 39.593709275370706, 58.36817815076966, 49.64891343955998, 35.8359787575634, 54.25049966328523, 90.13234303689322, 41.78985341989411, 71.06174098933809, 37.08598182188617, 81.1461898489602, 26.828456256739457, 49.766502380071664, 49.69983252727389, 33.40204426117361, 88.90566549191735, 52.79892747624992, 58.68568063581679, 26.120703748947278, 79.90316331835845, 75.72758920943909, 50.99242764680259, 71.42303945780216, 70.07164986801763, 40.12688052114839, 71.70417414311945, 46.680303140902616, 52.05435551876186, 46.84595166274013, 97.93395908509024, 86.81682704894169, 24.848127443522557, 87.87875492090095, 75.2665597936903, 17.995360960227067, 29.60096940991542, 76.44501924852622, 60.781642183089396, 81.03813186916753, 82.23571128928648, 59.42223064018699, 60.0887415915602, 59.37401255004699, 63.50458674733843, 62.58603923550485, 50.44515676300691, 37.44728029035024, 50.51684694306976, 47.51793459134448, 27.695637482004287, 28.10605288942925, 32.34858999229828, 57.82727809302602, 58.38377485815058, 72.28841853431396, 67.07544600099325, 34.89951520865775, 59.09017686715578, 41.41565924162304, 55.26998205061451, 72.12366886129735, 36.26380050824928, 33.51767699522933, 65.9474539839052, 64.3704174738163, 54.73470802780495, 32.32587018062039, 58.578973154811074, 48.2399333077306, 80.21354269910861, 19.127022805793217, 29.36452955683596, 47.799215847237726, 26.126476354457303, 47.808295157990635, 81.19590500846311, 47.00478215967079, 70.4123313018357, 55.97818620837274, 66.29330231556429, 31.263942308661136, 77.08595533294465, 39.54189133883592, 71.9648383643667, 71.78163692869231, 39.839826659745135, 54.24337655898825, 58.518828185768264, 38.95052384334442, 61.314813428867076, 48.19793947306669, 56.19460724734822, 33.30110938567791, 16.223878431722618, 52.748606609078045, 57.8493996841619, 72.46374458744643, 52.83514870540383, 89.74906954786923, 71.52262383451088, 67.90264764189521, 73.1352758660847, 81.36973399223265, 36.13466635671758, 25.04332574018305, 44.80301198021335, 42.577623140257096, 63.296346170294974, 46.31127586047257, 64.78218338002821, 67.11803805619917, 38.48843706996059, 96.56757100846679, 76.3848742794834, 90.86979189008431, 61.01943253495583, 57.91201055347181, 71.40046621670021, 87.96469130955776, 69.133835820325, 61.402706023979825, 36.2051526085694, 43.38615646584204, 30.606657238616812, 32.50742048922894, 20.03965114154083, 60.701930049908704, 42.62944107679191, 43.94917811472157, 55.87815018169794, 79.58580740388729, 28.844852241407303, 75.74168884745708, 24.298753782694973, 83.99174368098596, 30.657124676364667, 40.15583207542935, 89.13633273948676, 50.682947114873336, 63.13661682454343, 67.80958814894143, 71.54519707561283, 38.60482208226126, 33.82003442286162, 53.080062161567234, 51.382824240123576, 39.95486117325884, 77.9598080125404, 64.16884835110378, 55.97818620837274, 22.023796353811782, 26.90149693558925, 50.46652607589784, 80.33615196688535, 45.43817545912177, 20.637389463084354, 82.57639272310456, 44.181049290502024, 80.33690424513031, 52.908189384253625, 54.04907711114864, 74.2397957932499, 77.67881989779906, 18.101316162987843, 65.91715193083729, 44.05633724569335, 42.38122091538559, 69.32693133995357, 70.16666556742734, 42.237693984683965, 50.9945304238345, 40.6065202083691, 81.90486144446629, 49.02132471491458, 63.84571983112257, 28.994151777618953, 65.04540202827346, 68.8364987199578, 61.04080184784677, 45.50986563918462, 53.45756304508121, 54.2435231295642, 77.96828161562433, 56.25932089369004, 79.66551953706801, 59.13607562760463, 87.14130606770988, 82.63443491511546, 48.137794504023894, 49.85835794481442, 48.86947075170496, 57.00981202726408, 24.72792603216783, 66.53244316621769, 83.99174368098596, 75.23821394707835, 17.175792117433232, 31.07721761508457, 76.66008978871474, 78.34232922331947, 39.75966287659835, 90.23252563414397, 78.97839155104882, 61.82857156820976, 46.462678173716135, 35.794737201144436, 40.950871470665284, 50.031581220914994, 21.640522864787776, 88.59408218295616, 45.37225788456896, 27.83916441270592, 33.6786102691919, 21.144171068706015, 31.958046828401358, 41.08982972406792, 40.06291915305153, 81.54160676954626, 62.78258803095229, 33.12863090069532, 67.95431900785405, 47.048273063697614, 71.05476445561706, 45.36528135084793, 68.44610212663682, 47.33563200449098, 21.706440439340597, 72.78942753442561, 47.80117205369367, 26.076008916709448, 41.53571408240182, 50.328771750706245, 61.71930966020607, 31.611141139107183, 68.73631612270705, 37.36134390169345, 39.96198427755582, 37.43423800996731, 82.12720165952774, 49.085891790680456, 95.61565732275616, 93.27403004107518, 37.7426611842615, 41.71104013553427, 63.75025248174676, 80.30068301597643, 37.613233891577885, 45.14294113578648, 32.514091943559855, 80.89219708204385, 21.10735161901011, 58.937570625701234, 82.2519137043364, 75.26535586547931, 63.8670891440135, 40.309036537425946, 59.235054296644385, 64.03379502348608, 91.12258072878964, 53.73749380218748, 39.21028921577078, 71.57233899401382, 34.190412202078626, 52.28516933690724, 63.288019137786996, 45.35223907046498, 34.196331378164594, 77.20038413878936, 61.78733001179079, 29.155085051581516, 48.13277417675882, 63.27302065094809, 22.119410273763528, 80.70397531910439, 42.844511616980434, 46.53692278077694, 77.28115362960514, 29.233898335941333, 40.87918129060244, 40.63486605498107, 55.67949860921859, 29.876331489722695, 68.24332907571326, 68.43973130058478, 62.422493490699246, 50.234959979507515, 86.05935938164663, 72.65046928102299, 62.032243467954196, 70.00648457170973, 65.25259718592002, 60.47140937291521, 24.645806042565084, 20.045423747050847, 77.10867514462257, 59.24338132915235, 37.89436857689517, 96.22051874859667, 76.6369108399438, 73.8706219422439, 52.358063445181095, 43.784428441704954, 30.95962867457289, 66.64612718094443, 95.2019352100883, 80.0466902490601, 66.45092888428394, 74.608070795435, 71.52974693880788, 62.486003208830034, 87.45409330488204, 53.59988604757182, 72.31676438092592, 42.23192137917395, 60.15149903144606, 55.23241032267365, 51.469659477601276, 65.6651153703769, 45.761902199644986, 79.58655968213222, 63.22345206202113, 41.3709644093852, 84.8889218799286, 49.76529845186064, 54.671344880250096, 65.18682618194316, 74.21842648035894, 70.17364210114837, 37.07233383383423, 65.18682618194316, 58.95391961132709, 70.20288679658123, 75.90778901926066, 36.22045617479842, 41.25457939708452, 73.64115862288546, 31.561425979604287, 47.96014912120028, 61.26495169878822, 37.79418597964442, 68.25165610822125, 52.79195094252889, 40.66276025162697, 65.15121066045828, 64.99358409173863, 43.18248456609761, 47.40957153216167, 19.66927336232382, 47.72948187363084, 27.695185832038227, 55.14782443280382, 62.18274693237685, 71.2357165436836, 58.24691938177987, 45.08324781670972, 51.18972872049499, 64.38661988886622, 51.14518045883312, 78.12711211255498, 54.37265728109592, 49.49008294262932, 67.55177898297103, 60.57144539959001, 83.22715290939394, 59.91491260779063, 24.12808493359239, 78.01785020455131, 78.90670137098596, 72.5262088861804, 61.43105187059181, 70.79485251261474, 81.54295726833323, 23.57038424025682, 74.75280165434765, 41.00770973446517, 91.8721730135428, 74.22465073583504, 31.061767478279613, 62.039220001675226, 35.77141168179755, 66.61005252236649, 63.423670685946696, 63.6200729108182, 30.889142422721058, 41.552063068027685, 68.90833547059657, 59.1257923886407, 37.41878787316234, 67.33310859638766, 32.3989108594702, 56.44041955233252, 76.21922575764589, 58.59307279282908, 17.350971599989755, 48.284481569392476, 23.779828745511267, 66.45940248736787, 50.14646916385275, 72.93872707063724, 22.82003967725872, 65.39702296544255, 73.89259696280385, 29.799474411818828, 34.86073955250588, 30.14397224469098, 54.30809020533007, 66.54609115426962, 78.68817755497858, 44.520978446075155, 36.92835525316655, 28.381414969236523, 45.414996510350825, 43.009407860573, 86.4476531979357, 51.476636011322306, 56.707308029055845, 66.06765539525995, 52.27227362710024, 75.52512123790567, 63.42697739118962, 38.971893156235346, 78.87048014183205, 33.53192320382329, 77.34511499770201, 58.441365400195416, 74.74567855005066, 62.19062231491878, 53.983159536595814, 66.1932662888895, 51.26778972660987, 60.63601247535588, 58.05749369062939, 53.269487852717695, 36.60372966382243, 35.93946806005709, 91.12258072878964, 74.75355393259258, 34.13874083611976, 62.68817803921156, 82.30815374759428, 47.32153236647297, 57.862148823392936, 94.09741528292307, 24.588967778765202, 74.18220525120506, 65.82288850967251, 50.84057368359297, 44.77968646086645, 39.65752407289164, 73.92941641249973, 86.21578202215525, 74.15175662756118, 82.28617872703433, 37.931940304836026, 73.19984294185056, 36.92745640434564, 60.961841992911, 54.091669166354585, 64.71244940642134, 39.174966835437765, 71.50185274216199, 82.30950424638124, 48.20566828503268, 48.15189414204189, 26.265434607859923, 74.88418515348721, 53.54229550552699, 47.83529050581566, 61.38058443284395, 73.59736263946854, 69.42921671423625, 62.997805141716775, 55.35591843927131, 63.489588260499524, 89.26440953338343, 31.148907795147416, 66.94285857364267, 19.40103438681352, 37.341178517013525, 29.984389469515378, 55.477177208261104, 41.948830487400706, 71.4216889590152, 41.95580702112172, 60.86878249995721, 71.62536085875962, 77.88616162602162, 42.03551915430244, 26.063865485147396, 26.24998447105495, 83.31308929805073, 63.324838587482894, 46.846403312706194, 76.97092081943094, 69.21842171019483, 57.473102728858926, 47.58399873647324, 41.39931025599716, 50.660520444347334, 48.565762825285724, 39.60203630787871, 59.79973152370098, 56.36648002466183, 79.26664934066307, 92.04022939180231, 21.735538564197512, 85.45831435486019, 93.10928036805856, 60.284086458796644, 70.09227438979059, 85.83446473958719, 41.14546405965678, 83.78109524752051, 50.746456833004125, 48.116571761708904, 57.1131547591818, 38.757428323715835, 72.31113834599188, 69.43498931974628, 49.54797856406427, 78.50130629082608, 82.83750859431788, 27.934180112115655, 63.34560967983182, 35.01394401450248, 63.72235828510086, 52.040255880743835, 48.18369326447273, 46.97658288363477, 33.73499688302571, 58.969223177556096, 75.18533865290848, 32.996649181013716, 82.51894875163569, 42.18722654693611, 68.44475162784985, 39.231658528661704, 30.33144172938548, 70.68559060461106, 51.40298962480352, 31.496712333262472, 45.31601784131109, 24.646558320810037, 36.87653731663173, 76.45716268008826, 55.01598928369817, 40.22189622055813, 84.93016343634758, 74.74567855005066, 79.44895192751656, 80.048793026092, 80.77701599795421, 32.05898170389707, 67.54255310164214, 58.98924199166009, 34.79025330065405, 34.72433572610124, 78.68240494946855, 47.52505769564146, 73.53856816921268, 78.62361047921272, 54.995970469594205, 49.505533079434294, 36.17801069016844, 67.8599090161133, 73.17059824641771, 49.61404270919305, 60.766643696250505, 62.07423730261811, 46.028937246944274, 45.23465012995329, 69.09506016417313, 30.21701292354078, 47.02750197134866, 76.7390496436505, 30.63710586226069, 86.24743457401013, 75.8794431726487, 75.97370659381349, 61.67094499949011, 26.733440557329715, 62.9421708061279, 17.56949541599714, 91.52842745891562, 88.6749982443479, 93.83885383870773, 45.2125285388174, 83.29186655573574, 46.64483418999367, 41.91201103770478, 70.81682753317469, 35.98783272077302, 36.35108739569305, 36.49446775581874, 84.68660047897114, 59.61045240312645, 68.98122957887043, 75.10562651972776, 89.35154985025125, 75.32294640752414, 20.24062204371134, 44.97473818695098, 73.74088957017017, 80.6180389304476, 54.258521616403094, 36.65359139390129, 67.77322034921158, 97.06722950979145, 81.43565156678548, 62.22031866031772, 36.075725315885784, 57.25533119109648, 45.34451025849899, 73.8777450465409, 32.038962889793076, 26.692052430334805, 57.72011896205424, 76.60264581724584, 81.34259207383172, 70.02770731402472, 41.073627309017986, 56.67108679990195, 43.80430068523298, 37.96816153398992, 36.43581985613884, 29.199779883819346, 50.993179925047535, 55.299531825437505, 64.64773576007951, 76.32653145919363, 51.56392289876606, 37.72264237015752, 43.103671281737796, 63.38940566324876, 53.29160944385358, 34.090376175403826, 53.22569186930075, 22.840058491362697, 53.173121654521005, 27.18263162090654, 65.06542084237742, 76.48048819943517, 48.470600555300045, 65.86166416582435, 73.7407429995942, 81.07435309832141, 50.83359714987194, 88.71759029955382, 87.63886179200261, 38.55877675123647, 55.81133375832422, 65.88153640935238, 55.22528721837667, 84.98198137288239, 42.909823483864265, 64.63363612206152, 34.22588115298756, 26.48973102937733, 47.71192895979396, 51.10881265910327, 72.52696116442533, 29.60096940991542, 43.69638927601624, 26.033416861503525, 44.43263420099634, 76.04037644661125, 79.30211829157201, 88.94900982536822, 67.04379344913835, 65.24060032493395, 59.54071842951958, 76.566278017516, 34.29967411008233, 62.377945229037344, 17.50357784144432, 45.964975878847405, 86.02178765370579, 50.682947114873336, 71.69659938885641, 73.53977209742371, 54.127890395508466, 85.62502023433274, 35.924017923252116, 37.05808762524028, 52.9638237198425, 84.80088271423992, 39.70799151063948, 76.89210753507112, 46.028790676368324, 73.40126549398713, 65.32639014301478, 88.50814579429937, 70.8582156601696, 58.38242435936362, 61.94495658051044, 68.59870836809137, 50.76767957531913, 47.858762595738504, 33.19897058197119, 48.47892758780804, 72.5930253095541, 51.85338461659135, 44.360797450357545, 42.75796952065465, 52.00613742862186, 23.55036542615283, 76.19665251654394, 58.411669054796484, 57.79893224641403, 49.63406152329703, 67.75410038392849, 74.70885910035474, 60.89727491714515, 54.671344880250096, 67.5580032384471, 35.105653008669286, 73.95153800363562, 51.99556104850601, 32.377688117155195, 90.34178754214767, 50.16416864826558, 55.19814529997573, 68.6554000613153, 30.621655725455717, 31.935473587299406, 39.96198427755582, 64.60896010392767, 22.86263173246465, 38.704406458970006, 36.1171134428807, 31.425022153199627, 67.5708989482541, 28.791830376661487, 34.89239210436077, 81.81817277756454, 41.18153871823473, 77.50484434345356, 74.08202265395431, 43.99372637638346, 72.22505538675912, 61.73551207525599, 73.2424349970565, 53.3554242413745, 91.44630746931287, 56.22309966453614, 79.10902277194342, 44.36927105344147, 39.065558356858126, 58.990592490447035, 53.73884430097444, 42.771617508706576, 40.784165591192725, 60.788765287386376, 50.48774881821284, 46.84519938449518, 75.29370171209129, 92.4306259851233, 41.67346840759344, 36.89078352522568, 55.57946258254376, 46.52979967647996, 48.406785757779126, 58.73855592998668, 59.29384876690022, 78.45751030740914, 25.32446042550034, 60.548872158488074, 59.01848668709294, 40.879632940568506, 39.550218371343895, 47.12041489372651, 85.15581035665195, 25.333539736253286, 50.24875453813541, 27.839916690950865, 29.803290810872895, 53.98226068777493, 65.53448414948227, 47.99441414389822, 93.28115314537217, 33.32382919735581, 49.15772854131924, 35.100486110828264, 51.628489974531924, 55.64417622888559, 70.6701404678061, 56.64259438271406, 77.1085285740466, 54.05530136662474, 80.6051432206406, 68.89394269142667, 60.616140231827835, 45.92995857790452, 43.662270823894254, 42.50383018316236, 81.60752434409909, 56.78732524162668, 33.257911622802986, 76.565074089305, 39.9322879321569, 56.375705905990706, 56.0053281267737, 64.57273887477376, 42.08719052026131, 52.96577992629846, 38.91370439364851, 33.539798586365215, 23.889090653514955, 68.97290254636243, 39.31879884552952, 43.190359948639546, 15.291231281871028, 37.47562613696221, 32.348443421722344, 82.91511795046668, 65.81561883479955, 71.80496244803919, 72.68016562642191, 40.683982993941946, 67.976294028414, 87.47411211898603, 25.1892605273067, 37.816759220746356, 27.730654782947177, 72.52831166321229, 59.191563392617574, 37.72264237015752, 43.45649614711791, 33.467961835726435, 24.848127443522557, 77.4693753925446, 74.68898685682672, 81.50036521312728, 36.74013349022709, 50.78312971212409, 65.78741955876353, 53.477581859185186, 51.65833289050679, 95.33452263743888, 53.11642996129705, 34.153739322958664, 81.80984574505655, 50.31969243995331, 59.05395563800189, 25.499639908056857, 82.59776203599549, 38.943400739047426, 68.55401353585356, 32.521215047856835, 44.95276316639106, 66.01096370203601, 64.2420356005295, 75.31702723143817, 30.678347418679657, 68.7796604561579, 66.2144890312045, 76.99926666604293, 72.3259902622548, 25.535861137210752, 41.197135425615635, 36.031177054223896, 37.281180118546665, 26.547321571422167, 61.649575686599185, 50.52276611915571, 50.37346658294408, 58.902101674792284, 63.9012075961355, 81.29669331338286, 76.19665251654394, 27.644718394290372, 28.17909356827905, 44.8442535366323, 84.67947737467418, 74.2913205886328, 59.43722912702591, 52.169536602851515, 62.17441989986889, 37.223736147077794, 83.58785315731598, 72.82489648533456, 65.86151759524842, 24.06929046333655, 51.13018197199421, 54.517534710584506, 58.391650240692506, 15.39974091162977, 39.44883184588215, 78.48720665280806, 44.95351544463599, 68.63417731900034, 90.91950704958722, 92.30591394031464, 79.72296350853688, 22.703654664958044, 65.81696933358651, 30.743061065021458, 90.2984432086968, 19.084430750587295, 84.353794427695, 68.82104858315282, 71.59686844157173, 70.69331941657703, 62.11682935782404, 55.66539897120057, 60.46413969804227, 66.7567395877351, 64.81960853739312, 90.72430875292673, 46.5640646991779, 86.1155994249045, 83.76819953771351, 30.48525189905107, 26.64158499258695, 39.64538064132959, 40.11248774197848, 79.96908089291128, 66.40256422356799, 40.43254465402358, 66.5603373628636, 43.406927558190965, 53.970263826788845, 72.60712494757209, 34.869066585013876, 82.70702394399919, 52.4086774535049, 81.49324210883032, 83.52193558276315, 55.212391508569674, 49.482207560087396, 25.29019540280241, 42.58354231634308, 42.30226106044983, 68.64917580583923, 28.122401875055118, 34.60097418007954, 54.84321765756369, 47.92834999876944, 72.45662148314943, 86.40506114272978, 43.863095155488814, 80.01834440244812, 79.64294629596606, 70.0652790419656, 80.055916130389, 46.63575487924074, 72.83201958963153, 40.59594382825325, 65.64891295532698, 57.032385268366035, 95.87677319396946, 63.57762742618822, 52.89986235174563, 24.134004109678358, 60.89802719539008, 78.8271358083812, 31.568402513325317, 88.18823545283021, 69.49955639551212, 69.28313535653663, 91.08500900084877, 78.47873304972413, 38.77017746294687, 36.3156184447841, 57.147273211303805, 53.8246341190553, 75.29580448912319, 42.33075347763775, 60.717075107323545, 66.73476456717515, 73.05511208293794, 42.156777923292246, 63.909082978677425, 44.62903642586783, 30.072880285170143, 53.41999131714035, 39.48444736736703, 49.27988615912994, 55.37849168037325, 23.484447851600017, 40.72867782617978, 59.75001636419807, 78.79031635868529, 52.36593882772302, 49.97474295711509, 52.6179753881834, 69.78204157961639, 56.49013471183543, 86.96868101215134, 57.45187998654392, 49.51842878924128, 31.510958541856432, 37.17312213875399, 70.65589425921212, 40.258117449712024, 69.67473587806865, 39.42093764923623, 41.75438446898516, 39.08115506423905, 49.266843878746975, 74.49168578313433, 69.49378379000211, 61.43119844116776, 64.63363612206152, 63.344857401586886, 63.309388450677936, 66.47364869596186, 47.742231012861886, 33.71287529188982, 33.692856477785845, 39.17482026486183, 18.535057089759704, 29.53715461239451, 46.59451332282176, 29.991366003236408, 33.65408082163399, 37.02261867433133, 71.92014353212886, 22.016673249514803, 37.00124936144038, 30.187914798683856, 74.94087684671115, 39.86892478460205, 34.83937023961496, 20.724078129986097, 25.310214216906388, 45.41695271680678, 33.409619015436654, 65.28319238013987, 20.934726563451562, 40.54045606324032, 73.84925262935297, 38.161403624194456, 27.47088941052082, 39.917436015893934, 86.21578202215525, 75.19231518662951, 50.314672112688235, 32.97677693748569, 62.046343105972205, 39.08115506423905, 73.07768532403986, 58.962246643835066, 44.98898439554494, 48.45770484549305, 49.988842595133114, 69.98436298057385, 84.18694197764646, 25.882913397080863, 22.119410273763528, 69.98556690878488, 15.076014171106557, 50.15373883872568, 71.01914893413215, 45.84873743712267, 67.41919155562044, 65.70058432128587, 68.9669833702765, 69.66775934434762, 66.90026651843672, 51.332051722985604, 58.73143282568969, 62.82713629261418, 66.40181194532306, 73.46718306853995, 39.3034952793005, 51.23232077570092, 41.354761994335284, 43.81854689382694, 69.05291975893329, 70.46069596255163, 21.590807705284867, 38.77744713781981, 41.20621473636857, 39.98335359044676, 35.2808324912258, 47.44489391249467, 42.77206915867264, 30.136243432724996, 33.44463631637954, 71.14632687920792, 49.034972702966535, 59.04697910428086, 64.04669073329308, 47.70480585549698, 31.29955783014602, 44.7442175099575, 34.5667091573816, 72.25340123337108, 68.49536563617366, 45.06914817869171, 69.57259707436194, 69.8970760931301, 36.805298786534955, 36.197130655451524, 41.75303397019818, 39.21028921577078, 62.240190903845736, 67.82368778695943, 43.37070632903707, 77.32374568481109, 45.08400009495468, 61.98754863571636, 34.28557447206432, 47.779050462557784, 59.60543207586138, 71.27830859888954, 51.05909749960036, 48.83977440630604, 79.78767715487868, 59.336440822106134, 82.05551147946488, 49.259867345025945, 55.28197891160061, 77.08610190352061, 65.99731571398408, 49.28896546988286, 87.05536967905306, 22.377971717978873, 51.20974753459897, 22.88265054656862, 31.19937523289527, 36.44991949415685, 50.63247967712548, 49.887907719637404, 80.68275257678943, 66.61065823003548, 67.14713618105608, 54.24337655898825, 70.14334004808046, 81.11574122531633, 79.84571934688958, 34.515037791422735, 57.350945111048226, 75.6428567489933, 52.98700266861345, 30.202161007277816, 42.04961879232045, 32.58698605183371, 78.30108766690051, 26.872252240156392, 74.41152199998754, 83.24139911798787, 33.74834424279877, 60.687830411890694, 84.67235427037718, 91.28733040180626, 25.93458476303973, 78.35867820894532, 79.60792899502314, 30.578311392004842, 68.61993111040636, 61.04065527727082, 79.80312729168364, 56.08549190992047, 76.96259378692295, 28.08483014711426, 68.77058114540498, 39.5846299646178, 43.62334859716645, 38.177606039244374, 32.99799967980068, 56.63471900017213, 47.20725013120421, 76.14633164937203, 71.78509020451116, 21.12159782760407, 77.75763318215888, 89.70647749266328, 79.51486950206939, 35.46755718480235, 58.93390079722311, 67.182605131965, 71.43789137406512, 88.94825754712326, 50.03278514912599, 36.62509897671337, 54.51041160628754, 74.89618201447331, 40.619269347600145, 52.84241838027675, 65.33351324731177, 54.21503071237628, 53.911469356533, 50.85571874100783, 67.21687015466296, 46.16729727980488, 70.44780025274463, 62.94929391042488, 77.38980982993985, 69.29858549334162, 82.4471120009969, 51.665309424227836, 53.398768574825375, 69.85373175967922, 76.42154715860337, 66.26285369192044, 71.19102171144576, 62.761218718061365, 41.34839116828325, 66.12644986551578, 50.55125853634363, 39.18906647345579, 50.23510655008345, 79.67249607078904, 73.20486326911563, 60.5806712809189, 54.191705193029385, 44.6573822724798, 54.77152747750085, 49.266843878746975, 35.02804365252047, 36.4862872938867, 60.33230454893664, 48.558639720988744, 30.06650945911811, 33.40841508722564, 87.44366349534215, 18.795420682728064, 83.12456245572113, 61.96632589340138, 77.82932336222171, 31.29243472584904, 73.64707779897145, 92.55990670723097, 43.15413871948564, 69.29025846083363, 41.94958276564565, 67.63636487284086, 71.1638797930448, 58.137657473776166, 53.57184528034997, 78.71983010683346, 80.12881023866282, 73.2636577393715, 62.48720713704103, 65.88168297992834, 38.42237292483181, 48.64578003785656, 52.43185640227585, 52.208312259003385, 37.08598182188617, 88.60120528725315, 34.71856312059122, 91.05591087599188, 75.29384828266723, 69.60896487409178, 73.2574334838954, 60.946391856106025, 45.26299597656526, 73.78348162537608, 76.93410136973503, 70.31731560242596, 32.391934325749155, 36.045276692241906, 61.43817497488879, 87.33650436437037, 85.75354867819547, 63.61886898260719, 56.26509349920007, 60.75831666374251, 72.54255787180625, 61.27207480308521, 51.05001818884744, 64.03259109527505, 69.26176604364571, 63.430647219667726, 71.45791018816911, 14.771553966442369, 85.92040112824401, 72.5211885589153, 40.47453848868751, 55.28197891160061, 58.11051555537522, 57.48734893745287, 32.066104808194034, 76.85543465595117, 60.527649416173055, 89.64055991811045, 81.50734174684831, 67.48375863138631, 21.874496817600132, 20.35700705601201, 46.28157951507365, 43.588331296223565, 81.34259207383172, 32.44150291467613, 93.26113433126818, 22.76836831129986, 70.36884039780887, 21.74978477279147, 25.5946556074666, 39.83135305666119, 83.4211472778434, 50.536865757173736, 55.695701024268494, 34.02235582381909, 21.296025031915633, 56.186280214840245, 72.68593823193194, 94.05407094947222, 65.59132241328217]\n"
          ]
        }
      ]
    },
    {
      "cell_type": "markdown",
      "source": [
        "Regression Scores"
      ],
      "metadata": {
        "id": "chXCV2-Gwb09"
      }
    },
    {
      "cell_type": "code",
      "source": [
        "from sklearn.metrics import mean_squared_error, mean_absolute_error, r2_score\n",
        "mse = mean_squared_error(yc, y_pred)\n",
        "mae = mean_absolute_error(yc, y_pred)\n",
        "r2 = r2_score(yc, y_pred)\n",
        "\n",
        "print(\"Mean Squared Error (MSE):\", mse)\n",
        "print(\"Mean Absolute Error (MAE):\", mae)\n",
        "print(\"R-squared (R²) Score:\", r2)"
      ],
      "metadata": {
        "colab": {
          "base_uri": "https://localhost:8080/"
        },
        "id": "QWWGPhfVsMPN",
        "outputId": "786a1b96-7f73-4a9d-cdaa-6e5658031efb"
      },
      "execution_count": 300,
      "outputs": [
        {
          "output_type": "stream",
          "name": "stdout",
          "text": [
            "Mean Squared Error (MSE): 4.245176108662533\n",
            "Mean Absolute Error (MAE): 1.6375973348711341\n",
            "R-squared (R²) Score: 0.9884981216772581\n"
          ]
        }
      ]
    },
    {
      "cell_type": "markdown",
      "source": [
        "These values match the ones obtained from the sklearn library"
      ],
      "metadata": {
        "id": "6akhpP_8wdiw"
      }
    }
  ]
}